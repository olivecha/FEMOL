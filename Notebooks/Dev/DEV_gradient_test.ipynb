{
 "cells": [
  {
   "cell_type": "code",
   "execution_count": 1,
   "id": "absent-aquarium",
   "metadata": {},
   "outputs": [],
   "source": [
    "import os\n",
    "os.chdir('/Users/Olivier/anaconda3/envs/FEM')\n",
    "%load_ext autoreload"
   ]
  },
  {
   "cell_type": "code",
   "execution_count": 2,
   "id": "limited-interest",
   "metadata": {},
   "outputs": [],
   "source": [
    "%autoreload 2\n",
    "from FEMOL import RectangleQuadMesh, FEM_Problem, TOPOPT_Problem\n",
    "from FEMOL_utils import *"
   ]
  },
  {
   "cell_type": "code",
   "execution_count": 25,
   "id": "weighted-passenger",
   "metadata": {},
   "outputs": [],
   "source": [
    "from IPython.display import clear_output\n",
    "import matplotlib.pyplot as plt\n",
    "import scipy.signal as signal\n",
    "import scipy.optimize\n",
    "from matplotlib.colors import LogNorm"
   ]
  },
  {
   "cell_type": "markdown",
   "id": "million-bouquet",
   "metadata": {},
   "source": [
    "# Cantilever Square Topology Optimization\n",
    "\n",
    "## Mesh"
   ]
  },
  {
   "cell_type": "code",
   "execution_count": 81,
   "id": "miniature-clark",
   "metadata": {},
   "outputs": [
    {
     "data": {
      "image/png": "[encoded data removed]",
      "text/plain": [
       "<Figure size 432x288 with 1 Axes>"
      ]
     },
     "metadata": {
      "needs_background": "light"
     },
     "output_type": "display_data"
    }
   ],
   "source": [
    "nelx = 20 # elements in the x direction\n",
    "nely = 20 # elements in the y direction\n",
    "\n",
    "# Creating the mesh\n",
    "Lx = nelx\n",
    "Ly = nely\n",
    "\n",
    "plt.figure()\n",
    "mesh = RectangleQuadMesh(Lx, Ly, nelx, nely)\n",
    "mesh.plot()"
   ]
  },
  {
   "cell_type": "markdown",
   "id": "prostate-integrity",
   "metadata": {},
   "source": [
    "### Cantilever Square Topology Optimization Problem\n",
    "\n",
    "Defining the FEM problem"
   ]
  },
  {
   "cell_type": "code",
   "execution_count": 82,
   "id": "plastic-syria",
   "metadata": {},
   "outputs": [
    {
     "data": {
      "image/png": "[encoded data removed]",
      "text/plain": [
       "<Figure size 432x288 with 1 Axes>"
      ]
     },
     "metadata": {
      "needs_background": "light"
     },
     "output_type": "display_data"
    }
   ],
   "source": [
    "# Material proprieties\n",
    "E = 1\n",
    "nu = 0.3\n",
    "t = 1 # thickness\n",
    "\n",
    "# Creating the FEM Problem\n",
    "Problem = FEM_Problem(mesh) # initialize the problem\n",
    "Problem.isotropic_plane_stress_tensor(E, nu, t) # Define the stiffness tensor\n",
    "Problem.plane_stress_Ke() # Get the element stiffness matrix (constant for every element)\n",
    "\n",
    "# Boundary condition domains :\n",
    "\n",
    "# Fixed nodes on the left side\n",
    "x = [0]\n",
    "y = [[0, Ly]]\n",
    "fixed_domain_1 = create_domain(x, y)\n",
    "\n",
    "\n",
    "# Domain where the down force is applied\n",
    "x = [Lx]\n",
    "y = [0]\n",
    "force_domain = create_domain(x, y)\n",
    "\n",
    "# Defining the force\n",
    "force = [0, -1] #  Force = [Fx, Fy]\n",
    "\n",
    "\n",
    "Problem.assemble_plane_stress()\n",
    "Problem.add_fixed_domain(fixed_domain_1)\n",
    "Problem.add_forces(force, force_domain)\n",
    "Problem.fix_boundary()\n",
    "Problem.plot()"
   ]
  },
  {
   "cell_type": "markdown",
   "id": "earlier-gambling",
   "metadata": {},
   "source": [
    "## Benchmark optimization"
   ]
  },
  {
   "cell_type": "code",
   "execution_count": 83,
   "id": "known-tackle",
   "metadata": {},
   "outputs": [
    {
     "data": {
      "image/png": "[encoded data removed]",
      "text/plain": [
       "<Figure size 864x432 with 4 Axes>"
      ]
     },
     "metadata": {},
     "output_type": "display_data"
    }
   ],
   "source": [
    "TOPOPT = TOPOPT_Problem(Problem)\n",
    "\n",
    "converge=0.01\n",
    "max_loops=100\n",
    "animate=True\n",
    "c_values = []\n",
    "dc_values = []\n",
    "filterd_dc = []\n",
    "X_values = []\n",
    "\n",
    "change = 1\n",
    "loop = 0\n",
    "if animate:\n",
    "    fig, (ax1, ax2, ax3, ax4) = plt.subplots(1,4, figsize=(12,6))\n",
    "    clear_output(wait=True)\n",
    "\n",
    "while (change > converge) & (loop < max_loops):\n",
    "    Xold = TOPOPT.X\n",
    "    loop += 1\n",
    "\n",
    "    TOPOPT.single_material_FEM(Xold)\n",
    "    TOPOPT.c, TOPOPT.dc, c_array = TOPOPT.objective_function(Xold, return_c_array=True)\n",
    "    \n",
    "    c_values.append(c_array)\n",
    "    dc_values.append(TOPOPT.dc)\n",
    "    X_values.append(Xold)\n",
    "    \n",
    "    TOPOPT.filter_sensibility(Xold)\n",
    "    filterd_dc.append(TOPOPT.dc)\n",
    "    TOPOPT.X = TOPOPT.get_new_x(Xold)\n",
    "    change = np.max(np.abs(TOPOPT.X - Xold))\n",
    "    TOPOPT.results.X_solutions.append(TOPOPT.X)\n",
    "\n",
    "    if animate:\n",
    "        X_plot = np.flip(X_values[-1].reshape(TOPOPT.mesh.nely, TOPOPT.mesh.nelx), axis=0)\n",
    "        fdc_plot = np.flip(filterd_dc[-1].reshape(TOPOPT.mesh.nely, TOPOPT.mesh.nelx), axis=0)\n",
    "        dc_plot = np.flip(dc_values[-1].reshape(TOPOPT.mesh.nely, TOPOPT.mesh.nelx), axis=0)\n",
    "        c_plot = np.flip(c_values[-1].reshape(TOPOPT.mesh.nely, TOPOPT.mesh.nelx), axis=0)\n",
    "        clear_output(wait=True)\n",
    "        \n",
    "        ax1.imshow(X_plot, cmap='Greys')\n",
    "        title = \"Iteration : \" + str(loop) + ', variation : ' + str(np.around(change * 100, 1))\n",
    "        ax1.set_title(title)\n",
    "        \n",
    "        ax2.imshow(c_plot, norm=LogNorm(vmin=c_plot.min(), vmax=c_plot.max()))\n",
    "        ax2.set_title('c')\n",
    "        \n",
    "        ax3.imshow(np.abs(dc_plot), norm=LogNorm(vmin=np.abs(dc_plot).min(), vmax=np.abs(dc_plot).max()))\n",
    "        ax3.set_title('dX/dc')\n",
    "        \n",
    "        ax4.imshow(np.abs(fdc_plot), norm=LogNorm(vmin=np.abs(fdc_plot).min(), vmax=np.abs(fdc_plot).max()))\n",
    "        ax4.set_title('filtered dX/dc')\n",
    "        \n",
    "        plt.tight_layout\n",
    "        \n",
    "        display(fig)\n",
    "        plt.pause(0.1)\n",
    "        \n",
    "Result = TOPOPT.results"
   ]
  },
  {
   "cell_type": "markdown",
   "id": "needed-sigma",
   "metadata": {},
   "source": [
    "## Solving without gradient"
   ]
  },
  {
   "cell_type": "code",
   "execution_count": 110,
   "id": "about-filter",
   "metadata": {},
   "outputs": [
    {
     "data": {
      "image/png": "[encoded data removed]",
      "text/plain": [
       "<Figure size 576x432 with 2 Axes>"
      ]
     },
     "metadata": {},
     "output_type": "display_data"
    },
    {
     "ename": "IndexError",
     "evalue": "index 40 is out of bounds for axis 0 with size 40",
     "output_type": "error",
     "traceback": [
      "\u001b[0;31m---------------------------------------------------------------------------\u001b[0m",
      "\u001b[0;31mIndexError\u001b[0m                                Traceback (most recent call last)",
      "\u001b[0;32m<ipython-input-110-33c21cb29608>\u001b[0m in \u001b[0;36m<module>\u001b[0;34m\u001b[0m\n\u001b[1;32m     38\u001b[0m     \u001b[0mdc\u001b[0m\u001b[0;34m[\u001b[0m\u001b[0mdX\u001b[0m\u001b[0;34m==\u001b[0m\u001b[0;36m0\u001b[0m\u001b[0;34m]\u001b[0m \u001b[0;34m=\u001b[0m \u001b[0;36m0\u001b[0m\u001b[0;34m\u001b[0m\u001b[0;34m\u001b[0m\u001b[0m\n\u001b[1;32m     39\u001b[0m     \u001b[0mdc\u001b[0m\u001b[0;34m[\u001b[0m\u001b[0mdc\u001b[0m\u001b[0;34m>\u001b[0m\u001b[0;36m0\u001b[0m\u001b[0;34m]\u001b[0m \u001b[0;34m=\u001b[0m \u001b[0;36m0\u001b[0m\u001b[0;34m\u001b[0m\u001b[0;34m\u001b[0m\u001b[0m\n\u001b[0;32m---> 40\u001b[0;31m     \u001b[0mTOPOPT\u001b[0m\u001b[0;34m.\u001b[0m\u001b[0mdc\u001b[0m \u001b[0;34m=\u001b[0m \u001b[0;34m(\u001b[0m\u001b[0mdc\u001b[0m\u001b[0;34m)\u001b[0m\u001b[0;34m*\u001b[0m\u001b[0mdamping\u001b[0m\u001b[0;34m[\u001b[0m\u001b[0mloop\u001b[0m\u001b[0;34m]\u001b[0m\u001b[0;34m\u001b[0m\u001b[0;34m\u001b[0m\u001b[0m\n\u001b[0m\u001b[1;32m     41\u001b[0m \u001b[0;34m\u001b[0m\u001b[0m\n\u001b[1;32m     42\u001b[0m     \u001b[0mdc_values\u001b[0m\u001b[0;34m.\u001b[0m\u001b[0mappend\u001b[0m\u001b[0;34m(\u001b[0m\u001b[0mTOPOPT\u001b[0m\u001b[0;34m.\u001b[0m\u001b[0mdc\u001b[0m\u001b[0;34m)\u001b[0m\u001b[0;34m\u001b[0m\u001b[0;34m\u001b[0m\u001b[0m\n",
      "\u001b[0;31mIndexError\u001b[0m: index 40 is out of bounds for axis 0 with size 40"
     ]
    }
   ],
   "source": [
    "TOPOPT = TOPOPT_Problem(Problem)\n",
    "\n",
    "# Loop parameters\n",
    "change = 1\n",
    "loop = 0\n",
    "converge=0.04\n",
    "max_loops=40\n",
    "damping = np.exp(-np.linspace(0, 10, max_loops))\n",
    "\n",
    "# List to store iterations\n",
    "c_values = []\n",
    "dc_values = []\n",
    "filterd_dc = []\n",
    "X_values = []\n",
    "\n",
    "# Dynamic display figure\n",
    "fig, (ax1, ax2) = plt.subplots(1,2, figsize=(8,6))\n",
    "clear_output(wait=True)\n",
    "\n",
    "# Initial values\n",
    "X_values.append(TOPOPT.X)\n",
    "X_values.append(np.random.rand(TOPOPT.X.shape[0]))\n",
    "\n",
    "# Optimisation loop\n",
    "while (loop < max_loops) and (change > converge):\n",
    "    loop += 1\n",
    "\n",
    "    TOPOPT.single_material_FEM(X_values[-1])\n",
    "    c1, _, c_array1 = TOPOPT.objective_function(Xold, return_c_array=True)\n",
    "    \n",
    "    TOPOPT.single_material_FEM(X_values[-2])\n",
    "    c2, _, c_array2 = TOPOPT.objective_function(Xold, return_c_array=True)\n",
    "    \n",
    "    dC = c1 - c2\n",
    "    dX = X_values[-1] - X_values[-2]\n",
    "    \n",
    "    dc = dC/dX\n",
    "    dc[dX==0] = 0\n",
    "    dc[dc>0] = 0\n",
    "    TOPOPT.dc = (dc)*damping[loop]\n",
    "    \n",
    "    dc_values.append(TOPOPT.dc)\n",
    "    \n",
    "    #TOPOPT.filter_sensibility(Xold)\n",
    "    #filterd_dc.append(TOPOPT.dc)\n",
    "    \n",
    "    X_values.append(TOPOPT.get_new_x(X_values[-1]))\n",
    "    #change = np.max(np.abs(TOPOPT.X - Xold))\n",
    "    #TOPOPT.results.X_solutions.append(TOPOPT.X)\n",
    "\n",
    "    X_plot = np.flip(X_values[-1].reshape(TOPOPT.mesh.nely, TOPOPT.mesh.nelx), axis=0)\n",
    "    dc_plot = np.flip(dc_values[-1].reshape(TOPOPT.mesh.nely, TOPOPT.mesh.nelx), axis=0)\n",
    "    clear_output(wait=True)\n",
    "\n",
    "    ax1.imshow(X_plot, cmap='Greys')\n",
    "    title = \"Iteration : \" + str(loop) + ', variation : ' + str(np.around(change * 100, 1))\n",
    "    ax1.set_title(title)\n",
    "\n",
    "\n",
    "    ax2.imshow(np.abs(dc_plot))\n",
    "    ax2.set_title('dX/dc')\n",
    "\n",
    "    plt.tight_layout\n",
    "\n",
    "    display(fig)\n",
    "    plt.pause(0.1)\n",
    "        \n",
    "Result = TOPOPT.results"
   ]
  },
  {
   "cell_type": "code",
   "execution_count": 106,
   "id": "dedicated-minimum",
   "metadata": {},
   "outputs": [
    {
     "data": {
      "text/plain": [
       "array([1.00000000e+00, 3.67879441e-01, 1.35335283e-01, 4.97870684e-02,\n",
       "       1.83156389e-02, 6.73794700e-03, 2.47875218e-03, 9.11881966e-04,\n",
       "       3.35462628e-04, 1.23409804e-04])"
      ]
     },
     "execution_count": 106,
     "metadata": {},
     "output_type": "execute_result"
    }
   ],
   "source": [
    "np.exp(-np.linspace(0, 3, ))"
   ]
  },
  {
   "cell_type": "code",
   "execution_count": 97,
   "id": "colonial-listing",
   "metadata": {},
   "outputs": [
    {
     "data": {
      "text/plain": [
       "<matplotlib.collections.PathCollection at 0x7fb5ea9c8a00>"
      ]
     },
     "execution_count": 97,
     "metadata": {},
     "output_type": "execute_result"
    },
    {
     "data": {
      "image/png": "[encoded data removed]",
      "text/plain": [
       "<Figure size 432x288 with 1 Axes>"
      ]
     },
     "metadata": {
      "needs_background": "light"
     },
     "output_type": "display_data"
    }
   ],
   "source": [
    "fig, ax = plt.subplots()\n",
    "\n",
    "key = np.argsort(dX)\n",
    "\n",
    "ax.scatter(dX[key], dC[key])"
   ]
  },
  {
   "cell_type": "code",
   "execution_count": null,
   "id": "subtle-reward",
   "metadata": {},
   "outputs": [],
   "source": []
  }
 ],
 "metadata": {
  "kernelspec": {
   "display_name": "FEM",
   "language": "python",
   "name": "fem"
  },
  "language_info": {
   "codemirror_mode": {
    "name": "ipython",
    "version": 3
   },
   "file_extension": ".py",
   "mimetype": "text/x-python",
   "name": "python",
   "nbconvert_exporter": "python",
   "pygments_lexer": "ipython3",
   "version": "3.9.5"
  }
 },
 "nbformat": 4,
 "nbformat_minor": 5
}
