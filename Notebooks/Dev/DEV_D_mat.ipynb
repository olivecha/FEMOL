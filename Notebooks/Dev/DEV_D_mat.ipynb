{
 "cells": [
  {
   "cell_type": "code",
   "execution_count": 1,
   "metadata": {},
   "outputs": [],
   "source": [
    "%load_ext autoreload"
   ]
  },
  {
   "cell_type": "code",
   "execution_count": 2,
   "metadata": {},
   "outputs": [],
   "source": [
    "%autoreload 2\n",
    "from FEMOL import RectangleQuadMesh, FEM_Problem\n",
    "from FEMOL.utils import *\n",
    "from FEMOL.materials import general_isotropic\n",
    "import FEMOL.materials\n",
    "import numpy as np\n",
    "import time\n",
    "import scipy.linalg\n",
    "np.set_printoptions(linewidth=110)\n",
    "%config Completer.use_jedi = False"
   ]
  },
  {
   "cell_type": "code",
   "execution_count": 3,
   "metadata": {},
   "outputs": [],
   "source": [
    "# assignment 2\n",
    "material = FEMOL.materials.flax_epoxy()\n",
    "plies_s = [0, 30, -30, 45, -45, 90]\n",
    "plies_t = np.hstack([plies_s, np.flip(plies_s)])\n",
    "layup = FEMOL.laminate.Layup(material=material, plies=plies_s, symetric=True)"
   ]
  },
  {
   "cell_type": "code",
   "execution_count": 4,
   "metadata": {},
   "outputs": [],
   "source": [
    "# assignment 3\n",
    "material = FEMOL.materials.T300_N5208()\n",
    "plies_s = [0, 45, -45, 90, 90, 30, -30, 90]\n",
    "plies_t = np.hstack([plies_s, np.flip(plies_s)])\n",
    "layup = FEMOL.laminate.Layup(material=material, plies=plies_t, symetric=False)"
   ]
  },
  {
   "cell_type": "code",
   "execution_count": 5,
   "metadata": {},
   "outputs": [
    {
     "data": {
      "text/plain": [
       "True"
      ]
     },
     "execution_count": 5,
     "metadata": {},
     "output_type": "execute_result"
    }
   ],
   "source": [
    "# assignment 4\n",
    "reference_D_mat = np.array([[ 6292.09,   350.25,    15.41],\n",
    "                            [  350.25,  1599.72,     2.67],\n",
    "                            [   15.41,    2.67,    535.73], ])# kN * mm\n",
    "\n",
    "reference_A_mat = np.array([[211.678,   12.489,    0.],\n",
    "                            [12.489,     60.27,    0.],\n",
    "                            [0.,            0.,   18.899], ])\n",
    "\n",
    "material = FEMOL.materials.T300_N5208()\n",
    "\n",
    "plies_s = [0, 0, 0, 20, -20, 90]  # s\n",
    "plies_t = np.hstack([plies_s, np.flip(plies_s)])\n",
    "\n",
    "layup = FEMOL.laminate.Layup(material=material, plies=plies_t, symetric=False, z_core=0, h_core=0.010)\n",
    "\n",
    "np.allclose(layup.D_mat, reference_D_mat, 10e-3)"
   ]
  },
  {
   "cell_type": "code",
   "execution_count": 6,
   "metadata": {},
   "outputs": [
    {
     "data": {
      "text/plain": [
       "True"
      ]
     },
     "execution_count": 6,
     "metadata": {},
     "output_type": "execute_result"
    }
   ],
   "source": [
    "# Test for zc\n",
    "material = FEMOL.materials.general_carbon()\n",
    "\n",
    "# 1. summing D matrices (OK)\n",
    "\n",
    "plies1 = [0, 90, -45, 45]  # s\n",
    "layup1 = FEMOL.laminate.Layup(material=material, plies=plies1, symetric=True)  # no core\n",
    "plies2 = [45, -45]  # s\n",
    "layup2 = FEMOL.laminate.Layup(material=material, plies=plies2, symetric=True, h_core=layup1.h)\n",
    "plies3 = [45, -45, 0, 90, -45, 45]  # s\n",
    "layup3 = FEMOL.laminate.Layup(material=material, plies=plies3, symetric=True)  # no core\n",
    "combined_D = layup1.D_mat + layup2.D_mat\n",
    "np.allclose(combined_D, layup3.D_mat)\n"
   ]
  },
  {
   "cell_type": "code",
   "execution_count": 7,
   "metadata": {},
   "outputs": [
    {
     "data": {
      "text/plain": [
       "True"
      ]
     },
     "execution_count": 7,
     "metadata": {},
     "output_type": "execute_result"
    }
   ],
   "source": [
    "# 2. Summing two offset layups (OK)\n",
    "\n",
    "# total layup\n",
    "plies_all = [45, -45, -45, 45]\n",
    "layup_all = FEMOL.laminate.Layup(material=material, plies=plies_all, symetric=False, h_core=0.010)  # 10mm core\n",
    "\n",
    "# two halves\n",
    "plies_bottom = [45, -45]\n",
    "layup_b = FEMOL.laminate.Layup(material=material, plies=plies_bottom, symetric=False, h_core=0, z_core= -0.005 - material.hi) \n",
    "plies_top = [-45, 45]\n",
    "layup_t = FEMOL.laminate.Layup(material=material, plies=plies_top, symetric=False, h_core=0, z_core= 0.005 + material.hi) \n",
    "\n",
    "np.allclose(layup_b.D_mat, layup_t.D_mat)\n",
    "np.allclose(layup_b.D_mat + layup_t.D_mat, layup_all.D_mat)"
   ]
  },
  {
   "cell_type": "code",
   "execution_count": null,
   "metadata": {},
   "outputs": [],
   "source": []
  }
 ],
 "metadata": {
  "kernelspec": {
   "display_name": "Python 3",
   "language": "python",
   "name": "python3"
  },
  "language_info": {
   "codemirror_mode": {
    "name": "ipython",
    "version": 3
   },
   "file_extension": ".py",
   "mimetype": "text/x-python",
   "name": "python",
   "nbconvert_exporter": "python",
   "pygments_lexer": "ipython3",
   "version": "3.8.5"
  }
 },
 "nbformat": 4,
 "nbformat_minor": 4
}
