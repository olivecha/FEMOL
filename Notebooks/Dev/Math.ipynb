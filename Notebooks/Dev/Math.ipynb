{
 "cells": [
  {
   "cell_type": "code",
   "execution_count": 1,
   "metadata": {
    "slideshow": {
     "slide_type": "skip"
    }
   },
   "outputs": [],
   "source": [
    "%load_ext autoreload\n",
    "%autoreload 2\n",
    "from FEM_utils import *\n",
    "from sympy import *\n",
    "import matplotlib.pyplot as plt\n",
    "import latex\n",
    "import quadpy\n",
    "import timeit\n",
    "from scipy import linalg\n",
    "import numpy as np\n",
    "import matplotlib.pyplot as plt"
   ]
  },
  {
   "cell_type": "markdown",
   "metadata": {
    "slideshow": {
     "slide_type": "slide"
    }
   },
   "source": [
    "# Mathematical developpement for plane stress Finite Element Method formulation\n",
    "\n",
    "### Olivier Chabot\n",
    "### 07/06/2021"
   ]
  },
  {
   "cell_type": "markdown",
   "metadata": {
    "slideshow": {
     "slide_type": "slide"
    }
   },
   "source": [
    "# Quadrilateral plane stress element\n",
    "\n",
    "The quadrilateral plane stress element has 2 ddls per node, the displacement vector for one element goes as follow :\n",
    "\n",
    "$ u_{i} =  \\begin{bmatrix} u_{x} \\\\ u_{y}  \\end{bmatrix} $\n",
    "\n",
    "The whole displacement vector is : \n",
    "\n",
    "$ u_e = \\begin{bmatrix} u_1 \\\\ u_2 \\\\ u_3 \\\\ u_4 \\end{bmatrix} $\n",
    "\n",
    "Each element has : $ 4 \\times 2 = 8 $ ddls\n",
    "\n",
    "The general displacement on the element is given by : \n",
    "\n",
    "$ \\bar{U}(x,y) = N(x,y)u_e $\n"
   ]
  },
  {
   "cell_type": "markdown",
   "metadata": {
    "slideshow": {
     "slide_type": "subslide"
    }
   },
   "source": [
    "With $N$ such as : \n",
    "\n",
    "$ N = \\begin{bmatrix}N_1 & N_2 & N_3 & N_4 \\end{bmatrix} $\n",
    "\n",
    "Where matrices $N_i$, for $u_e$ with 2 ddls, having the shape : \n",
    "\n",
    "$ N_i = \\begin{bmatrix} N_i(x, y) & 0  \\\\ 0 & N_i(x, y)  \\end{bmatrix} $\n",
    "\n",
    "We choose the $N_i$ functions so that $N_i = 0$ if $n \\neq i$ and $N_i = 1$ if $n = i$"
   ]
  },
  {
   "cell_type": "markdown",
   "metadata": {
    "slideshow": {
     "slide_type": "subslide"
    }
   },
   "source": [
    "## Shape function of the isoparametric quadrilateral element\n",
    "\n",
    "We define the base  $\\vec{P} = \\begin{bmatrix} 1 & \\xi & \\eta & \\xi \\eta \\end{bmatrix}$\n",
    "\n",
    "With $\\xi$ and $\\eta$ the natural coordinates of the reference element : \n"
   ]
  },
  {
   "cell_type": "code",
   "execution_count": 3,
   "metadata": {
    "slideshow": {
     "slide_type": "subslide"
    }
   },
   "outputs": [
    {
     "data": {
      "image/png": "[encoded data removed]",
      "text/plain": [
       "<Figure size 576x576 with 1 Axes>"
      ]
     },
     "metadata": {
      "needs_background": "light"
     },
     "output_type": "display_data"
    }
   ],
   "source": [
    "# Graphique d'un élément quadrilatéral linéaire de référence\n",
    "quad_ref_ele_plot()"
   ]
  },
  {
   "cell_type": "code",
   "execution_count": 4,
   "metadata": {
    "slideshow": {
     "slide_type": "subslide"
    }
   },
   "outputs": [
    {
     "data": {
      "text/latex": [
       "$\\displaystyle \\left[\\begin{matrix}1 & \\xi & \\eta & \\eta \\xi\\end{matrix}\\right]$"
      ],
      "text/plain": [
       "Matrix([[1, xi, eta, eta*xi]])"
      ]
     },
     "execution_count": 4,
     "metadata": {},
     "output_type": "execute_result"
    }
   ],
   "source": [
    "# Vecteur P de la base polynomiale pour l'élément\n",
    "xi, eta = symbols('xi eta')\n",
    "P_v = Matrix([1, xi, eta, xi*eta]).T\n",
    "P_v"
   ]
  },
  {
   "cell_type": "markdown",
   "metadata": {
    "slideshow": {
     "slide_type": "subslide"
    }
   },
   "source": [
    "The $P$ matrix is computed by evaluating the $\\vec{P}$ vector for every node of the reference element :"
   ]
  },
  {
   "cell_type": "code",
   "execution_count": 5,
   "metadata": {
    "slideshow": {
     "slide_type": "subslide"
    }
   },
   "outputs": [
    {
     "data": {
      "text/latex": [
       "$\\displaystyle \\left[\\begin{matrix}1 & -1 & -1 & 1\\\\1 & 1 & -1 & -1\\\\1 & 1 & 1 & 1\\\\1 & -1 & 1 & -1\\end{matrix}\\right]$"
      ],
      "text/plain": [
       "Matrix([\n",
       "[1, -1, -1,  1],\n",
       "[1,  1, -1, -1],\n",
       "[1,  1,  1,  1],\n",
       "[1, -1,  1, -1]])"
      ]
     },
     "execution_count": 5,
     "metadata": {},
     "output_type": "execute_result"
    }
   ],
   "source": [
    "P = Matrix([[P_v.subs([(xi, -1), (eta, -1)])], # Point 1 (-1, -1)\n",
    "            [P_v.subs([(xi, 1), (eta, -1)])],  # Point 2 (1, -1)\n",
    "            [P_v.subs([(xi, 1), (eta, 1)])],  # Point 2 (1, 1)\n",
    "            [P_v.subs([(xi, -1), (eta, 1)])]])  # Point 2 (-1, 1)\n",
    "P"
   ]
  },
  {
   "cell_type": "markdown",
   "metadata": {
    "slideshow": {
     "slide_type": "subslide"
    }
   },
   "source": [
    "Shape functions are formed from the equation : $\\vec{N} = \\vec{P} \\times P^{-1}$\n",
    "\n",
    "Computing the inverse $P^{-1}$ : "
   ]
  },
  {
   "cell_type": "code",
   "execution_count": 6,
   "metadata": {
    "slideshow": {
     "slide_type": "subslide"
    }
   },
   "outputs": [
    {
     "data": {
      "text/latex": [
       "$\\displaystyle \\left[\\begin{matrix}\\frac{1}{4} & \\frac{1}{4} & \\frac{1}{4} & \\frac{1}{4}\\\\- \\frac{1}{4} & \\frac{1}{4} & \\frac{1}{4} & - \\frac{1}{4}\\\\- \\frac{1}{4} & - \\frac{1}{4} & \\frac{1}{4} & \\frac{1}{4}\\\\\\frac{1}{4} & - \\frac{1}{4} & \\frac{1}{4} & - \\frac{1}{4}\\end{matrix}\\right]$"
      ],
      "text/plain": [
       "Matrix([\n",
       "[ 1/4,  1/4, 1/4,  1/4],\n",
       "[-1/4,  1/4, 1/4, -1/4],\n",
       "[-1/4, -1/4, 1/4,  1/4],\n",
       "[ 1/4, -1/4, 1/4, -1/4]])"
      ]
     },
     "execution_count": 6,
     "metadata": {},
     "output_type": "execute_result"
    }
   ],
   "source": [
    "P_inv = P.inv()\n",
    "P_inv"
   ]
  },
  {
   "cell_type": "markdown",
   "metadata": {
    "slideshow": {
     "slide_type": "subslide"
    }
   },
   "source": [
    "Computing the expressions for $\\vec{N}$ : "
   ]
  },
  {
   "cell_type": "code",
   "execution_count": 7,
   "metadata": {
    "slideshow": {
     "slide_type": "subslide"
    }
   },
   "outputs": [
    {
     "data": {
      "text/latex": [
       "$\\displaystyle \\left[\\begin{matrix}\\frac{\\eta \\xi}{4} - \\frac{\\eta}{4} - \\frac{\\xi}{4} + \\frac{1}{4} & - \\frac{\\eta \\xi}{4} - \\frac{\\eta}{4} + \\frac{\\xi}{4} + \\frac{1}{4} & \\frac{\\eta \\xi}{4} + \\frac{\\eta}{4} + \\frac{\\xi}{4} + \\frac{1}{4} & - \\frac{\\eta \\xi}{4} + \\frac{\\eta}{4} - \\frac{\\xi}{4} + \\frac{1}{4}\\end{matrix}\\right]$"
      ],
      "text/plain": [
       "Matrix([[eta*xi/4 - eta/4 - xi/4 + 1/4, -eta*xi/4 - eta/4 + xi/4 + 1/4, eta*xi/4 + eta/4 + xi/4 + 1/4, -eta*xi/4 + eta/4 - xi/4 + 1/4]])"
      ]
     },
     "execution_count": 7,
     "metadata": {},
     "output_type": "execute_result"
    }
   ],
   "source": [
    "N = P_v*P_inv\n",
    "N"
   ]
  },
  {
   "cell_type": "markdown",
   "metadata": {
    "slideshow": {
     "slide_type": "subslide"
    }
   },
   "source": [
    "Factorizing the components of $\\vec{N}$"
   ]
  },
  {
   "cell_type": "code",
   "execution_count": 8,
   "metadata": {
    "slideshow": {
     "slide_type": "subslide"
    }
   },
   "outputs": [
    {
     "data": {
      "text/latex": [
       "$\\displaystyle \\left[\\begin{matrix}\\frac{\\left(\\eta - 1\\right) \\left(\\xi - 1\\right)}{4} & - \\frac{\\left(\\eta - 1\\right) \\left(\\xi + 1\\right)}{4} & \\frac{\\left(\\eta + 1\\right) \\left(\\xi + 1\\right)}{4} & - \\frac{\\left(\\eta + 1\\right) \\left(\\xi - 1\\right)}{4}\\end{matrix}\\right]$"
      ],
      "text/plain": [
       "Matrix([[(eta - 1)*(xi - 1)/4, -(eta - 1)*(xi + 1)/4, (eta + 1)*(xi + 1)/4, -(eta + 1)*(xi - 1)/4]])"
      ]
     },
     "execution_count": 8,
     "metadata": {},
     "output_type": "execute_result"
    }
   ],
   "source": [
    "N = Matrix([factor(n) for n in N]).T\n",
    "N"
   ]
  },
  {
   "cell_type": "markdown",
   "metadata": {
    "slideshow": {
     "slide_type": "subslide"
    }
   },
   "source": [
    "The individual shape function can be written from $\\vec{N}$ : \n",
    "\n",
    "$ N_1 = \\frac{1}{4}(1-\\xi)(1-\\eta) $\n",
    "\n",
    "$ N_2 = \\frac{1}{4}(1+\\xi)(1-\\eta) $ \n",
    "\n",
    "$ N_3 = \\frac{1}{4}(1+\\xi)(1+\\eta) $\n",
    "\n",
    "$ N_4 = \\frac{1}{4}(1-\\xi)(1+\\eta) $ \n",
    "\n",
    "We validate the shape of the $N_i$ by plotting them in the subdomain $\\xi, \\eta = [-1,1]$ :"
   ]
  },
  {
   "cell_type": "code",
   "execution_count": 9,
   "metadata": {
    "scrolled": true,
    "slideshow": {
     "slide_type": "subslide"
    }
   },
   "outputs": [
    {
     "data": {
      "image/png": "[encoded data removed]",
      "text/plain": [
       "<Figure size 1008x432 with 4 Axes>"
      ]
     },
     "metadata": {
      "needs_background": "light"
     },
     "output_type": "display_data"
    }
   ],
   "source": [
    "# Graphique de validation des Ni\n",
    "validate_N_fun()"
   ]
  },
  {
   "cell_type": "markdown",
   "metadata": {
    "slideshow": {
     "slide_type": "slide"
    }
   },
   "source": [
    "## Jacobian matrix for a bilinear quadrilateral element\n",
    "\n",
    "The jacobian matrix $J$ for a 2 dimension reference element is done as follow : \n",
    "\n",
    "$[J] = \\begin{bmatrix} \\frac{\\partial \\vec{N}}{\\partial \\xi} \\\\ \\frac{\\partial \\vec{N}}{\\partial \\eta} \\end{bmatrix} \\times \\begin{bmatrix} \\vec{x} & \\vec{y} \\end{bmatrix} $\n",
    "\n",
    "With $N$ the shape function vector and $\\vec{x}, \\vec{y}$ the coordinates of the nodes in the $x$, $y$ domain.\n",
    "\n",
    "We define $S$ so that : $S = \\begin{bmatrix} \\vec{x} & \\vec{y} \\end{bmatrix} $"
   ]
  },
  {
   "cell_type": "code",
   "execution_count": 1,
   "metadata": {},
   "outputs": [],
   "source": [
    "import numpy as np"
   ]
  },
  {
   "cell_type": "code",
   "execution_count": 6,
   "metadata": {},
   "outputs": [
    {
     "data": {
      "text/plain": [
       "array([[1, 2, 3, 3, 5, 6],\n",
       "       [1, 2, 3, 4, 5, 6]])"
      ]
     },
     "execution_count": 6,
     "metadata": {},
     "output_type": "execute_result"
    }
   ],
   "source": [
    "x = np.array([1, 2, 3, 3, 5, 6])\n",
    "y = np.array([1, 2, 3, 4, 5, 6])\n",
    "S = np.vstack([x.T, y.T])\n",
    "S"
   ]
  },
  {
   "cell_type": "code",
   "execution_count": 10,
   "metadata": {
    "slideshow": {
     "slide_type": "subslide"
    }
   },
   "outputs": [
    {
     "data": {
      "text/latex": [
       "$\\displaystyle \\left[\\begin{matrix}x_{1} & y_{1}\\\\x_{2} & y_{2}\\\\x_{3} & y_{3}\\\\x_{4} & y_{4}\\end{matrix}\\right]$"
      ],
      "text/plain": [
       "Matrix([\n",
       "[x_1, y_1],\n",
       "[x_2, y_2],\n",
       "[x_3, y_3],\n",
       "[x_4, y_4]])"
      ]
     },
     "execution_count": 10,
     "metadata": {},
     "output_type": "execute_result"
    }
   ],
   "source": [
    "x_1, x_2, x_3, x_4 = symbols(\"x_1 x_2 x_3 x_4\")\n",
    "y_1, y_2, y_3, y_4 = symbols(\"y_1 y_2 y_3 y_4\")\n",
    "X = Matrix([x_1, x_2, x_3, x_4]).T\n",
    "Y = Matrix([y_1, y_2, y_3, y_4]).T\n",
    "S = Matrix([[X], [Y]]).T\n",
    "S"
   ]
  },
  {
   "cell_type": "markdown",
   "metadata": {
    "slideshow": {
     "slide_type": "subslide"
    }
   },
   "source": [
    "We compute the $\\bar{N}$  matrix which is equal to : $\\begin{bmatrix} \\frac{\\partial \\vec{N}}{\\partial \\xi} \\\\ \\frac{\\partial \\vec{N}}{\\partial \\eta} \\end{bmatrix}$"
   ]
  },
  {
   "cell_type": "code",
   "execution_count": 11,
   "metadata": {
    "slideshow": {
     "slide_type": "subslide"
    }
   },
   "outputs": [
    {
     "data": {
      "text/latex": [
       "$\\displaystyle \\left[\\begin{matrix}\\frac{\\eta}{4} - \\frac{1}{4} & \\frac{1}{4} - \\frac{\\eta}{4} & \\frac{\\eta}{4} + \\frac{1}{4} & - \\frac{\\eta}{4} - \\frac{1}{4}\\\\\\frac{\\xi}{4} - \\frac{1}{4} & - \\frac{\\xi}{4} - \\frac{1}{4} & \\frac{\\xi}{4} + \\frac{1}{4} & \\frac{1}{4} - \\frac{\\xi}{4}\\end{matrix}\\right]$"
      ],
      "text/plain": [
       "Matrix([\n",
       "[eta/4 - 1/4, 1/4 - eta/4, eta/4 + 1/4, -eta/4 - 1/4],\n",
       "[ xi/4 - 1/4, -xi/4 - 1/4,  xi/4 + 1/4,   1/4 - xi/4]])"
      ]
     },
     "execution_count": 11,
     "metadata": {},
     "output_type": "execute_result"
    }
   ],
   "source": [
    "N_bar_1 = diff(N, xi)\n",
    "N_bar_2 = diff(N, eta)\n",
    "\n",
    "N_bar = Matrix([N_bar_1, N_bar_2])\n",
    "N_bar"
   ]
  },
  {
   "cell_type": "markdown",
   "metadata": {
    "slideshow": {
     "slide_type": "subslide"
    }
   },
   "source": [
    "We compute the Jacobian matrix $J$ : "
   ]
  },
  {
   "cell_type": "code",
   "execution_count": 12,
   "metadata": {
    "scrolled": true,
    "slideshow": {
     "slide_type": "subslide"
    }
   },
   "outputs": [
    {
     "data": {
      "text/latex": [
       "$\\displaystyle \\left[\\begin{matrix}\\frac{x_{1} \\left(\\eta - 1\\right)}{4} - \\frac{x_{2} \\left(\\eta - 1\\right)}{4} + \\frac{x_{3} \\left(\\eta + 1\\right)}{4} - \\frac{x_{4} \\left(\\eta + 1\\right)}{4} & \\frac{y_{1} \\left(\\eta - 1\\right)}{4} - \\frac{y_{2} \\left(\\eta - 1\\right)}{4} + \\frac{y_{3} \\left(\\eta + 1\\right)}{4} - \\frac{y_{4} \\left(\\eta + 1\\right)}{4}\\\\\\frac{x_{1} \\left(\\xi - 1\\right)}{4} - \\frac{x_{2} \\left(\\xi + 1\\right)}{4} + \\frac{x_{3} \\left(\\xi + 1\\right)}{4} - \\frac{x_{4} \\left(\\xi - 1\\right)}{4} & \\frac{y_{1} \\left(\\xi - 1\\right)}{4} - \\frac{y_{2} \\left(\\xi + 1\\right)}{4} + \\frac{y_{3} \\left(\\xi + 1\\right)}{4} - \\frac{y_{4} \\left(\\xi - 1\\right)}{4}\\end{matrix}\\right]$"
      ],
      "text/plain": [
       "Matrix([\n",
       "[x_1*(eta - 1)/4 - x_2*(eta - 1)/4 + x_3*(eta + 1)/4 - x_4*(eta + 1)/4, y_1*(eta - 1)/4 - y_2*(eta - 1)/4 + y_3*(eta + 1)/4 - y_4*(eta + 1)/4],\n",
       "[    x_1*(xi - 1)/4 - x_2*(xi + 1)/4 + x_3*(xi + 1)/4 - x_4*(xi - 1)/4,     y_1*(xi - 1)/4 - y_2*(xi + 1)/4 + y_3*(xi + 1)/4 - y_4*(xi - 1)/4]])"
      ]
     },
     "execution_count": 12,
     "metadata": {},
     "output_type": "execute_result"
    }
   ],
   "source": [
    "J = N_bar * S\n",
    "J = simplify(J)\n",
    "J"
   ]
  },
  {
   "cell_type": "markdown",
   "metadata": {
    "slideshow": {
     "slide_type": "subslide"
    }
   },
   "source": [
    "The determinant of the $J$ matrix : "
   ]
  },
  {
   "cell_type": "code",
   "execution_count": 13,
   "metadata": {
    "slideshow": {
     "slide_type": "subslide"
    }
   },
   "outputs": [
    {
     "data": {
      "text/latex": [
       "$\\displaystyle \\eta \\left(- \\frac{x_{1} y_{2}}{8} + \\frac{x_{1} y_{3}}{8} + \\frac{x_{2} y_{1}}{8} - \\frac{x_{2} y_{4}}{8} - \\frac{x_{3} y_{1}}{8} + \\frac{x_{3} y_{4}}{8} + \\frac{x_{4} y_{2}}{8} - \\frac{x_{4} y_{3}}{8}\\right) + \\frac{x_{1} y_{2}}{8} - \\frac{x_{1} y_{4}}{8} - \\frac{x_{2} y_{1}}{8} + \\frac{x_{2} y_{3}}{8} - \\frac{x_{3} y_{2}}{8} + \\frac{x_{3} y_{4}}{8} + \\frac{x_{4} y_{1}}{8} - \\frac{x_{4} y_{3}}{8} + \\xi \\left(- \\frac{x_{1} y_{3}}{8} + \\frac{x_{1} y_{4}}{8} + \\frac{x_{2} y_{3}}{8} - \\frac{x_{2} y_{4}}{8} + \\frac{x_{3} y_{1}}{8} - \\frac{x_{3} y_{2}}{8} - \\frac{x_{4} y_{1}}{8} + \\frac{x_{4} y_{2}}{8}\\right)$"
      ],
      "text/plain": [
       "eta*(-x_1*y_2/8 + x_1*y_3/8 + x_2*y_1/8 - x_2*y_4/8 - x_3*y_1/8 + x_3*y_4/8 + x_4*y_2/8 - x_4*y_3/8) + x_1*y_2/8 - x_1*y_4/8 - x_2*y_1/8 + x_2*y_3/8 - x_3*y_2/8 + x_3*y_4/8 + x_4*y_1/8 - x_4*y_3/8 + xi*(-x_1*y_3/8 + x_1*y_4/8 + x_2*y_3/8 - x_2*y_4/8 + x_3*y_1/8 - x_3*y_2/8 - x_4*y_1/8 + x_4*y_2/8)"
      ]
     },
     "execution_count": 13,
     "metadata": {},
     "output_type": "execute_result"
    }
   ],
   "source": [
    "J_det = det(J)\n",
    "J_det = collect(collect(J_det, xi), eta)\n",
    "J_det"
   ]
  },
  {
   "cell_type": "markdown",
   "metadata": {
    "slideshow": {
     "slide_type": "subslide"
    }
   },
   "source": [
    "Which can be rearranged as : \n",
    "\n",
    "$det(J) = A_0 + A_1\\xi + A_2\\eta$\n",
    "\n",
    "with:\n",
    "\n",
    "$A_0 = \\frac{1}{8}(x_1y_2 - x_1y_4 - x_2y_1 + x_2y_3 - x_3y_2 + x_3y_4 + x_4y_1 - x_4y_3)$\n",
    "\n",
    "$A_1 = \\frac{1}{8}(-x_1y_3 + x_1y_4 + x_2y_3 - x_2y_4 + x_3y_1 - x_3y_2 - x_4y_1 + x_4y_2)$\n",
    "\n",
    "$A_2 = \\frac{1}{8}(-x_1y_2 + x_1y_3 + x_2y_1 - x_2y_4 - x_3y_1 + x_3y_4 + x_4y_2 - x_4y_3)$\n"
   ]
  },
  {
   "cell_type": "markdown",
   "metadata": {
    "slideshow": {
     "slide_type": "subslide"
    }
   },
   "source": [
    "The inverse of the jacobian matrix $j$ is usefull to express derivatives in the real coordinates from the natural coordinates, it can be expressed as follow :\n",
    "\n",
    "Considering :  $J = \\begin{bmatrix} a & b \\\\ c & d \\end{bmatrix} $\n",
    "\n",
    "Then :  $j = \\frac{1}{det(J)}\\begin{bmatrix} d & -b \\\\ -c & a \\end{bmatrix} $\n",
    "\n",
    "With : \n",
    "\n",
    "$ a = \\frac{1}{4} (x_1(\\eta - 1) - x_2(\\eta - 1) + x_3(\\eta + 1) - x_4(\\eta + 1)) \\\\\n",
    "  b = \\frac{1}{4}(y_1(\\eta - 1) - y_2(\\eta - 1) + y_3(\\eta + 1) - y_4(\\eta + 1)) \\\\\n",
    "  c = \\frac{1}{4}(x_1(\\xi - 1) - x_2(\\xi + 1) + x_3(\\xi + 1) - x_4(\\xi - 1)) \\\\\n",
    "  d = \\frac{1}{4}(y_1(\\xi - 1) - y_2(\\xi + 1) + y_3(\\xi + 1) - y_4(\\xi - 1)) $"
   ]
  },
  {
   "cell_type": "code",
   "execution_count": 14,
   "metadata": {
    "slideshow": {
     "slide_type": "subslide"
    }
   },
   "outputs": [],
   "source": [
    "a = J[0]\n",
    "b = J[1]\n",
    "c = J[2]\n",
    "d = J[3]\n",
    "\n",
    "j_rearanged = Matrix([[d, -b],\n",
    "            [-c, a]])\n",
    "\n",
    "J_inv = (1/J_det)*j_rearanged"
   ]
  },
  {
   "cell_type": "markdown",
   "metadata": {
    "slideshow": {
     "slide_type": "subslide"
    }
   },
   "source": [
    "Global derivatives $(\\frac{\\partial}{\\partial x}, \\frac{\\partial}{\\partial y})$ can be expressed from the derivatives of the natural coordinates  with the inverse of the jacobian matrix : \n",
    "\n",
    "$ \\begin{bmatrix} \\frac{\\partial}{\\partial x} \\\\ \\frac{\\partial}{\\partial y} \\end{bmatrix} = \\begin{bmatrix} j \\end{bmatrix}  \\times \n",
    "\\begin{bmatrix} \\frac{\\partial}{\\partial \\xi} \\\\ \\frac{\\partial}{\\partial \\eta} \\end{bmatrix}$\n",
    "\n",
    "Computing the vector product yields : \n",
    "\n",
    "$\\frac{\\partial}{\\partial x} = \\frac{1}{det(J)}\\ ( d\\frac{\\partial}{\\partial \\xi}\\ -b\\frac{\\partial}{\\partial \\eta})$\n",
    "\n",
    "$\\frac{\\partial}{\\partial y} = \\frac{1}{det(J)}\\ ( -c\\frac{\\partial}{\\partial \\xi}\\ +a\\frac{\\partial}{\\partial \\eta})$"
   ]
  },
  {
   "cell_type": "markdown",
   "metadata": {
    "slideshow": {
     "slide_type": "slide"
    }
   },
   "source": [
    "## Constitutive relations for plane stress\n",
    "\n",
    "From the vector field of displacement $\\vec{U}(x,y)$ we compute the strain : \n",
    "\n",
    "$\\begin{bmatrix} \\epsilon_x \\\\ \\epsilon_y \\\\ \\epsilon_{xy} \\end{bmatrix}  = \\begin{bmatrix} \\frac{\\partial}{\\partial x} & 0 \\\\ 0 & \\frac{\\partial}{\\partial y} \\\\ \\frac{\\partial}{\\partial y} & \\frac{\\partial}{\\partial x} \\end{bmatrix} \\times \\begin{bmatrix} u_x \\\\ u_y \\end{bmatrix}$\n",
    "\n",
    "The expression of strain $\\vec{\\epsilon}$ from the coordinates of the reference element with $(\\xi, \\eta)$ is obtained by the transformation associated to the inverse of the jacobian matrix $j$ : \n",
    "\n",
    "$\\begin{bmatrix} \\epsilon_x \\\\ \\epsilon_y \\\\ \\epsilon_{xy} \\end{bmatrix}  = \\frac{1}{det(J)}\\\n",
    "\\begin{bmatrix} d\\frac{\\partial}{\\partial \\xi} - b\\frac{\\partial}{\\partial \\eta} & 0 \\\\\n",
    "0 & -c\\frac{\\partial}{\\partial \\xi} + a\\frac{\\partial}{\\partial \\eta} \\\\\n",
    "-c\\frac{\\partial}{\\partial \\xi} + a\\frac{\\partial}{\\partial \\eta} & d\\frac{\\partial}{\\partial \\xi} - b\\frac{\\partial}{\\partial \\eta} \\end{bmatrix} \\times \\begin{bmatrix} u_{\\xi} \\\\ u_{\\eta} \\end{bmatrix}$"
   ]
  },
  {
   "cell_type": "markdown",
   "metadata": {
    "slideshow": {
     "slide_type": "subslide"
    }
   },
   "source": [
    "## Strain matrix $B$\n",
    "\n",
    "Replacing the displacement function with its approximation from the shape functions : \n",
    "\n",
    "$u(\\xi, \\eta) = \\vec{N}\\vec{u_e}$\n",
    "\n",
    "where $u_e$ is the displacement at the nodes. \n",
    "\n",
    "$\\vec{\\epsilon} = \\begin{bmatrix} j \\end{bmatrix} \\begin{bmatrix} \\frac{\\partial}{\\partial x} & 0 \\\\ 0 & \\frac{\\partial}{\\partial y} \\\\ \\frac{\\partial}{\\partial y} & \\frac{\\partial}{\\partial x} \\end{bmatrix}  \\vec{N}\\vec{u_e}$\n",
    "\n",
    "Then :\n",
    "\n",
    "$\\vec{\\epsilon} = \\begin{bmatrix} j \\end{bmatrix}  B \\vec{u_n}$ $\\!$ where $B = LN$\n",
    "\n",
    "Considering $N$ : "
   ]
  },
  {
   "cell_type": "code",
   "execution_count": 15,
   "metadata": {
    "slideshow": {
     "slide_type": "subslide"
    }
   },
   "outputs": [
    {
     "data": {
      "text/latex": [
       "$\\displaystyle \\left[\\begin{matrix}\\frac{\\left(\\eta - 1\\right) \\left(\\xi - 1\\right)}{4} & - \\frac{\\left(\\eta - 1\\right) \\left(\\xi + 1\\right)}{4} & \\frac{\\left(\\eta + 1\\right) \\left(\\xi + 1\\right)}{4} & - \\frac{\\left(\\eta + 1\\right) \\left(\\xi - 1\\right)}{4}\\end{matrix}\\right]$"
      ],
      "text/plain": [
       "Matrix([[(eta - 1)*(xi - 1)/4, -(eta - 1)*(xi + 1)/4, (eta + 1)*(xi + 1)/4, -(eta + 1)*(xi - 1)/4]])"
      ]
     },
     "execution_count": 15,
     "metadata": {},
     "output_type": "execute_result"
    }
   ],
   "source": [
    "N"
   ]
  },
  {
   "cell_type": "markdown",
   "metadata": {
    "slideshow": {
     "slide_type": "subslide"
    }
   },
   "source": [
    "We compute $\\frac{\\partial N}{\\partial \\xi}$ : "
   ]
  },
  {
   "cell_type": "code",
   "execution_count": 16,
   "metadata": {
    "slideshow": {
     "slide_type": "subslide"
    }
   },
   "outputs": [
    {
     "data": {
      "text/latex": [
       "$\\displaystyle \\left[\\begin{matrix}\\frac{\\eta}{4} - \\frac{1}{4} & \\frac{1}{4} - \\frac{\\eta}{4} & \\frac{\\eta}{4} + \\frac{1}{4} & - \\frac{\\eta}{4} - \\frac{1}{4}\\end{matrix}\\right]$"
      ],
      "text/plain": [
       "Matrix([[eta/4 - 1/4, 1/4 - eta/4, eta/4 + 1/4, -eta/4 - 1/4]])"
      ]
     },
     "execution_count": 16,
     "metadata": {},
     "output_type": "execute_result"
    }
   ],
   "source": [
    "dN_xi = diff(N, xi)\n",
    "dN_xi"
   ]
  },
  {
   "cell_type": "markdown",
   "metadata": {
    "slideshow": {
     "slide_type": "subslide"
    }
   },
   "source": [
    "And $\\frac{\\partial N}{\\partial \\eta}$ : "
   ]
  },
  {
   "cell_type": "code",
   "execution_count": 17,
   "metadata": {
    "slideshow": {
     "slide_type": "subslide"
    }
   },
   "outputs": [
    {
     "data": {
      "text/latex": [
       "$\\displaystyle \\left[\\begin{matrix}\\frac{\\xi}{4} - \\frac{1}{4} & - \\frac{\\xi}{4} - \\frac{1}{4} & \\frac{\\xi}{4} + \\frac{1}{4} & \\frac{1}{4} - \\frac{\\xi}{4}\\end{matrix}\\right]$"
      ],
      "text/plain": [
       "Matrix([[xi/4 - 1/4, -xi/4 - 1/4, xi/4 + 1/4, 1/4 - xi/4]])"
      ]
     },
     "execution_count": 17,
     "metadata": {},
     "output_type": "execute_result"
    }
   ],
   "source": [
    "dN_eta = diff(N, eta)\n",
    "dN_eta"
   ]
  },
  {
   "cell_type": "markdown",
   "metadata": {
    "slideshow": {
     "slide_type": "subslide"
    }
   },
   "source": [
    "Then assemble the $B$ matrix such as : \n",
    "\n",
    "$B_i = \\begin{bmatrix} d\\frac{\\partial N_i}{\\partial \\xi} - b\\frac{\\partial N_i}{\\partial \\eta} & 0 \\\\\n",
    "0 & -c\\frac{\\partial N_i}{\\partial \\xi} + a\\frac{\\partial N_i}{\\partial \\eta} \\\\\n",
    "-c\\frac{\\partial N_i}{\\partial \\xi} + a\\frac{\\partial N_i}{\\partial \\eta} & d\\frac{\\partial N_i}{\\partial \\xi} - b\\frac{\\partial N_i}{\\partial \\eta} \\end{bmatrix}$\n",
    "\n",
    "For $i = (1, 2, 3, 4)$\n",
    "\n",
    "Then : $B = \\frac{1}{det(J)} \\begin{bmatrix} B_1 & B_2 & B_3 & B_4 \\end{bmatrix} $\n"
   ]
  },
  {
   "cell_type": "code",
   "execution_count": 18,
   "metadata": {
    "slideshow": {
     "slide_type": "subslide"
    }
   },
   "outputs": [
    {
     "data": {
      "text/latex": [
       "$\\displaystyle \\left[\\begin{matrix}\\left(\\frac{\\eta}{4} - \\frac{1}{4}\\right) \\left(\\frac{y_{1} \\left(\\xi - 1\\right)}{4} - \\frac{y_{2} \\left(\\xi + 1\\right)}{4} + \\frac{y_{3} \\left(\\xi + 1\\right)}{4} - \\frac{y_{4} \\left(\\xi - 1\\right)}{4}\\right) - \\left(\\frac{\\xi}{4} - \\frac{1}{4}\\right) \\left(\\frac{y_{1} \\left(\\eta - 1\\right)}{4} - \\frac{y_{2} \\left(\\eta - 1\\right)}{4} + \\frac{y_{3} \\left(\\eta + 1\\right)}{4} - \\frac{y_{4} \\left(\\eta + 1\\right)}{4}\\right) & 0 & \\left(\\frac{1}{4} - \\frac{\\eta}{4}\\right) \\left(\\frac{y_{1} \\left(\\xi - 1\\right)}{4} - \\frac{y_{2} \\left(\\xi + 1\\right)}{4} + \\frac{y_{3} \\left(\\xi + 1\\right)}{4} - \\frac{y_{4} \\left(\\xi - 1\\right)}{4}\\right) - \\left(- \\frac{\\xi}{4} - \\frac{1}{4}\\right) \\left(\\frac{y_{1} \\left(\\eta - 1\\right)}{4} - \\frac{y_{2} \\left(\\eta - 1\\right)}{4} + \\frac{y_{3} \\left(\\eta + 1\\right)}{4} - \\frac{y_{4} \\left(\\eta + 1\\right)}{4}\\right) & 0 & \\left(\\frac{\\eta}{4} + \\frac{1}{4}\\right) \\left(\\frac{y_{1} \\left(\\xi - 1\\right)}{4} - \\frac{y_{2} \\left(\\xi + 1\\right)}{4} + \\frac{y_{3} \\left(\\xi + 1\\right)}{4} - \\frac{y_{4} \\left(\\xi - 1\\right)}{4}\\right) - \\left(\\frac{\\xi}{4} + \\frac{1}{4}\\right) \\left(\\frac{y_{1} \\left(\\eta - 1\\right)}{4} - \\frac{y_{2} \\left(\\eta - 1\\right)}{4} + \\frac{y_{3} \\left(\\eta + 1\\right)}{4} - \\frac{y_{4} \\left(\\eta + 1\\right)}{4}\\right) & 0 & - \\left(\\frac{1}{4} - \\frac{\\xi}{4}\\right) \\left(\\frac{y_{1} \\left(\\eta - 1\\right)}{4} - \\frac{y_{2} \\left(\\eta - 1\\right)}{4} + \\frac{y_{3} \\left(\\eta + 1\\right)}{4} - \\frac{y_{4} \\left(\\eta + 1\\right)}{4}\\right) + \\left(- \\frac{\\eta}{4} - \\frac{1}{4}\\right) \\left(\\frac{y_{1} \\left(\\xi - 1\\right)}{4} - \\frac{y_{2} \\left(\\xi + 1\\right)}{4} + \\frac{y_{3} \\left(\\xi + 1\\right)}{4} - \\frac{y_{4} \\left(\\xi - 1\\right)}{4}\\right) & 0\\\\0 & \\left(\\frac{\\eta}{4} - \\frac{1}{4}\\right) \\left(- \\frac{x_{1} \\left(\\xi - 1\\right)}{4} + \\frac{x_{2} \\left(\\xi + 1\\right)}{4} - \\frac{x_{3} \\left(\\xi + 1\\right)}{4} + \\frac{x_{4} \\left(\\xi - 1\\right)}{4}\\right) + \\left(\\frac{\\xi}{4} - \\frac{1}{4}\\right) \\left(\\frac{x_{1} \\left(\\eta - 1\\right)}{4} - \\frac{x_{2} \\left(\\eta - 1\\right)}{4} + \\frac{x_{3} \\left(\\eta + 1\\right)}{4} - \\frac{x_{4} \\left(\\eta + 1\\right)}{4}\\right) & 0 & \\left(\\frac{1}{4} - \\frac{\\eta}{4}\\right) \\left(- \\frac{x_{1} \\left(\\xi - 1\\right)}{4} + \\frac{x_{2} \\left(\\xi + 1\\right)}{4} - \\frac{x_{3} \\left(\\xi + 1\\right)}{4} + \\frac{x_{4} \\left(\\xi - 1\\right)}{4}\\right) + \\left(- \\frac{\\xi}{4} - \\frac{1}{4}\\right) \\left(\\frac{x_{1} \\left(\\eta - 1\\right)}{4} - \\frac{x_{2} \\left(\\eta - 1\\right)}{4} + \\frac{x_{3} \\left(\\eta + 1\\right)}{4} - \\frac{x_{4} \\left(\\eta + 1\\right)}{4}\\right) & 0 & \\left(\\frac{\\eta}{4} + \\frac{1}{4}\\right) \\left(- \\frac{x_{1} \\left(\\xi - 1\\right)}{4} + \\frac{x_{2} \\left(\\xi + 1\\right)}{4} - \\frac{x_{3} \\left(\\xi + 1\\right)}{4} + \\frac{x_{4} \\left(\\xi - 1\\right)}{4}\\right) + \\left(\\frac{\\xi}{4} + \\frac{1}{4}\\right) \\left(\\frac{x_{1} \\left(\\eta - 1\\right)}{4} - \\frac{x_{2} \\left(\\eta - 1\\right)}{4} + \\frac{x_{3} \\left(\\eta + 1\\right)}{4} - \\frac{x_{4} \\left(\\eta + 1\\right)}{4}\\right) & 0 & \\left(\\frac{1}{4} - \\frac{\\xi}{4}\\right) \\left(\\frac{x_{1} \\left(\\eta - 1\\right)}{4} - \\frac{x_{2} \\left(\\eta - 1\\right)}{4} + \\frac{x_{3} \\left(\\eta + 1\\right)}{4} - \\frac{x_{4} \\left(\\eta + 1\\right)}{4}\\right) + \\left(- \\frac{\\eta}{4} - \\frac{1}{4}\\right) \\left(- \\frac{x_{1} \\left(\\xi - 1\\right)}{4} + \\frac{x_{2} \\left(\\xi + 1\\right)}{4} - \\frac{x_{3} \\left(\\xi + 1\\right)}{4} + \\frac{x_{4} \\left(\\xi - 1\\right)}{4}\\right)\\\\\\left(\\frac{\\eta}{4} - \\frac{1}{4}\\right) \\left(- \\frac{x_{1} \\left(\\xi - 1\\right)}{4} + \\frac{x_{2} \\left(\\xi + 1\\right)}{4} - \\frac{x_{3} \\left(\\xi + 1\\right)}{4} + \\frac{x_{4} \\left(\\xi - 1\\right)}{4}\\right) + \\left(\\frac{\\xi}{4} - \\frac{1}{4}\\right) \\left(\\frac{x_{1} \\left(\\eta - 1\\right)}{4} - \\frac{x_{2} \\left(\\eta - 1\\right)}{4} + \\frac{x_{3} \\left(\\eta + 1\\right)}{4} - \\frac{x_{4} \\left(\\eta + 1\\right)}{4}\\right) & \\left(\\frac{\\eta}{4} - \\frac{1}{4}\\right) \\left(\\frac{y_{1} \\left(\\xi - 1\\right)}{4} - \\frac{y_{2} \\left(\\xi + 1\\right)}{4} + \\frac{y_{3} \\left(\\xi + 1\\right)}{4} - \\frac{y_{4} \\left(\\xi - 1\\right)}{4}\\right) - \\left(\\frac{\\xi}{4} - \\frac{1}{4}\\right) \\left(\\frac{y_{1} \\left(\\eta - 1\\right)}{4} - \\frac{y_{2} \\left(\\eta - 1\\right)}{4} + \\frac{y_{3} \\left(\\eta + 1\\right)}{4} - \\frac{y_{4} \\left(\\eta + 1\\right)}{4}\\right) & \\left(\\frac{1}{4} - \\frac{\\eta}{4}\\right) \\left(- \\frac{x_{1} \\left(\\xi - 1\\right)}{4} + \\frac{x_{2} \\left(\\xi + 1\\right)}{4} - \\frac{x_{3} \\left(\\xi + 1\\right)}{4} + \\frac{x_{4} \\left(\\xi - 1\\right)}{4}\\right) + \\left(- \\frac{\\xi}{4} - \\frac{1}{4}\\right) \\left(\\frac{x_{1} \\left(\\eta - 1\\right)}{4} - \\frac{x_{2} \\left(\\eta - 1\\right)}{4} + \\frac{x_{3} \\left(\\eta + 1\\right)}{4} - \\frac{x_{4} \\left(\\eta + 1\\right)}{4}\\right) & \\left(\\frac{1}{4} - \\frac{\\eta}{4}\\right) \\left(\\frac{y_{1} \\left(\\xi - 1\\right)}{4} - \\frac{y_{2} \\left(\\xi + 1\\right)}{4} + \\frac{y_{3} \\left(\\xi + 1\\right)}{4} - \\frac{y_{4} \\left(\\xi - 1\\right)}{4}\\right) - \\left(- \\frac{\\xi}{4} - \\frac{1}{4}\\right) \\left(\\frac{y_{1} \\left(\\eta - 1\\right)}{4} - \\frac{y_{2} \\left(\\eta - 1\\right)}{4} + \\frac{y_{3} \\left(\\eta + 1\\right)}{4} - \\frac{y_{4} \\left(\\eta + 1\\right)}{4}\\right) & \\left(\\frac{\\eta}{4} + \\frac{1}{4}\\right) \\left(- \\frac{x_{1} \\left(\\xi - 1\\right)}{4} + \\frac{x_{2} \\left(\\xi + 1\\right)}{4} - \\frac{x_{3} \\left(\\xi + 1\\right)}{4} + \\frac{x_{4} \\left(\\xi - 1\\right)}{4}\\right) + \\left(\\frac{\\xi}{4} + \\frac{1}{4}\\right) \\left(\\frac{x_{1} \\left(\\eta - 1\\right)}{4} - \\frac{x_{2} \\left(\\eta - 1\\right)}{4} + \\frac{x_{3} \\left(\\eta + 1\\right)}{4} - \\frac{x_{4} \\left(\\eta + 1\\right)}{4}\\right) & \\left(\\frac{\\eta}{4} + \\frac{1}{4}\\right) \\left(\\frac{y_{1} \\left(\\xi - 1\\right)}{4} - \\frac{y_{2} \\left(\\xi + 1\\right)}{4} + \\frac{y_{3} \\left(\\xi + 1\\right)}{4} - \\frac{y_{4} \\left(\\xi - 1\\right)}{4}\\right) - \\left(\\frac{\\xi}{4} + \\frac{1}{4}\\right) \\left(\\frac{y_{1} \\left(\\eta - 1\\right)}{4} - \\frac{y_{2} \\left(\\eta - 1\\right)}{4} + \\frac{y_{3} \\left(\\eta + 1\\right)}{4} - \\frac{y_{4} \\left(\\eta + 1\\right)}{4}\\right) & \\left(\\frac{1}{4} - \\frac{\\xi}{4}\\right) \\left(\\frac{x_{1} \\left(\\eta - 1\\right)}{4} - \\frac{x_{2} \\left(\\eta - 1\\right)}{4} + \\frac{x_{3} \\left(\\eta + 1\\right)}{4} - \\frac{x_{4} \\left(\\eta + 1\\right)}{4}\\right) + \\left(- \\frac{\\eta}{4} - \\frac{1}{4}\\right) \\left(- \\frac{x_{1} \\left(\\xi - 1\\right)}{4} + \\frac{x_{2} \\left(\\xi + 1\\right)}{4} - \\frac{x_{3} \\left(\\xi + 1\\right)}{4} + \\frac{x_{4} \\left(\\xi - 1\\right)}{4}\\right) & - \\left(\\frac{1}{4} - \\frac{\\xi}{4}\\right) \\left(\\frac{y_{1} \\left(\\eta - 1\\right)}{4} - \\frac{y_{2} \\left(\\eta - 1\\right)}{4} + \\frac{y_{3} \\left(\\eta + 1\\right)}{4} - \\frac{y_{4} \\left(\\eta + 1\\right)}{4}\\right) + \\left(- \\frac{\\eta}{4} - \\frac{1}{4}\\right) \\left(\\frac{y_{1} \\left(\\xi - 1\\right)}{4} - \\frac{y_{2} \\left(\\xi + 1\\right)}{4} + \\frac{y_{3} \\left(\\xi + 1\\right)}{4} - \\frac{y_{4} \\left(\\xi - 1\\right)}{4}\\right)\\end{matrix}\\right]$"
      ],
      "text/plain": [
       "Matrix([\n",
       "[ (eta/4 - 1/4)*(y_1*(xi - 1)/4 - y_2*(xi + 1)/4 + y_3*(xi + 1)/4 - y_4*(xi - 1)/4) - (xi/4 - 1/4)*(y_1*(eta - 1)/4 - y_2*(eta - 1)/4 + y_3*(eta + 1)/4 - y_4*(eta + 1)/4),                                                                                                                                                                         0,  (1/4 - eta/4)*(y_1*(xi - 1)/4 - y_2*(xi + 1)/4 + y_3*(xi + 1)/4 - y_4*(xi - 1)/4) - (-xi/4 - 1/4)*(y_1*(eta - 1)/4 - y_2*(eta - 1)/4 + y_3*(eta + 1)/4 - y_4*(eta + 1)/4),                                                                                                                                                                          0,  (eta/4 + 1/4)*(y_1*(xi - 1)/4 - y_2*(xi + 1)/4 + y_3*(xi + 1)/4 - y_4*(xi - 1)/4) - (xi/4 + 1/4)*(y_1*(eta - 1)/4 - y_2*(eta - 1)/4 + y_3*(eta + 1)/4 - y_4*(eta + 1)/4),                                                                                                                                                                         0, -(1/4 - xi/4)*(y_1*(eta - 1)/4 - y_2*(eta - 1)/4 + y_3*(eta + 1)/4 - y_4*(eta + 1)/4) + (-eta/4 - 1/4)*(y_1*(xi - 1)/4 - y_2*(xi + 1)/4 + y_3*(xi + 1)/4 - y_4*(xi - 1)/4),                                                                                                                                                                          0],\n",
       "[                                                                                                                                                                        0, (eta/4 - 1/4)*(-x_1*(xi - 1)/4 + x_2*(xi + 1)/4 - x_3*(xi + 1)/4 + x_4*(xi - 1)/4) + (xi/4 - 1/4)*(x_1*(eta - 1)/4 - x_2*(eta - 1)/4 + x_3*(eta + 1)/4 - x_4*(eta + 1)/4),                                                                                                                                                                          0, (1/4 - eta/4)*(-x_1*(xi - 1)/4 + x_2*(xi + 1)/4 - x_3*(xi + 1)/4 + x_4*(xi - 1)/4) + (-xi/4 - 1/4)*(x_1*(eta - 1)/4 - x_2*(eta - 1)/4 + x_3*(eta + 1)/4 - x_4*(eta + 1)/4),                                                                                                                                                                         0, (eta/4 + 1/4)*(-x_1*(xi - 1)/4 + x_2*(xi + 1)/4 - x_3*(xi + 1)/4 + x_4*(xi - 1)/4) + (xi/4 + 1/4)*(x_1*(eta - 1)/4 - x_2*(eta - 1)/4 + x_3*(eta + 1)/4 - x_4*(eta + 1)/4),                                                                                                                                                                          0, (1/4 - xi/4)*(x_1*(eta - 1)/4 - x_2*(eta - 1)/4 + x_3*(eta + 1)/4 - x_4*(eta + 1)/4) + (-eta/4 - 1/4)*(-x_1*(xi - 1)/4 + x_2*(xi + 1)/4 - x_3*(xi + 1)/4 + x_4*(xi - 1)/4)],\n",
       "[(eta/4 - 1/4)*(-x_1*(xi - 1)/4 + x_2*(xi + 1)/4 - x_3*(xi + 1)/4 + x_4*(xi - 1)/4) + (xi/4 - 1/4)*(x_1*(eta - 1)/4 - x_2*(eta - 1)/4 + x_3*(eta + 1)/4 - x_4*(eta + 1)/4),  (eta/4 - 1/4)*(y_1*(xi - 1)/4 - y_2*(xi + 1)/4 + y_3*(xi + 1)/4 - y_4*(xi - 1)/4) - (xi/4 - 1/4)*(y_1*(eta - 1)/4 - y_2*(eta - 1)/4 + y_3*(eta + 1)/4 - y_4*(eta + 1)/4), (1/4 - eta/4)*(-x_1*(xi - 1)/4 + x_2*(xi + 1)/4 - x_3*(xi + 1)/4 + x_4*(xi - 1)/4) + (-xi/4 - 1/4)*(x_1*(eta - 1)/4 - x_2*(eta - 1)/4 + x_3*(eta + 1)/4 - x_4*(eta + 1)/4),  (1/4 - eta/4)*(y_1*(xi - 1)/4 - y_2*(xi + 1)/4 + y_3*(xi + 1)/4 - y_4*(xi - 1)/4) - (-xi/4 - 1/4)*(y_1*(eta - 1)/4 - y_2*(eta - 1)/4 + y_3*(eta + 1)/4 - y_4*(eta + 1)/4), (eta/4 + 1/4)*(-x_1*(xi - 1)/4 + x_2*(xi + 1)/4 - x_3*(xi + 1)/4 + x_4*(xi - 1)/4) + (xi/4 + 1/4)*(x_1*(eta - 1)/4 - x_2*(eta - 1)/4 + x_3*(eta + 1)/4 - x_4*(eta + 1)/4),  (eta/4 + 1/4)*(y_1*(xi - 1)/4 - y_2*(xi + 1)/4 + y_3*(xi + 1)/4 - y_4*(xi - 1)/4) - (xi/4 + 1/4)*(y_1*(eta - 1)/4 - y_2*(eta - 1)/4 + y_3*(eta + 1)/4 - y_4*(eta + 1)/4), (1/4 - xi/4)*(x_1*(eta - 1)/4 - x_2*(eta - 1)/4 + x_3*(eta + 1)/4 - x_4*(eta + 1)/4) + (-eta/4 - 1/4)*(-x_1*(xi - 1)/4 + x_2*(xi + 1)/4 - x_3*(xi + 1)/4 + x_4*(xi - 1)/4), -(1/4 - xi/4)*(y_1*(eta - 1)/4 - y_2*(eta - 1)/4 + y_3*(eta + 1)/4 - y_4*(eta + 1)/4) + (-eta/4 - 1/4)*(y_1*(xi - 1)/4 - y_2*(xi + 1)/4 + y_3*(xi + 1)/4 - y_4*(xi - 1)/4)]])"
      ]
     },
     "execution_count": 18,
     "metadata": {},
     "output_type": "execute_result"
    }
   ],
   "source": [
    "B = zeros(3,8)\n",
    "i = 0\n",
    "for node in range(0,4):\n",
    "    j = 2*node\n",
    "    B[i,j] = d*dN_xi[node] - b*dN_eta[node]\n",
    "    B[i+1, j+1] = -c*dN_xi[node] + a*dN_eta[node]\n",
    "    B[i+2, j] = -c*dN_xi[node] + a*dN_eta[node]\n",
    "    B[i+2, j+1] = d*dN_xi[node] - b*dN_eta[node]\n",
    "\n",
    "B"
   ]
  },
  {
   "cell_type": "markdown",
   "metadata": {
    "slideshow": {
     "slide_type": "subslide"
    }
   },
   "source": [
    "The above value should then be multiplied by $\\frac{1}{det(J)}$ to obtain the $B$ matrix.\n",
    "\n",
    "The obtained strain matrix $B$ will be different for every element with differing global coordinates as it is a function of $\\vec{x}$ and $\\vec{y}$."
   ]
  },
  {
   "cell_type": "markdown",
   "metadata": {
    "slideshow": {
     "slide_type": "slide"
    }
   },
   "source": [
    "## Isotropic compliance matrix $C$\n",
    "\n",
    "The isotropic compliance matrix for plane stress goes as follow : \n",
    "\n",
    "$D = \\frac{E}{1-v^2} \\begin{bmatrix} 1 & \\nu & 0 \\\\ \\nu & 1 & 0 \\\\ 0 & 0 & \\frac{1-\\nu}{2} \\end{bmatrix}$\n",
    "\n",
    "It acts as a tensor between the stress and strain."
   ]
  },
  {
   "cell_type": "markdown",
   "metadata": {
    "slideshow": {
     "slide_type": "slide"
    }
   },
   "source": [
    "## Obtaining the element stiffness matrix\n",
    "\n",
    "The element stiffness matrix is given by the following integral :\n",
    "\n",
    "$K_e = \\int_{V_e} \\ B^T C B \\ det(J) \\ dV $\n",
    "\n",
    "For a plane reference element with fixed stiffness : \n",
    "\n",
    "$K_e = \\int_{-1}^{1} \\int_{-1}^{1} \\ t \\ B^T C B \\ det(J) \\ d\\eta \\ d\\xi \\ $ With $t$ the tickness"
   ]
  },
  {
   "cell_type": "markdown",
   "metadata": {
    "slideshow": {
     "slide_type": "slide"
    }
   },
   "source": [
    "## Element stiffness matrix validation\n",
    "\n",
    "The numerical values are from : Example 13.1 in the [MATLAB Guide to Finite Elements](https://www.springer.com/gp/book/9783662052099) (p.283)\n",
    "\n",
    "\n",
    "### Compliance matrix $C$"
   ]
  },
  {
   "cell_type": "code",
   "execution_count": 149,
   "metadata": {
    "slideshow": {
     "slide_type": "subslide"
    }
   },
   "outputs": [
    {
     "data": {
      "text/plain": [
       "array([[0.231, 0.069, 0.   ],\n",
       "       [0.069, 0.231, 0.   ],\n",
       "       [0.   , 0.   , 0.081]])"
      ]
     },
     "execution_count": 149,
     "metadata": {},
     "output_type": "execute_result"
    }
   ],
   "source": [
    "E = 210e6\n",
    "nu = 0.3\n",
    "C = E/(1 - nu ** 2) * Matrix([[1, nu, 0],\n",
    "                              [nu, 1, 0],\n",
    "                              [0, 0, (1-nu)/2]])\n",
    "C = np.array(C).astype('float')\n",
    "np.around(C/10e8,3)"
   ]
  },
  {
   "cell_type": "markdown",
   "metadata": {
    "slideshow": {
     "slide_type": "subslide"
    }
   },
   "source": [
    "### Coordinates of the element\n",
    "\n",
    "We take the following coordinates for the element :"
   ]
  },
  {
   "cell_type": "code",
   "execution_count": 20,
   "metadata": {
    "slideshow": {
     "slide_type": "subslide"
    }
   },
   "outputs": [
    {
     "data": {
      "image/png": "[encoded data removed]",
      "text/plain": [
       "<Figure size 432x432 with 1 Axes>"
      ]
     },
     "metadata": {
      "needs_background": "light"
     },
     "output_type": "display_data"
    }
   ],
   "source": [
    "# Plotting the element for the example\n",
    "x = [0, 0.25, 0.25, 0]\n",
    "y = [0, 0, 0.25, 0.25]\n",
    "element_plot(x,y)\n",
    "plt.xlim((-0.03, 0.28))\n",
    "plt.ylim((-0.03, 0.28))\n",
    "plt.show()"
   ]
  },
  {
   "cell_type": "markdown",
   "metadata": {
    "slideshow": {
     "slide_type": "subslide"
    }
   },
   "source": [
    "### Computing the determinant of the Jacobian Matrix : \n",
    "\n",
    "$det(J) = A_0 + A_1\\xi + A_2\\eta$\n",
    "\n",
    "with:\n",
    "\n",
    "$A_0 = \\frac{1}{8}(x_1y_2 - x_1y_4 - x_2y_1 + x_2y_3 - x_3y_2 + x_3y_4 + x_4y_1 - x_4y_3)$\n",
    "\n",
    "$A_1 = \\frac{1}{8}(-x_1y_3 + x_1y_4 + x_2y_3 - x_2y_4 + x_3y_1 - x_3y_2 - x_4y_1 + x_4y_2)$\n",
    "\n",
    "$A_2 = \\frac{1}{8}(-x_1y_2 + x_1y_3 + x_2y_1 - x_2y_4 - x_3y_1 + x_3y_4 + x_4y_2 - x_4y_3)$"
   ]
  },
  {
   "cell_type": "code",
   "execution_count": 21,
   "metadata": {
    "slideshow": {
     "slide_type": "subslide"
    }
   },
   "outputs": [
    {
     "data": {
      "text/latex": [
       "$\\displaystyle 0.015625$"
      ],
      "text/plain": [
       "0.0156250000000000"
      ]
     },
     "execution_count": 21,
     "metadata": {},
     "output_type": "execute_result"
    }
   ],
   "source": [
    "xi, eta = symbols('xi eta')\n",
    "\n",
    "x = [0, 0.25, 0.25, 0]\n",
    "y = [0, 0, 0.25, 0.25]\n",
    "\n",
    "# det(J) = A0 + A1*xi + A2*eta\n",
    "\n",
    "A0 = (1/8) * (x[0]*y[1] - x[0]*y[3] - x[1]*y[0] + x[1]*y[2] - x[2]*y[1] + x[2]*y[3] + x[3]*y[0] - x[3]*y[2])\n",
    "\n",
    "A1 = (1/8) * (-x[0]*y[2] + x[0]*y[3] + x[1]*y[2] - x[1]*y[3] + x[2]*y[0] - x[2]*y[1] - x[3]*y[0] + x[3]*y[1])\n",
    "\n",
    "A2 = (1/8) * (-x[0]*y[1] + x[0]*y[2] + x[1]*y[0] - x[1]*y[3] - x[2]*y[0] + x[2]*y[3] + x[3]*y[1] - x[3]*y[2])\n",
    "\n",
    "det_J = A0 + A1*xi + A2*eta\n",
    "det_J = J_det.subs([(x_1,x[0]), (x_2, x[1]), (x_3, x[2]), (x_4, x[3]), (y_1, y[0]), (y_2, y[1]), (y_3, y[2]), (y_4, y[3])])\n",
    "det_J"
   ]
  },
  {
   "cell_type": "markdown",
   "metadata": {
    "slideshow": {
     "slide_type": "subslide"
    }
   },
   "source": [
    "Because the element has $90^o$ angles, the determinant of the jacobian matrix is constant.\n",
    "\n",
    "### Computing the $B$ matrix\n",
    "\n",
    "With the values of the jacobian matrix : \n",
    "$ a = \\frac{1}{4} (x_1(\\eta - 1) - x_2(\\eta - 1) + x_3(\\eta + 1) - x_4(\\eta + 1)) \\\\\n",
    "  b = \\frac{1}{4}(y_1(\\eta - 1) - y_2(\\eta - 1) + y_3(\\eta + 1) - y_4(\\eta + 1)) \\\\\n",
    "  c = \\frac{1}{4}(x_1(\\xi - 1) - x_2(\\xi + 1) + x_3(\\xi + 1) - x_4(\\xi - 1)) \\\\\n",
    "  d = \\frac{1}{4}(y_1(\\xi - 1) - y_2(\\xi + 1) + y_3(\\xi + 1) - y_4(\\xi - 1)) $\n",
    "  \n",
    "And the value of the B matrix : \n",
    "\n",
    "$B_i = \\frac{1}{det(J)} \\begin{bmatrix} d\\frac{\\partial N_i}{\\partial \\xi} - b\\frac{\\partial N_i}{\\partial \\eta} & 0 \\\\\n",
    "0 & -c\\frac{\\partial N_i}{\\partial \\xi} + a\\frac{\\partial N_i}{\\partial \\eta} \\\\\n",
    "-c\\frac{\\partial N_i}{\\partial \\xi} + a\\frac{\\partial N_i}{\\partial \\eta} & d\\frac{\\partial N_i}{\\partial \\xi} - b\\frac{\\partial N_i}{\\partial \\eta} \\end{bmatrix}$\n",
    "\n",
    "and\n",
    "\n",
    "$B = \\begin{bmatrix} B_1 & B_2 & B_3 & B_4 \\end{bmatrix} $"
   ]
  },
  {
   "cell_type": "code",
   "execution_count": 22,
   "metadata": {
    "slideshow": {
     "slide_type": "subslide"
    }
   },
   "outputs": [
    {
     "data": {
      "text/latex": [
       "$\\displaystyle \\left[\\begin{matrix}2.0 \\eta - 2.0 & 0 & 2.0 - 2.0 \\eta & 0 & 2.0 \\eta + 2.0 & 0 & - 2.0 \\eta - 2.0 & 0\\\\0 & 2.0 \\xi - 2.0 & 0 & - 2.0 \\xi - 2.0 & 0 & 2.0 \\xi + 2.0 & 0 & 2.0 - 2.0 \\xi\\\\2.0 \\xi - 2.0 & 2.0 \\eta - 2.0 & - 2.0 \\xi - 2.0 & 2.0 - 2.0 \\eta & 2.0 \\xi + 2.0 & 2.0 \\eta + 2.0 & 2.0 - 2.0 \\xi & - 2.0 \\eta - 2.0\\end{matrix}\\right]$"
      ],
      "text/plain": [
       "Matrix([\n",
       "[2.0*eta - 2.0,             0, 2.0 - 2.0*eta,             0, 2.0*eta + 2.0,             0, -2.0*eta - 2.0,              0],\n",
       "[            0,  2.0*xi - 2.0,             0, -2.0*xi - 2.0,             0,  2.0*xi + 2.0,              0,   2.0 - 2.0*xi],\n",
       "[ 2.0*xi - 2.0, 2.0*eta - 2.0, -2.0*xi - 2.0, 2.0 - 2.0*eta,  2.0*xi + 2.0, 2.0*eta + 2.0,   2.0 - 2.0*xi, -2.0*eta - 2.0]])"
      ]
     },
     "execution_count": 22,
     "metadata": {},
     "output_type": "execute_result"
    }
   ],
   "source": [
    "B_copy = (1/det_J)*B.subs([(x_1,x[0]), (x_2, x[1]), (x_3, x[2]), (x_4, x[3]), (y_1, y[0]), (y_2, y[1]), (y_3, y[2]), (y_4, y[3])])\n",
    "B_copy"
   ]
  },
  {
   "cell_type": "markdown",
   "metadata": {
    "slideshow": {
     "slide_type": "subslide"
    }
   },
   "source": [
    "### Computing the function to integrate\n",
    "\n",
    "With $I$ such as : $I = B^T C B \\ det(J)$ "
   ]
  },
  {
   "cell_type": "code",
   "execution_count": 23,
   "metadata": {
    "slideshow": {
     "slide_type": "subslide"
    }
   },
   "outputs": [],
   "source": [
    "I = B_copy.T*C*B_copy*det_J\n",
    "# A 8x8 matrix with unknowns, too large to display"
   ]
  },
  {
   "cell_type": "markdown",
   "metadata": {
    "slideshow": {
     "slide_type": "subslide"
    }
   },
   "source": [
    "### integrating to find the element stiffness matrix $K_e$\n",
    "\n",
    "with $t=0.025$"
   ]
  },
  {
   "cell_type": "code",
   "execution_count": 33,
   "metadata": {
    "scrolled": true,
    "slideshow": {
     "slide_type": "subslide"
    }
   },
   "outputs": [
    {
     "data": {
      "text/plain": [
       "array([[ 2.596,  0.937, -1.587, -0.072, -1.298, -0.937,  0.288,  0.072],\n",
       "       [ 0.937,  2.596,  0.072,  0.288, -0.937, -1.298, -0.072, -1.587],\n",
       "       [-1.587,  0.072,  2.596, -0.937,  0.288, -0.072, -1.298,  0.937],\n",
       "       [-0.072,  0.288, -0.937,  2.596,  0.072, -1.587,  0.937, -1.298],\n",
       "       [-1.298, -0.937,  0.288,  0.072,  2.596,  0.937, -1.587, -0.072],\n",
       "       [-0.937, -1.298, -0.072, -1.587,  0.937,  2.596,  0.072,  0.288],\n",
       "       [ 0.288, -0.072, -1.298,  0.937, -1.587,  0.072,  2.596, -0.937],\n",
       "       [ 0.072, -1.587,  0.937, -1.298, -0.072,  0.288, -0.937,  2.596]])"
      ]
     },
     "execution_count": 33,
     "metadata": {},
     "output_type": "execute_result"
    }
   ],
   "source": [
    "t = 0.025 # m\n",
    "K_e = t * integrate(integrate(I, (xi, -1, 1)), (eta, -1,1))\n",
    "np.around(np.array(K_e/10e5).astype('float'),3)"
   ]
  },
  {
   "cell_type": "code",
   "execution_count": 37,
   "metadata": {
    "slideshow": {
     "slide_type": "subslide"
    }
   },
   "outputs": [
    {
     "data": {
      "text/plain": [
       "array([[ 2.596,  0.938, -1.586, -0.072, -1.298, -0.938,  0.288,  0.072],\n",
       "       [ 0.938,  2.596,  0.072,  0.288, -0.938, -1.298, -0.072, -1.586],\n",
       "       [-1.586,  0.072,  2.596, -0.938,  0.288, -0.072, -1.298,  0.938],\n",
       "       [-0.072,  0.288, -0.938,  2.596,  0.072, -1.586,  0.938, -1.298],\n",
       "       [-1.298, -0.938,  0.288,  0.072,  2.596,  0.938, -1.586, -0.072],\n",
       "       [-0.938, -1.298, -0.072, -1.586,  0.938,  2.596,  0.072,  0.288],\n",
       "       [ 0.288, -0.072, -1.298,  0.938, -1.586,  0.072,  2.596, -0.938],\n",
       "       [ 0.072, -1.586,  0.938, -1.298, -0.072,  0.288, -0.938,  2.596]])"
      ]
     },
     "execution_count": 37,
     "metadata": {},
     "output_type": "execute_result"
    }
   ],
   "source": [
    "# Matrix obtained from the book [MATLAB Guide to Finite Elements]\n",
    "np.around(K_ele_13_1()/10e5, 3)"
   ]
  },
  {
   "cell_type": "markdown",
   "metadata": {
    "slideshow": {
     "slide_type": "subslide"
    }
   },
   "source": [
    "## A Function to integrate without symbolic calculus"
   ]
  },
  {
   "cell_type": "code",
   "execution_count": 25,
   "metadata": {
    "slideshow": {
     "slide_type": "fragment"
    }
   },
   "outputs": [],
   "source": [
    "def Integrand(x, y, C):\n",
    "    \"\"\" Create a function object to be integrated \"\"\"\n",
    "    \n",
    "    A0 = (1/8) * (x[0]*y[1] - x[0]*y[3] - x[1]*y[0] + x[1]*y[2] - x[2]*y[1] + x[2]*y[3] + x[3]*y[0] - x[3]*y[2])\n",
    "    A1 = (1/8) * (-x[0]*y[2] + x[0]*y[3] + x[1]*y[2] - x[1]*y[3] + x[2]*y[0] - x[2]*y[1] - x[3]*y[0] + x[3]*y[1])\n",
    "    A2 = (1/8) * (-x[0]*y[1] + x[0]*y[2] + x[1]*y[0] - x[1]*y[3] - x[2]*y[0] + x[2]*y[3] + x[3]*y[1] - x[3]*y[2])\n",
    "\n",
    "    def fun(zi):\n",
    "        \"\"\" evaluate the integrand at points xi and eta\"\"\"\n",
    "        \n",
    "        xi_s = zi[0]\n",
    "        eta_s = zi[1]\n",
    "        result = []\n",
    "        \n",
    "        for xi, eta in zip(xi_s, eta_s):\n",
    "            det_J = A0 + A1*xi + A2*eta # scalar\n",
    "            dN_xi  = np.array([eta/4 - 1/4, 1/4 - eta/4, eta/4 + 1/4, -eta/4 - 1/4]) # vector\n",
    "            dN_eta = np.array([xi/4 - 1/4, -xi/4 - 1/4, xi/4 + 1/4, 1/4 - xi/4]) # vector\n",
    "\n",
    "            a = 0.25*(x[0]*(eta - 1) - x[1]*(eta - 1) + x[2]*(eta + 1) - x[3]*(eta + 1)) # scalar\n",
    "            b = 0.25*(y[0]*(eta - 1) - y[1]*(eta - 1) + y[2]*(eta + 1) - y[3]*(eta + 1))\n",
    "            c = 0.25*(x[0]*(xi - 1) - x[1]*(xi + 1) + x[2]*(xi + 1) - x[3]*(xi - 1))\n",
    "            d = 0.25*(y[0]*(xi - 1) - y[1]*(xi + 1) + y[2]*(xi + 1) - y[3]*(xi - 1))\n",
    "\n",
    "            B = np.zeros((3,8))\n",
    "            B[0, range(0,7,2)] = d*dN_xi - b*dN_eta\n",
    "            B[1, range(1,8,2)] = -c*dN_xi + a*dN_eta\n",
    "            B[2, range(0,7,2)] = -c*dN_xi + a*dN_eta\n",
    "            B[2, range(1,8,2)] = d*dN_xi - b*dN_eta\n",
    "            B = (1/det_J)*B\n",
    "            \n",
    "            result.append(B.transpose() @ C @ B*det_J)\n",
    "            \n",
    "            output = np.zeros((8,8, len(xi_s)))\n",
    "            \n",
    "            for i in range(0,8):\n",
    "                for j in range(0,8):\n",
    "                    for point in range(len(result)):\n",
    "                        output[i,j, point] = result[point][i,j]\n",
    "        return output\n",
    "    \n",
    "    return fun\n",
    "\n",
    "def element_stiffness_matrix(x, y, C, t):\n",
    "    \"\"\"\n",
    "    Compute the element stiffness matrix from the node coordinates, the stress tensor and element thickness\n",
    "    \"\"\"\n",
    "    \n",
    "    I = Integrand(x, y, C) # create the function to integrate\n",
    "    scheme = quadpy.c2.get_good_scheme(2) # integration scheme\n",
    "    k = t*scheme.integrate(I, quadpy.c2.rectangle_points([-1, 1], [-1, 1]))\n",
    "    \n",
    "    return k"
   ]
  },
  {
   "cell_type": "code",
   "execution_count": 38,
   "metadata": {
    "scrolled": true,
    "slideshow": {
     "slide_type": "subslide"
    }
   },
   "outputs": [
    {
     "data": {
      "text/plain": [
       "array([[ 2.596,  0.937, -1.587, -0.072, -1.298, -0.937,  0.288,  0.072],\n",
       "       [ 0.937,  2.596,  0.072,  0.288, -0.937, -1.298, -0.072, -1.587],\n",
       "       [-1.587,  0.072,  2.596, -0.937,  0.288, -0.072, -1.298,  0.937],\n",
       "       [-0.072,  0.288, -0.937,  2.596,  0.072, -1.587,  0.937, -1.298],\n",
       "       [-1.298, -0.937,  0.288,  0.072,  2.596,  0.937, -1.587, -0.072],\n",
       "       [-0.937, -1.298, -0.072, -1.587,  0.937,  2.596,  0.072,  0.288],\n",
       "       [ 0.288, -0.072, -1.298,  0.937, -1.587,  0.072,  2.596, -0.937],\n",
       "       [ 0.072, -1.587,  0.937, -1.298, -0.072,  0.288, -0.937,  2.596]])"
      ]
     },
     "execution_count": 38,
     "metadata": {},
     "output_type": "execute_result"
    }
   ],
   "source": [
    "K_e = element_stiffness_matrix(x, y, C, 0.025)\n",
    "np.around(K_e/10e5,3)"
   ]
  },
  {
   "cell_type": "markdown",
   "metadata": {
    "slideshow": {
     "slide_type": "subslide"
    }
   },
   "source": [
    "### Time saved with the vectorised function : "
   ]
  },
  {
   "cell_type": "code",
   "execution_count": 27,
   "metadata": {
    "slideshow": {
     "slide_type": "subslide"
    }
   },
   "outputs": [
    {
     "name": "stdout",
     "output_type": "stream",
     "text": [
      "3.98 s ± 425 ms per loop (mean ± std. dev. of 7 runs, 1 loop each)\n"
     ]
    }
   ],
   "source": [
    "# Symbolic calculus\n",
    "def this():\n",
    "    det_J = J_det.subs([(x_1,x[0]), (x_2, x[1]), (x_3, x[2]), (x_4, x[3]), (y_1, y[0]), (y_2, y[1]), (y_3, y[2]), (y_4, y[3])])\n",
    "    B_copy = (1/det_J)*B.subs([(x_1,x[0]), (x_2, x[1]), (x_3, x[2]), (x_4, x[3]), (y_1, y[0]), (y_2, y[1]), (y_3, y[2]), (y_4, y[3])])\n",
    "    I = B_copy.T*C*B_copy*det_J\n",
    "    K_e = 0.025 * integrate(integrate(I, (xi, -1, 1)), (eta, -1,1))\n",
    "\n",
    "%timeit this()"
   ]
  },
  {
   "cell_type": "code",
   "execution_count": 28,
   "metadata": {
    "slideshow": {
     "slide_type": "subslide"
    }
   },
   "outputs": [
    {
     "name": "stdout",
     "output_type": "stream",
     "text": [
      "34.1 ms ± 690 µs per loop (mean ± std. dev. of 7 runs, 10 loops each)\n"
     ]
    }
   ],
   "source": [
    "# Numeric integration\n",
    "%timeit K_e = element_stiffness_matrix(x, y, C, 0.025)"
   ]
  },
  {
   "cell_type": "markdown",
   "metadata": {
    "slideshow": {
     "slide_type": "slide"
    }
   },
   "source": [
    "## Formulation of the A matrix for in plane load :\n",
    "\n",
    "$ A = \\int_{-z/2}^{z/2} Q\\: dz   $\n",
    "\n",
    "For a domain discretized in $n$ plies with constant $Q$ matrix\n",
    "\n",
    "$ A = \\sum_{i=1}^n \\int_{z_i}^{z_{i+1}} Q_i dz $\n",
    "\n",
    "Computing the integral\n",
    "\n",
    "$ A = \\sum_{i=1}^n Q_i \\: z \\: \\vert_{z_i}^{z_{i+1}}$\n",
    "\n",
    "$ A = \\sum_{i=1}^n Q_i (z_{i+1} - z_i) $\n",
    "\n",
    "Case where the $n$ plies have constant thickness $h_i$\n",
    "\n",
    "$ A = \\sum_{i=1}^n Q_i h_i $\n",
    "\n",
    "If $n=1$, then $A=Q h$\n"
   ]
  },
  {
   "cell_type": "markdown",
   "metadata": {},
   "source": [
    "And with $C$ such that : \n",
    "\n",
    "$$\\vec{\\sigma} = C \\vec{\\epsilon} $$\n",
    "\n",
    "Then : \n",
    "\n",
    "$$ C = \\frac{A}{nh_i} $$\n",
    "\n",
    "with $ \\vec{\\epsilon} = \\begin{bmatrix} \\epsilon_x \\\\ \\epsilon_y \\\\ \\epsilon_{xy} \\end{bmatrix}$ and $\\vec{\\sigma} = \\begin{bmatrix} \\sigma_x \\\\ \\sigma_y \\\\ \\sigma_z \\end{bmatrix} $"
   ]
  },
  {
   "cell_type": "markdown",
   "metadata": {
    "slideshow": {
     "slide_type": "subslide"
    }
   },
   "source": [
    "## Validating the A matrix formulation and plane stress model\n",
    "\n",
    "### Test problem \n",
    "\n",
    "Material: **T300_N5208**\n",
    "\n",
    "Variable angle layup [0 / 45 / -45 / 0 / 0 / -45 / 45 / 0] with 50 kN force in the x direction.\n",
    "\n",
    "Solution : $ \\vec{\\epsilon} = \\begin{bmatrix} 0.4809 \\\\ -0.3245 \\\\  0. \\end{bmatrix} $\n"
   ]
  },
  {
   "cell_type": "code",
   "execution_count": 151,
   "metadata": {
    "slideshow": {
     "slide_type": "subslide"
    }
   },
   "outputs": [],
   "source": [
    "# T300_N5208 material proprieties\n",
    "Ex = 181e9 # Pa\n",
    "Ey = 10.3e9 # Pa\n",
    "Es = 7.17e9\n",
    "v = 0.28\n",
    "ho = 0.125\n",
    "T300_N5208 = Material(Ex, Ey, Es, v, ho)"
   ]
  },
  {
   "cell_type": "markdown",
   "metadata": {
    "slideshow": {
     "slide_type": "subslide"
    }
   },
   "source": [
    "### Finie element formulation\n",
    "\n",
    "A single 1m x 1m element : "
   ]
  },
  {
   "cell_type": "code",
   "execution_count": 152,
   "metadata": {
    "slideshow": {
     "slide_type": "subslide"
    }
   },
   "outputs": [
    {
     "data": {
      "image/png": "[encoded data removed]",
      "text/plain": [
       "<Figure size 432x432 with 1 Axes>"
      ]
     },
     "metadata": {
      "needs_background": "light"
     },
     "output_type": "display_data"
    }
   ],
   "source": [
    "mesh = RectangleQuadMesh(1, 1, 1, 1)\n",
    "mesh.plot()"
   ]
  },
  {
   "cell_type": "markdown",
   "metadata": {
    "slideshow": {
     "slide_type": "subslide"
    }
   },
   "source": [
    "### Compliance matrix $C$\n",
    "\n",
    "1. Computing the $Q$ matrices "
   ]
  },
  {
   "cell_type": "code",
   "execution_count": 119,
   "metadata": {
    "slideshow": {
     "slide_type": "subslide"
    }
   },
   "outputs": [],
   "source": [
    "# Computing the Q matrices for the material\n",
    "plies = [0, 45, -45, 0, 0, -45, 45, 0]\n",
    "nb_plies = len(plies)\n",
    "h_t = nb_plies * T300_N5208.hi\n",
    "Q_mats = []\n",
    "\n",
    "for angle in plies:\n",
    "    Q_mats.append(Q_mat(T300_N5208, angle))"
   ]
  },
  {
   "cell_type": "markdown",
   "metadata": {
    "slideshow": {
     "slide_type": "subslide"
    }
   },
   "source": [
    "2. Computing the $A$ matrix\n",
    "\n",
    "From :\n",
    "\n",
    "$$A = \\sum_{i=1}^n Q_i h_i $$"
   ]
  },
  {
   "cell_type": "code",
   "execution_count": 155,
   "metadata": {
    "slideshow": {
     "slide_type": "subslide"
    }
   },
   "outputs": [
    {
     "data": {
      "text/plain": [
       "array([[0.119, 0.023, 0.   ],\n",
       "       [0.023, 0.034, 0.   ],\n",
       "       [0.   , 0.   , 0.027]])"
      ]
     },
     "execution_count": 155,
     "metadata": {},
     "output_type": "execute_result"
    }
   ],
   "source": [
    "A = 0\n",
    "for Q in Q_mats:\n",
    "    A += Q * T300_N5208.hi\n",
    "    \n",
    "np.around(A/10e8, 3)"
   ]
  },
  {
   "cell_type": "markdown",
   "metadata": {
    "slideshow": {
     "slide_type": "subslide"
    }
   },
   "source": [
    "3. Computing the compliance matrix $C$"
   ]
  },
  {
   "cell_type": "code",
   "execution_count": 158,
   "metadata": {
    "slideshow": {
     "slide_type": "subslide"
    }
   },
   "outputs": [
    {
     "data": {
      "text/plain": [
       "array([[0.119, 0.023, 0.   ],\n",
       "       [0.023, 0.034, 0.   ],\n",
       "       [0.   , 0.   , 0.027]])"
      ]
     },
     "execution_count": 158,
     "metadata": {},
     "output_type": "execute_result"
    }
   ],
   "source": [
    "C = A / (nb_plies * T300_N5208.hi)\n",
    "np.around(C/10e8, 3)"
   ]
  },
  {
   "cell_type": "markdown",
   "metadata": {
    "slideshow": {
     "slide_type": "subslide"
    }
   },
   "source": [
    "### Element stiffness matrix\n",
    "\n",
    "Computing the element stiffness matrix from the compliance matrix\n",
    "\n",
    "1. Getting the node coordinates"
   ]
  },
  {
   "cell_type": "code",
   "execution_count": 122,
   "metadata": {
    "slideshow": {
     "slide_type": "subslide"
    }
   },
   "outputs": [],
   "source": [
    "x = []\n",
    "y = []\n",
    "for ele in mesh.CONEC:\n",
    "    for node in ele:\n",
    "        x.append(mesh.CORG[node][0])\n",
    "        y.append(mesh.CORG[node][1])"
   ]
  },
  {
   "cell_type": "markdown",
   "metadata": {
    "slideshow": {
     "slide_type": "subslide"
    }
   },
   "source": [
    "2. Computing the element stifness matrix for the element"
   ]
  },
  {
   "cell_type": "code",
   "execution_count": 167,
   "metadata": {
    "slideshow": {
     "slide_type": "subslide"
    }
   },
   "outputs": [
    {
     "data": {
      "text/plain": [
       "array([[ 4.87,  1.24, -3.53, -0.11, -2.44, -1.24,  1.09,  0.11],\n",
       "       [ 1.24,  2.01,  0.11, -0.34, -1.24, -1.01, -0.11, -0.67],\n",
       "       [-3.53,  0.11,  4.87, -1.24,  1.09, -0.11, -2.44,  1.24],\n",
       "       [-0.11, -0.34, -1.24,  2.01,  0.11, -0.67,  1.24, -1.01],\n",
       "       [-2.44, -1.24,  1.09,  0.11,  4.87,  1.24, -3.53, -0.11],\n",
       "       [-1.24, -1.01, -0.11, -0.67,  1.24,  2.01,  0.11, -0.34],\n",
       "       [ 1.09, -0.11, -2.44,  1.24, -3.53,  0.11,  4.87, -1.24],\n",
       "       [ 0.11, -0.67,  1.24, -1.01, -0.11, -0.34, -1.24,  2.01]])"
      ]
     },
     "execution_count": 167,
     "metadata": {},
     "output_type": "execute_result"
    }
   ],
   "source": [
    "K_ele = element_stiffness_matrix(x, y, C, h_t)\n",
    "np.around(K_ele/10e3, 2)"
   ]
  },
  {
   "cell_type": "markdown",
   "metadata": {
    "slideshow": {
     "slide_type": "subslide"
    }
   },
   "source": [
    "### Assembling the system\n",
    "\n",
    "1. Assembling the global Stiffness matrix $K$"
   ]
  },
  {
   "cell_type": "code",
   "execution_count": 124,
   "metadata": {
    "slideshow": {
     "slide_type": "subslide"
    }
   },
   "outputs": [],
   "source": [
    "K = K_assemble(mesh, K_ele)"
   ]
  },
  {
   "cell_type": "markdown",
   "metadata": {
    "slideshow": {
     "slide_type": "subslide"
    }
   },
   "source": [
    "For a system with one element, $ K = K_{ele} $\n",
    "\n",
    "2. Testing the conditional value of the system matrix"
   ]
  },
  {
   "cell_type": "code",
   "execution_count": 125,
   "metadata": {
    "scrolled": true,
    "slideshow": {
     "slide_type": "subslide"
    }
   },
   "outputs": [
    {
     "data": {
      "text/plain": [
       "1.0887458268901075e+18"
      ]
     },
     "execution_count": 125,
     "metadata": {},
     "output_type": "execute_result"
    }
   ],
   "source": [
    "np.linalg.cond(K)"
   ]
  },
  {
   "cell_type": "markdown",
   "metadata": {
    "slideshow": {
     "slide_type": "subslide"
    }
   },
   "source": [
    "Adding a small value to the diagonal to reduce the conditional value : "
   ]
  },
  {
   "cell_type": "code",
   "execution_count": 159,
   "metadata": {
    "slideshow": {
     "slide_type": "subslide"
    }
   },
   "outputs": [
    {
     "data": {
      "text/plain": [
       "7343.979498326469"
      ]
     },
     "execution_count": 159,
     "metadata": {},
     "output_type": "execute_result"
    }
   ],
   "source": [
    "Conditioning_matrix = np.identity(K.shape[0])\n",
    "K = K + Conditioning_matrix\n",
    "np.linalg.cond(K)"
   ]
  },
  {
   "cell_type": "markdown",
   "metadata": {
    "slideshow": {
     "slide_type": "subslide"
    }
   },
   "source": [
    "### Creating the force vector"
   ]
  },
  {
   "cell_type": "code",
   "execution_count": 160,
   "metadata": {
    "slideshow": {
     "slide_type": "subslide"
    }
   },
   "outputs": [
    {
     "data": {
      "text/plain": [
       "array([-25000.,      0.,  25000.,      0., -25000.,      0.,  25000.,\n",
       "            0.])"
      ]
     },
     "execution_count": 160,
     "metadata": {},
     "output_type": "execute_result"
    }
   ],
   "source": [
    "Applied_Force = 50000  # 50 kN\n",
    "F = np.zeros(K.shape[0])\n",
    "\n",
    "positive_load_nodes = np.array([1, 3])\n",
    "negative_load_node = np.array([0, 2])\n",
    "\n",
    "F[(2*positive_load_nodes)] = Applied_Force/2\n",
    "F[2*negative_load_node] = -Applied_Force/2\n",
    "F"
   ]
  },
  {
   "cell_type": "markdown",
   "metadata": {
    "slideshow": {
     "slide_type": "subslide"
    }
   },
   "source": [
    "### Solving for displacement"
   ]
  },
  {
   "cell_type": "code",
   "execution_count": 161,
   "metadata": {
    "slideshow": {
     "slide_type": "subslide"
    }
   },
   "outputs": [
    {
     "data": {
      "text/plain": [
       "array([-0.24037628,  0.16212526,  0.24037628,  0.16212526, -0.24037628,\n",
       "       -0.16212526,  0.24037628, -0.16212526])"
      ]
     },
     "execution_count": 161,
     "metadata": {},
     "output_type": "execute_result"
    }
   ],
   "source": [
    "U = linalg.solve(K, F)\n",
    "U"
   ]
  },
  {
   "cell_type": "markdown",
   "metadata": {
    "slideshow": {
     "slide_type": "subslide"
    }
   },
   "source": [
    "### Mapping the $x$ and $y$ components"
   ]
  },
  {
   "cell_type": "code",
   "execution_count": 163,
   "metadata": {
    "slideshow": {
     "slide_type": "subslide"
    }
   },
   "outputs": [],
   "source": [
    "U\n",
    "Ux = U[np.arange(0,len(U), 2)]\n",
    "Ux = np.flip(Ux.reshape(2,2), axis=0)\n",
    "\n",
    "Uy = U[np.arange(1,len(U), 2)]\n",
    "Uy = np.flip(Uy.reshape(2,2), axis=0)"
   ]
  },
  {
   "cell_type": "markdown",
   "metadata": {
    "slideshow": {
     "slide_type": "subslide"
    }
   },
   "source": [
    "### Plotting the displacement"
   ]
  },
  {
   "cell_type": "code",
   "execution_count": 168,
   "metadata": {
    "slideshow": {
     "slide_type": "subslide"
    }
   },
   "outputs": [
    {
     "data": {
      "image/png": "[encoded data removed]",
      "text/plain": [
       "<Figure size 432x288 with 2 Axes>"
      ]
     },
     "metadata": {
      "needs_background": "light"
     },
     "output_type": "display_data"
    }
   ],
   "source": [
    "plt.figure(1)\n",
    "plt.imshow(Ux, interpolation='bilinear')\n",
    "plt.title(\"X displacement\")\n",
    "plt.colorbar()\n",
    "plt.show()"
   ]
  },
  {
   "cell_type": "code",
   "execution_count": 169,
   "metadata": {},
   "outputs": [
    {
     "data": {
      "image/png": "[encoded data removed]",
      "text/plain": [
       "<Figure size 432x288 with 2 Axes>"
      ]
     },
     "metadata": {
      "needs_background": "light"
     },
     "output_type": "display_data"
    }
   ],
   "source": [
    "plt.figure(2)\n",
    "plt.imshow(Uy, interpolation='bilinear')\n",
    "plt.title(\"Y displacement\")\n",
    "plt.colorbar()\n",
    "plt.show()"
   ]
  },
  {
   "cell_type": "markdown",
   "metadata": {
    "slideshow": {
     "slide_type": "subslide"
    }
   },
   "source": [
    "### Computing the strains\n",
    "$\\epsilon_x$ strain (Theoretical value = 0.4809)"
   ]
  },
  {
   "cell_type": "code",
   "execution_count": 165,
   "metadata": {
    "slideshow": {
     "slide_type": "subslide"
    }
   },
   "outputs": [
    {
     "data": {
      "text/plain": [
       "0.4807525658748474"
      ]
     },
     "execution_count": 165,
     "metadata": {},
     "output_type": "execute_result"
    }
   ],
   "source": [
    "ex = -U[0] + U[2]\n",
    "ex # Theoretical value = 0.4809"
   ]
  },
  {
   "cell_type": "markdown",
   "metadata": {
    "slideshow": {
     "slide_type": "subslide"
    }
   },
   "source": [
    "$\\epsilon_y$ strain (Theoretical value = -0.3245)"
   ]
  },
  {
   "cell_type": "code",
   "execution_count": 170,
   "metadata": {
    "slideshow": {
     "slide_type": "subslide"
    }
   },
   "outputs": [
    {
     "data": {
      "text/plain": [
       "-0.32425051581427433"
      ]
     },
     "execution_count": 170,
     "metadata": {},
     "output_type": "execute_result"
    }
   ],
   "source": [
    "ey = -U[1] + U[5]\n",
    "ey # Theoretical value = -0.3245"
   ]
  }
 ],
 "metadata": {
  "celltoolbar": "Slideshow",
  "kernelspec": {
   "display_name": "Python 3 (ipykernel)",
   "language": "python",
   "name": "python3"
  },
  "language_info": {
   "codemirror_mode": {
    "name": "ipython",
    "version": 3
   },
   "file_extension": ".py",
   "mimetype": "text/x-python",
   "name": "python",
   "nbconvert_exporter": "python",
   "pygments_lexer": "ipython3",
   "version": "3.8.12"
  }
 },
 "nbformat": 4,
 "nbformat_minor": 4
}
