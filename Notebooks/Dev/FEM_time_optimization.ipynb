{
 "cells": [
  {
   "cell_type": "code",
   "execution_count": 1,
   "metadata": {},
   "outputs": [],
   "source": [
    "%load_ext autoreload"
   ]
  },
  {
   "cell_type": "code",
   "execution_count": 266,
   "metadata": {
    "pycharm": {
     "name": "#%%\n"
    }
   },
   "outputs": [],
   "source": [
    "%autoreload 2\n",
    "from FEMOL import RectangleQuadMesh, FEM_Problem, PlaneStressResults\n",
    "from FEMOL.utils import *\n",
    "from FEMOL.materials import general_isotropic\n",
    "import FEMOL.materials\n",
    "import numpy as np\n",
    "import time\n",
    "import timeit\n",
    "import scipy.linalg\n",
    "import pyviennacl as p\n",
    "import itertools\n",
    "import numba as nb\n",
    "import matplotlib.pyplot as plt\n",
    "%config Completer.use_jedi = False\n",
    "np.set_printoptions(linewidth=200)\n",
    "\n",
    "def n_ele_dense_system_matrices(n):\n",
    "    Lx, Ly = n, n\n",
    "    mesh_args = [n]*4\n",
    "    mesh = RectangleQuadMesh(*mesh_args)\n",
    "    problem = FEM_Problem('displacement', 'plane', mesh)\n",
    "    problem.define_materials(general_isotropic())\n",
    "    problem.define_tensors(1)\n",
    "    force_domains = create_domain([Lx], [[3*Ly/8, 5*Ly/8]]) # domain where the force is applied\n",
    "    forces = [2, 0] # Force vector [Fx, Fy]\n",
    "    problem.add_forces(forces, force_domains) # Add the force on the domains to the problem\n",
    "    domain = create_domain([0] , [[0, Ly/4], [3*Ly/4, Ly]]) # create a domain object\n",
    "    problem.add_fixed_domain(domain) # Fix the boundary\n",
    "    problem.assemble('K', disable_vcl=True)\n",
    "\n",
    "    return problem.K, problem.F\n",
    "\n",
    "def n_element_plane_isotropic_problem(n):\n",
    "    Lx, Ly = n, n\n",
    "    mesh_args = [n]*4\n",
    "    mesh = RectangleQuadMesh(*mesh_args)\n",
    "    problem = FEM_Problem('displacement', 'plane', mesh)\n",
    "    problem.define_materials(general_isotropic())\n",
    "    problem.define_tensors(1)\n",
    "    force_domains = create_domain([Lx], [[3*Ly/8, 5*Ly/8]]) # domain where the force is applied\n",
    "    forces = [2, 0] # Force vector [Fx, Fy]\n",
    "    problem.add_forces(forces, force_domains) # Add the force on the domains to the problem\n",
    "    domain = create_domain([0] , [[0, Ly/4], [3*Ly/4, Ly]]) # create a domain object\n",
    "    problem.add_fixed_domain(domain) # Fix the boundary\n",
    "    problem.assemble('K')\n",
    "\n",
    "    return problem\n"
   ]
  },
  {
   "cell_type": "code",
   "execution_count": null,
   "metadata": {},
   "outputs": [],
   "source": [
    "problem_sizes = np.arange(60, 201, 20)\n",
    "\n",
    "vcl_mat_time = []\n",
    "vcl_solve_time = []\n",
    "scipy_mat_time = []\n",
    "scipy_solve_time = []\n",
    "\n",
    "for size in problem_sizes:\n",
    "    problem = n_element_problem(size)\n",
    "    row = problem.K.row\n",
    "    col = problem.K.col\n",
    "    data = problem.K.data\n",
    "    shape = problem.K.shape\n",
    "\n",
    "    now = time.time()\n",
    "    # fucking long\n",
    "    K_vcl = p.CompressedMatrix((shape[0], shape[1], len(data)), dtype=p.float32)\n",
    "    for i, j, v in zip(row, col, data):\n",
    "        K_vcl[int(i),int(j)] = v\n",
    "    F_vcl = p.Vector(problem.F.astype(np.float32))\n",
    "    time_to_vcl_sparse = time.time() - now\n",
    "    vcl_mat_time.append(time_to_vcl_sparse)\n",
    "\n",
    "    now = time.time()\n",
    "    U = K_vcl.solve(F_vcl, tag = p.cg_tag())\n",
    "    fastest_solve_in_the_west = time.time() - now\n",
    "    vcl_solve_time.append(fastest_solve_in_the_west)\n",
    "    \n",
    "    now = time.time()\n",
    "    K_csr = problem.K.tocsr()\n",
    "    mat_time = time.time() - now\n",
    "    scipy_mat_time.append(mat_time)\n",
    "    \n",
    "    now = time.time()\n",
    "    U = scipy.sparse.linalg.spsolve(K_csr, problem.F)\n",
    "    scipy_GPU_solve = time.time() - now\n",
    "    scipy_solve_time.append(scipy_GPU_solve)\n"
   ]
  },
  {
   "cell_type": "code",
   "execution_count": 24,
   "metadata": {},
   "outputs": [
    {
     "data": {
      "image/png": "[encoded data removed]",
      "text/plain": [
       "<Figure size 720x216 with 2 Axes>"
      ]
     },
     "metadata": {
      "needs_background": "light"
     },
     "output_type": "display_data"
    }
   ],
   "source": [
    "fig, (ax1, ax2) = plt.subplots(1, 2, figsize=(10,3))\n",
    "\n",
    "ax1.plot(problem_sizes, vcl_solve_time, label='vcl')\n",
    "ax1.plot(problem_sizes, scipy_solve_time, label='scipy')\n",
    "ax1.set_title('Solve time')\n",
    "ax1.set_xlabel('problem size')\n",
    "ax1.set_ylabel('time (s)')\n",
    "ax1.legend()\n",
    "\n",
    "ax2.plot(problem_sizes, vcl_mat_time, label='vcl')\n",
    "ax2.plot(problem_sizes, scipy_mat_time, label='scipy')\n",
    "ax2.set_title('Pre-cond time')\n",
    "ax2.set_xlabel('problem size')\n",
    "ax2.set_ylabel('time (s)')\n",
    "ax2.legend()\n",
    "\n",
    "plt.tight_layout()"
   ]
  },
  {
   "cell_type": "code",
   "execution_count": 25,
   "metadata": {},
   "outputs": [],
   "source": [
    "fig.savefig('solve-precond', dpi=200)"
   ]
  },
  {
   "cell_type": "code",
   "execution_count": 243,
   "metadata": {},
   "outputs": [],
   "source": [
    "n = 80\n",
    "Lx, Ly = n, n\n",
    "mesh_args = [n]*4\n",
    "mesh = RectangleQuadMesh(*mesh_args)\n",
    "problem = FEM_Problem('displacement', 'plane', mesh)\n",
    "problem.define_materials(general_isotropic())\n",
    "problem.define_tensors(1)\n",
    "\n",
    "domain = create_domain([0] , [[0, Ly/4], [3*Ly/4, Ly]]) # create a domain object\n",
    "problem.add_fixed_domain(domain) # Fix the boundary\n",
    "problem.element_stiffness_matrix()\n",
    "\n",
    "#problem.assemble_K()\n",
    "#problem.fix_boundary()"
   ]
  },
  {
   "cell_type": "code",
   "execution_count": 244,
   "metadata": {},
   "outputs": [],
   "source": [
    "rows, cols, data = problem.assemble_with_no_fix()"
   ]
  },
  {
   "cell_type": "code",
   "execution_count": 245,
   "metadata": {},
   "outputs": [],
   "source": [
    "fix_rows = []\n",
    "fix_cols = []\n",
    "fix_diags = []\n",
    "diag_indexes = []\n",
    "Nd = 2\n",
    "\n",
    "for domain, ddls in zip(problem.fixed_domains, problem.fixed_ddls):\n",
    "    fixed_nodes = FEMOL.utils.domain_nodes(domain, problem.mesh)\n",
    "    problem.fixed_nodes = np.append(problem.fixed_nodes, fixed_nodes)\n",
    "    for node in fixed_nodes:\n",
    "        for ddl in ddls:\n",
    "            fixed_rows = rows == node * Nd + ddl\n",
    "            fixed_cols = cols == node * Nd + ddl\n",
    "            fixed_diag = np.logical_and(fixed_rows, fixed_cols)\n",
    "            data[fixed_rows] = 0\n",
    "            data[fixed_cols] = 0\n",
    "            fix_rows.append(fixed_rows)\n",
    "            fix_cols.append(fixed_cols)\n",
    "            fix_diags.append(fixed_diag)\n",
    "            diag_indexes.append(np.nonzero(fixed_diag))\n",
    "    diag_indexes = np.hstack(diag_indexes).reshape(-1)\n",
    "    _, index1 = np.unique(cols[diag_indexes], return_index=True)\n",
    "    _, index2 = np.unique(rows[diag_indexes], return_index=True)\n",
    "    if (index1 == index2).all():\n",
    "        diag_indexes = diag_indexes[index1]\n",
    "        data[diag_indexes] = 1"
   ]
  },
  {
   "cell_type": "code",
   "execution_count": null,
   "metadata": {},
   "outputs": [],
   "source": []
  }
 ],
 "metadata": {
  "kernelspec": {
   "display_name": "Python 3",
   "language": "python",
   "name": "python3"
  },
  "language_info": {
   "codemirror_mode": {
    "name": "ipython",
    "version": 3
   },
   "file_extension": ".py",
   "mimetype": "text/x-python",
   "name": "python",
   "nbconvert_exporter": "python",
   "pygments_lexer": "ipython3",
   "version": "3.8.5"
  }
 },
 "nbformat": 4,
 "nbformat_minor": 4
}
