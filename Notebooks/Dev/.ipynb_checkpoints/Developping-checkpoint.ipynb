{
 "cells": [
  {
   "cell_type": "code",
   "execution_count": 1,
   "id": "absent-aquarium",
   "metadata": {},
   "outputs": [],
   "source": [
    "import sys\n",
    "%load_ext autoreload\n",
    "sys.path.append('..')"
   ]
  },
  {
   "cell_type": "code",
   "execution_count": 3,
   "id": "limited-interest",
   "metadata": {},
   "outputs": [],
   "source": [
    "%autoreload 2\n",
    "from FEMOL import RectangleQuadMesh, FEM_Problem, TOPOPT_Problem\n",
    "from FEMOL_utils import *"
   ]
  },
  {
   "cell_type": "markdown",
   "id": "million-bouquet",
   "metadata": {},
   "source": [
    "# Developping Notebook\n",
    "\n",
    "### Mesh"
   ]
  },
  {
   "cell_type": "code",
   "execution_count": 5,
   "id": "miniature-clark",
   "metadata": {},
   "outputs": [
    {
     "data": {
      "image/png": "[encoded data removed]",
      "text/plain": [
       "<Figure size 432x288 with 1 Axes>"
      ]
     },
     "metadata": {
      "needs_background": "light"
     },
     "output_type": "display_data"
    }
   ],
   "source": [
    "nelx = 40 # elements in the x direction\n",
    "nely = 30 # elements in the y direction\n",
    "\n",
    "# Creating the mesh\n",
    "Lx = nelx\n",
    "Ly = nely\n",
    "\n",
    "mesh = RectangleQuadMesh(Lx, Ly, nelx, nely)\n",
    "mesh.plot()"
   ]
  },
  {
   "cell_type": "markdown",
   "id": "amazing-dealer",
   "metadata": {},
   "source": [
    "## Plate bending\n",
    "\n",
    "### Constitutive relations\n",
    "\n",
    "with $ \\vec{\\epsilon} = \\begin{bmatrix} \\epsilon_x \\\\ \\epsilon_y \\\\ \\epsilon_{xy} \\end{bmatrix}$ and $\\vec{\\sigma} = \\begin{bmatrix} \\sigma_x \\\\ \\sigma_y \\\\ \\sigma_z \\end{bmatrix} $"
   ]
  },
  {
   "cell_type": "code",
   "execution_count": null,
   "id": "comparative-nerve",
   "metadata": {},
   "outputs": [],
   "source": []
  },
  {
   "cell_type": "code",
   "execution_count": null,
   "id": "bridal-transcription",
   "metadata": {},
   "outputs": [],
   "source": [
    "def Integrand(x, y, C):\n",
    "    \"\"\"\n",
    "    Returns the function corresponding to the integrand of the element stiffness matrix formula\n",
    "    :param x: x vector of the node coordinates\n",
    "    :param y: y vector of the node coordinates\n",
    "    :param C: Stiffness tensor\n",
    "    :return: A two variable function to be integrated\n",
    "    \"\"\"\n",
    "\n",
    "    # A values for jacobian matrix determinant\n",
    "    A0 = (1 / 8) * (\n",
    "                x[0] * y[1] - x[0] * y[3] - x[1] * y[0] + x[1] * y[2] - x[2] * y[1] + x[2] * y[3] + x[3] * y[0] - x[3] *\n",
    "                y[2])\n",
    "    A1 = (1 / 8) * (\n",
    "                -x[0] * y[2] + x[0] * y[3] + x[1] * y[2] - x[1] * y[3] + x[2] * y[0] - x[2] * y[1] - x[3] * y[0] + x[\n",
    "            3] * y[1])\n",
    "    A2 = (1 / 8) * (\n",
    "                -x[0] * y[1] + x[0] * y[2] + x[1] * y[0] - x[1] * y[3] - x[2] * y[0] + x[2] * y[3] + x[3] * y[1] - x[\n",
    "            3] * y[2])\n",
    "\n",
    "    # Create a function representing the element stiffness matrix in the xi-eta domain\n",
    "    def fun(xi, eta):\n",
    "        det_J = A0 + A1 * xi + A2 * eta  # scalar\n",
    "        dN_xi = np.array([eta / 4 - 1 / 4, 1 / 4 - eta / 4, eta / 4 + 1 / 4, -eta / 4 - 1 / 4])  # vector\n",
    "        dN_eta = np.array([xi / 4 - 1 / 4, -xi / 4 - 1 / 4, xi / 4 + 1 / 4, 1 / 4 - xi / 4])  # vector\n",
    "\n",
    "        # scalars\n",
    "        a = 0.25 * (x[0] * (eta - 1) - x[1] * (eta - 1) + x[2] * (eta + 1) - x[3] * (eta + 1))  # scalars\n",
    "        b = 0.25 * (y[0] * (eta - 1) - y[1] * (eta - 1) + y[2] * (eta + 1) - y[3] * (eta + 1))\n",
    "        c = 0.25 * (x[0] * (xi - 1) - x[1] * (xi + 1) + x[2] * (xi + 1) - x[3] * (xi - 1))\n",
    "        d = 0.25 * (y[0] * (xi - 1) - y[1] * (xi + 1) + y[2] * (xi + 1) - y[3] * (xi - 1))\n",
    "\n",
    "        # Strain matrix\n",
    "        B = np.zeros((3, 8))\n",
    "        B[0, range(0, 7, 2)] = d * dN_xi - b * dN_eta\n",
    "        B[1, range(1, 8, 2)] = -c * dN_xi + a * dN_eta\n",
    "        B[2, range(0, 7, 2)] = -c * dN_xi + a * dN_eta\n",
    "        B[2, range(1, 8, 2)] = d * dN_xi - b * dN_eta\n",
    "        B = (1 / det_J) * B\n",
    "\n",
    "        return B.transpose() @ C @ B * det_J\n",
    "\n",
    "    return fun"
   ]
  }
 ],
 "metadata": {
  "kernelspec": {
   "display_name": "FEM",
   "language": "python",
   "name": "fem"
  },
  "language_info": {
   "codemirror_mode": {
    "name": "ipython",
    "version": 3
   },
   "file_extension": ".py",
   "mimetype": "text/x-python",
   "name": "python",
   "nbconvert_exporter": "python",
   "pygments_lexer": "ipython3",
   "version": "3.9.5"
  }
 },
 "nbformat": 4,
 "nbformat_minor": 5
}
