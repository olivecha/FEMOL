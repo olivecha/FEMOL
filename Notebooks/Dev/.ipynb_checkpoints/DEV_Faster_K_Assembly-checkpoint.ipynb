{
 "cells": [
  {
   "cell_type": "code",
   "execution_count": 1,
   "metadata": {},
   "outputs": [],
   "source": [
    "import os\n",
    "os.chdir('/Users/Olivier/anaconda3/envs/FEM')\n",
    "%load_ext autoreload"
   ]
  },
  {
   "cell_type": "code",
   "execution_count": 2,
   "metadata": {},
   "outputs": [],
   "source": [
    "%autoreload 2\n",
    "from FEMOL import RectangleQuadMesh, FEM_Problem, TOPOPT_Problem\n",
    "from FEMOL_utils import *\n",
    "import timeit\n",
    "np.set_printoptions(linewidth=150)"
   ]
  },
  {
   "cell_type": "markdown",
   "metadata": {},
   "source": [
    "# Developping Notebook"
   ]
  },
  {
   "cell_type": "markdown",
   "metadata": {},
   "source": [
    "## Testing the actual function"
   ]
  },
  {
   "cell_type": "code",
   "execution_count": 112,
   "metadata": {},
   "outputs": [],
   "source": [
    "nelx = 40 # elements in the x direction\n",
    "nely = 40 # elements in the y direction\n",
    "\n",
    "# Creating the mesh\n",
    "Lx = nelx\n",
    "Ly = nely\n",
    "mesh = RectangleQuadMesh(Lx, Ly, nelx, nely)\n",
    "plate_problem = FEM_Problem(mesh, material=general_carbon())\n",
    "layup = [0, 0, 0, 0]\n",
    "plate_problem.orthotropic_plane_stress_tensor(layup)\n",
    "plate_problem.orthotropic_bending_stress_tensor(layup)\n",
    "plate_problem.out_of_plane_shear(1000)\n",
    "plate_problem.complete_plate_Ke()\n",
    "plate_problem.assemble_plate_K() # 1.83 s ± 56.8 ms per loop (mean ± std. dev. of 7 runs, 1 loop each)\n",
    "\n",
    "# Fixing some boundary\n",
    "fixed_domain = create_domain([0], [[0, Ly]])\n",
    "plate_problem.add_fixed_domain(fixed_domain)\n",
    "\n",
    "fixed_domain = create_domain([Lx], [[0, Ly]])\n",
    "plate_problem.add_fixed_domain(fixed_domain)\n",
    "\n",
    "fixed_domain = create_domain([[0, Lx]], [0])\n",
    "plate_problem.add_fixed_domain(fixed_domain)\n",
    "\n",
    "fixed_domain = create_domain([[0, Lx]], [Ly])\n",
    "plate_problem.add_fixed_domain(fixed_domain)\n",
    "\n",
    "plate_problem.fix_boundary()\n",
    "\n",
    "# Appliying some force\n",
    "force = [0, 0, -1e-2, 0, 0, 0]\n",
    "force_domain = create_domain([[9*Lx/20, 11*Lx/20]], [[9*Ly/20, 11*Ly/20]])\n",
    "plate_problem.add_forces(force, force_domain)\n",
    "\n",
    "# Solving\n",
    "displacement = plate_problem.solve() # 1.1 s ± 8.68 ms per loop (mean ± std. dev. of 7 runs, 1 loop each)"
   ]
  },
  {
   "cell_type": "markdown",
   "metadata": {},
   "source": [
    "## Making the assembly faster"
   ]
  },
  {
   "cell_type": "code",
   "execution_count": 113,
   "metadata": {},
   "outputs": [],
   "source": [
    "nelx = 4 # elements in the x direction\n",
    "nely = 4 # elements in the y direction\n",
    "\n",
    "# Creating the mesh\n",
    "Lx = nelx\n",
    "Ly = nely\n",
    "mesh = RectangleQuadMesh(Lx, Ly, nelx, nely)\n",
    "problem2 = FEM_Problem(mesh, material=general_carbon())\n",
    "layup = [0, 0, 0, 0]\n",
    "problem2.orthotropic_plane_stress_tensor(layup)\n",
    "problem2.orthotropic_bending_stress_tensor(layup)\n",
    "problem2.out_of_plane_shear(1000)\n",
    "problem2.complete_plate_Ke()"
   ]
  },
  {
   "cell_type": "code",
   "execution_count": 114,
   "metadata": {},
   "outputs": [
    {
     "data": {
      "image/png": "[encoded data removed]",
      "text/plain": [
       "<Figure size 432x288 with 1 Axes>"
      ]
     },
     "metadata": {
      "needs_background": "light"
     },
     "output_type": "display_data"
    }
   ],
   "source": [
    "plt.spy(problem2.ke_plate)\n",
    "plt.show()"
   ]
  },
  {
   "cell_type": "code",
   "execution_count": 121,
   "metadata": {},
   "outputs": [],
   "source": [
    "self=problem2\n",
    "self.kind = 'complete plate KU = F'\n",
    "N_ddls = self.N_ddls\n",
    "K1 = np.zeros([N_ddls * self.mesh.Nnodes, N_ddls * self.mesh.Nnodes])\n",
    "for ele in self.mesh.CONEC:\n",
    "    for node, ke_index_1 in zip(ele, np.arange(0, self.mesh.Nnodes*self.N_ddls-1, self.N_ddls)):\n",
    "        for node2, ke_index_2 in zip(ele, np.arange(0, self.mesh.Nnodes*self.N_ddls-1, self.N_ddls)):\n",
    "            for ddl_1 in np.arange(N_ddls):\n",
    "                for ddl_2 in np.arange(N_ddls):\n",
    "                    K_index_1 = N_ddls * node + ddl_1\n",
    "                    K_index_2 = N_ddls * node2 + ddl_2\n",
    "                    K1[K_index_1][K_index_2] += self.ke_plate[ke_index_1 + ddl_1][ke_index_2 + ddl_2]\n",
    "            "
   ]
  },
  {
   "cell_type": "code",
   "execution_count": 74,
   "metadata": {},
   "outputs": [
    {
     "ename": "ValueError",
     "evalue": "operands could not be broadcast together with shapes (6,6) (24,24) (6,6) ",
     "output_type": "error",
     "traceback": [
      "\u001b[0;31m---------------------------------------------------------------------------\u001b[0m",
      "\u001b[0;31mValueError\u001b[0m                                Traceback (most recent call last)",
      "\u001b[0;32m<ipython-input-74-1c48a0a33b2b>\u001b[0m in \u001b[0;36m<module>\u001b[0;34m\u001b[0m\n\u001b[1;32m      5\u001b[0m \u001b[0;32mfor\u001b[0m \u001b[0mele\u001b[0m \u001b[0;32min\u001b[0m \u001b[0mself\u001b[0m\u001b[0;34m.\u001b[0m\u001b[0mmesh\u001b[0m\u001b[0;34m.\u001b[0m\u001b[0mCONEC\u001b[0m\u001b[0;34m:\u001b[0m\u001b[0;34m\u001b[0m\u001b[0;34m\u001b[0m\u001b[0m\n\u001b[1;32m      6\u001b[0m     \u001b[0;32mfor\u001b[0m \u001b[0mnode\u001b[0m \u001b[0;32min\u001b[0m \u001b[0mele\u001b[0m\u001b[0;34m:\u001b[0m\u001b[0;34m\u001b[0m\u001b[0;34m\u001b[0m\u001b[0m\n\u001b[0;32m----> 7\u001b[0;31m         \u001b[0mK\u001b[0m\u001b[0;34m[\u001b[0m\u001b[0mnode\u001b[0m\u001b[0;34m*\u001b[0m\u001b[0mN_ddls\u001b[0m \u001b[0;34m:\u001b[0m \u001b[0mnode\u001b[0m\u001b[0;34m*\u001b[0m\u001b[0mN_ddls\u001b[0m\u001b[0;34m+\u001b[0m\u001b[0mN_ddls\u001b[0m\u001b[0;34m,\u001b[0m \u001b[0mnode\u001b[0m\u001b[0;34m*\u001b[0m\u001b[0mN_ddls\u001b[0m \u001b[0;34m:\u001b[0m \u001b[0mnode\u001b[0m\u001b[0;34m*\u001b[0m\u001b[0mN_ddls\u001b[0m\u001b[0;34m+\u001b[0m\u001b[0mN_ddls\u001b[0m\u001b[0;34m]\u001b[0m \u001b[0;34m+=\u001b[0m \u001b[0mself\u001b[0m\u001b[0;34m.\u001b[0m\u001b[0mke_plate\u001b[0m\u001b[0;34m\u001b[0m\u001b[0;34m\u001b[0m\u001b[0m\n\u001b[0m",
      "\u001b[0;31mValueError\u001b[0m: operands could not be broadcast together with shapes (6,6) (24,24) (6,6) "
     ]
    }
   ],
   "source": [
    "self=problem2\n",
    "self.kind = 'complete plate KU = F'\n",
    "N_ddls = self.N_ddls\n",
    "K = np.zeros([N_ddls * self.mesh.Nnodes, N_ddls * self.mesh.Nnodes])\n",
    "for ele in self.mesh.CONEC:\n",
    "    nodes1, nodes2 = np.meshgrid(ele, ele)\n",
    "    \n",
    "    for node1, node2, ke_index in zip(nodes1.reshape(-1), nodes2.reshape(-2)):\n",
    "        K[node1*N_ddls : node1*N_ddls+N_ddls, node2*N_ddls : node2*N_ddls+N_ddls] += self.ke_plate\n"
   ]
  },
  {
   "cell_type": "code",
   "execution_count": 141,
   "metadata": {},
   "outputs": [
    {
     "data": {
      "text/plain": [
       "array([ 0,  6, 12, 18])"
      ]
     },
     "execution_count": 141,
     "metadata": {},
     "output_type": "execute_result"
    }
   ],
   "source": [
    "np.arange(0, self.mesh.Nnodes*self.N_ddls-1, self.N_ddls)[:4]"
   ]
  },
  {
   "cell_type": "code",
   "execution_count": 116,
   "metadata": {},
   "outputs": [
    {
     "data": {
      "text/plain": [
       "<matplotlib.image.AxesImage at 0x7fbe035ead00>"
      ]
     },
     "execution_count": 116,
     "metadata": {},
     "output_type": "execute_result"
    },
    {
     "data": {
      "image/png": "[encoded data removed]",
      "text/plain": [
       "<Figure size 432x288 with 1 Axes>"
      ]
     },
     "metadata": {
      "needs_background": "light"
     },
     "output_type": "display_data"
    }
   ],
   "source": [
    "plt.spy(K1)"
   ]
  },
  {
   "cell_type": "code",
   "execution_count": 144,
   "metadata": {},
   "outputs": [],
   "source": [
    "nodes1, nodes2 = np.meshgrid(ele, ele)"
   ]
  },
  {
   "cell_type": "code",
   "execution_count": 146,
   "metadata": {},
   "outputs": [
    {
     "data": {
      "text/plain": [
       "array([18, 19, 24, 23, 18, 19, 24, 23, 18, 19, 24, 23, 18, 19, 24, 23])"
      ]
     },
     "execution_count": 146,
     "metadata": {},
     "output_type": "execute_result"
    }
   ],
   "source": [
    "nodes1.reshape(-1)"
   ]
  },
  {
   "cell_type": "code",
   "execution_count": 147,
   "metadata": {},
   "outputs": [
    {
     "data": {
      "text/plain": [
       "array([  0,   6,  12,  18,  24,  30,  36,  42,  48,  54,  60,  66,  72,  78,  84,  90,  96, 102, 108, 114, 120, 126, 132, 138, 144])"
      ]
     },
     "execution_count": 147,
     "metadata": {},
     "output_type": "execute_result"
    }
   ],
   "source": [
    "np.arange(0, self.mesh.Nnodes*self.N_ddls-1, self.N_ddls)"
   ]
  },
  {
   "cell_type": "code",
   "execution_count": null,
   "metadata": {},
   "outputs": [],
   "source": []
  }
 ],
 "metadata": {
  "kernelspec": {
   "display_name": "FEM",
   "language": "python",
   "name": "fem"
  },
  "language_info": {
   "codemirror_mode": {
    "name": "ipython",
    "version": 3
   },
   "file_extension": ".py",
   "mimetype": "text/x-python",
   "name": "python",
   "nbconvert_exporter": "python",
   "pygments_lexer": "ipython3",
   "version": "3.9.5"
  }
 },
 "nbformat": 4,
 "nbformat_minor": 5
}
