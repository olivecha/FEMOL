{
 "cells": [
  {
   "cell_type": "code",
   "execution_count": 1,
   "id": "absent-aquarium",
   "metadata": {},
   "outputs": [],
   "source": [
    "import sys\n",
    "%load_ext autoreload\n",
    "sys.path.append('..')"
   ]
  },
  {
   "cell_type": "code",
   "execution_count": 2,
   "id": "limited-interest",
   "metadata": {},
   "outputs": [],
   "source": [
    "%autoreload 2\n",
    "from FEMOL import RectangleQuadMesh, FEM_Problem, TOPOPT_Problem\n",
    "from FEMOL_utils import *"
   ]
  },
  {
   "cell_type": "markdown",
   "id": "million-bouquet",
   "metadata": {},
   "source": [
    "# Developping Notebook\n",
    "\n",
    "### Mesh"
   ]
  },
  {
   "cell_type": "code",
   "execution_count": 3,
   "id": "miniature-clark",
   "metadata": {},
   "outputs": [
    {
     "data": {
      "image/png": "[encoded data removed]",
      "text/plain": [
       "<Figure size 432x288 with 1 Axes>"
      ]
     },
     "metadata": {
      "needs_background": "light"
     },
     "output_type": "display_data"
    }
   ],
   "source": [
    "nelx = 40 # elements in the x direction\n",
    "nely = 30 # elements in the y direction\n",
    "\n",
    "# Creating the mesh\n",
    "Lx = nelx\n",
    "Ly = nely\n",
    "\n",
    "mesh = RectangleQuadMesh(Lx, Ly, nelx, nely)\n",
    "mesh.plot()"
   ]
  },
  {
   "cell_type": "markdown",
   "id": "satisfactory-curtis",
   "metadata": {},
   "source": [
    "### Mass Matrix\n",
    "\n",
    "The distributed mass matrix is defined as follow : \n",
    "\n",
    "$M_e = \\int_V \\rho (N^T N) dV$ \n",
    "\n",
    "With 2 ddls, we have $N$ so that : \n",
    "\n",
    "$N = \\begin{bmatrix} N1 & 0 & N2 & 0 & N3 & 0 & N4 & 0 \\\\ 0 & N1 & 0 & N2 & 0 & N3 & 0 & N4 \\end{bmatrix}$\n",
    "\n",
    "And :\n",
    "\n",
    "$\n",
    "N_1 = \\frac{1}{4}(1-\\xi)(1-\\eta) \\\\ N_2 = \\frac{1}{4}(1+\\xi)(1-\\eta)  \\\\ N_3 = \\frac{1}{4}(1+\\xi)(1+\\eta)  \\\\N_4 = \\frac{1}{4}(1-\\xi)(1+\\eta) \n",
    "$\n",
    "\n",
    "With the coordinate transformation from $\\xi$, $\\eta$ to $x$, $y$ : \n",
    "\n",
    "$\\begin{bmatrix} x(\\xi, \\eta) & y(\\xi, \\eta) \\end{bmatrix} = \\begin{bmatrix} N_1 & N_2 & N_3 & N_4 \\end{bmatrix} \\begin{bmatrix} x_1 & y_1 \\\\ x_2 & y_2 \\\\ x_3 & y_3 \\\\ x_4 & y_4 \\end{bmatrix} $"
   ]
  },
  {
   "cell_type": "markdown",
   "id": "wrong-ratio",
   "metadata": {},
   "source": [
    "### Mass Matrix\n",
    "\n",
    "$M_e = \\int_V \\rho N(\\xi, \\eta)^T N(\\xi, \\eta) \\: dV$ \n",
    "\n",
    "$N = \\begin{bmatrix} N1 & 0 & N2 & 0 & N3 & 0 & N4 & 0 \\\\ 0 & N1 & 0 & N2 & 0 & N3 & 0 & N4 \\end{bmatrix}$\n",
    "\n",
    "$\n",
    "N_1 = \\frac{1}{4}(1-\\xi)(1-\\eta) \\\\ N_2 = \\frac{1}{4}(1+\\xi)(1-\\eta)  \\\\ N_3 = \\frac{1}{4}(1+\\xi)(1+\\eta)  \\\\N_4 = \\frac{1}{4}(1-\\xi)(1+\\eta) \n",
    "$\n",
    "\n",
    "$\\begin{bmatrix} x(\\xi, \\eta) & y(\\xi, \\eta) \\end{bmatrix} = \\begin{bmatrix} N_1 & N_2 & N_3 & N_4 \\end{bmatrix} \\begin{bmatrix} x_1 & y_1 \\\\ x_2 & y_2 \\\\ x_3 & y_3 \\\\ x_4 & y_4 \\end{bmatrix} $\n",
    "\n",
    "$ M_e = t \\rho \\int\\int_D N(x,y)^T N(x,y)\\: dV$\n",
    "\n",
    "$ M_e = t \\rho \\int\\int_D N(x(\\xi, \\eta),y(\\xi, \\eta))^T N(x(\\xi, \\eta),y(\\xi, \\eta))\\: dV$\n"
   ]
  },
  {
   "cell_type": "code",
   "execution_count": 81,
   "id": "peaceful-backing",
   "metadata": {},
   "outputs": [],
   "source": [
    "# Function used in Mass element matrix integration\n",
    "def make_N_matrix(x_nodes, y_nodes):\n",
    "    # Create the real element shape functions\n",
    "    P_lines = []\n",
    "    for xi, yi in zip(x_nodes, y_nodes):\n",
    "        P_lines.append(np.array([1, xi, yi, xi*yi]))\n",
    "\n",
    "    P = np.vstack(P_lines)\n",
    "    P_inv = np.linalg.inv(P)\n",
    "\n",
    "    def N1(x,y):\n",
    "        coefs = P_inv[:,0]\n",
    "        return coefs[0] + coefs[1]*x + coefs[2]*y + coefs[3]*x*y\n",
    "    \n",
    "    def N2(x,y):\n",
    "        coefs = P_inv[:,1]\n",
    "        return coefs[0] + coefs[1]*x + coefs[2]*y + coefs[3]*x*y\n",
    "    \n",
    "    def N3(x,y):\n",
    "        coefs = P_inv[:,2]\n",
    "        return coefs[0] + coefs[1]*x + coefs[2]*y + coefs[3]*x*y\n",
    "    \n",
    "    def N4(x,y):\n",
    "        coefs = P_inv[:,3]\n",
    "        return coefs[0] + coefs[1]*x + coefs[2]*y + coefs[3]*x*y\n",
    "    \n",
    "    def N(x,y):\n",
    "    \n",
    "        result = np.array([[N1(x,y), 0,       N2(x,y), 0,       N3(x,y), 0,       N4(x,y), 0],\n",
    "                          [0,       N1(x,y), 0,       N2(x,y), 0,       N3(x,y), 0,       N4(x,y)]])\n",
    "        \n",
    "        return result\n",
    "    \n",
    "    return N\n",
    "\n",
    "\n",
    "def x_gauss_points(xi, eta, x):\n",
    "    x_value = 0\n",
    "    x_value += x[0]*(0.25*(1-xi)*(1-eta))\n",
    "    x_value += x[1]*(0.25*(1+xi)*(1-eta))\n",
    "    x_value += x[2]*(0.25*(1+xi)*(1+eta))\n",
    "    x_value += x[3]*(0.25*(1-xi)*(1+eta))\n",
    "    return x_value\n",
    "    \n",
    "def y_gauss_points(xi, eta, y):\n",
    "    y_value = 0\n",
    "    y_value += y[0]*(0.25*(1-xi)*(1-eta))\n",
    "    y_value += y[1]*(0.25*(1+xi)*(1-eta))\n",
    "    y_value += y[2]*(0.25*(1+xi)*(1+eta))\n",
    "    y_value += y[3]*(0.25*(1-xi)*(1+eta))\n",
    "    return y_value\n",
    "\n",
    "def J_det(xi, eta, x, y):\n",
    "    A0 = (1 / 8) * (\n",
    "            x[0] * y[1] - x[0] * y[3] - x[1] * y[0] + x[1] * y[2] - x[2] * y[1] + x[2] * y[3] + x[3] * y[0] - x[3] *\n",
    "            y[2])\n",
    "    A1 = (1 / 8) * (\n",
    "                -x[0] * y[2] + x[0] * y[3] + x[1] * y[2] - x[1] * y[3] + x[2] * y[0] - x[2] * y[1] - x[3] * y[0] + x[\n",
    "            3] * y[1])\n",
    "    A2 = (1 / 8) * (\n",
    "                -x[0] * y[1] + x[0] * y[2] + x[1] * y[0] - x[1] * y[3] - x[2] * y[0] + x[2] * y[3] + x[3] * y[1] - x[\n",
    "            3] * y[2])\n",
    "    return A0 + A1 * xi + A2 * eta"
   ]
  },
  {
   "cell_type": "code",
   "execution_count": 88,
   "id": "stuffed-second",
   "metadata": {},
   "outputs": [
    {
     "name": "stdout",
     "output_type": "stream",
     "text": [
      "31.999999999999993\n"
     ]
    },
    {
     "data": {
      "text/plain": [
       "array([[15.,  0., 10.,  0.,  1.,  0., 10.,  0.],\n",
       "       [ 0., 15.,  0., 10.,  0.,  1.,  0., 10.],\n",
       "       [10.,  0., 23.,  0.,  8.,  0.,  8.,  0.],\n",
       "       [ 0., 10.,  0., 23.,  0.,  8.,  0.,  8.],\n",
       "       [ 1.,  0.,  8.,  0., 14.,  0.,  6.,  0.],\n",
       "       [ 0.,  1.,  0.,  8.,  0., 14.,  0.,  6.],\n",
       "       [10.,  0.,  8.,  0.,  6.,  0., 21.,  0.],\n",
       "       [ 0., 10.,  0.,  8.,  0.,  6.,  0., 21.]])"
      ]
     },
     "execution_count": 88,
     "metadata": {},
     "output_type": "execute_result"
    }
   ],
   "source": [
    "# Example element\n",
    "x_nodes = [0, 5, 4, 1]\n",
    "y_nodes = [0, 1, 5, 4]\n",
    "\n",
    "# Find the gaussian integration points on the real element :\n",
    "gauss_value = np.sqrt(3) / 3\n",
    "\n",
    "xis = np.array([-gauss_value, gauss_value, gauss_value, -gauss_value])\n",
    "etas = np.array([-gauss_value, -gauss_value, gauss_value, gauss_value])\n",
    "\n",
    "x_points = x_gauss_points(xis, etas, x_nodes)\n",
    "y_points = y_gauss_points(xis, etas, y_nodes)\n",
    "\n",
    "#Find the N matrix to be integrated :\n",
    "N = make_N_matrix(x_nodes, y_nodes)\n",
    "\n",
    "M = 0\n",
    "for x_point, y_point, xi, eta in zip(x_points, y_points, xis, etas):\n",
    "    M += N(x_point, y_point).transpose()@N(x_point, y_point)*J_det(xi, eta, x_nodes, y_nodes)\n",
    "\n",
    "print(np.sum(M))\n",
    "np.around(M*10, 0)"
   ]
  },
  {
   "cell_type": "code",
   "execution_count": 87,
   "id": "graduate-database",
   "metadata": {},
   "outputs": [
    {
     "name": "stdout",
     "output_type": "stream",
     "text": [
      "8.0\n"
     ]
    },
    {
     "data": {
      "text/plain": [
       "array([[4., 0., 2., 0., 1., 0., 2., 0.],\n",
       "       [0., 4., 0., 2., 0., 1., 0., 2.],\n",
       "       [2., 0., 4., 0., 2., 0., 1., 0.],\n",
       "       [0., 2., 0., 4., 0., 2., 0., 1.],\n",
       "       [1., 0., 2., 0., 4., 0., 2., 0.],\n",
       "       [0., 1., 0., 2., 0., 4., 0., 2.],\n",
       "       [2., 0., 1., 0., 2., 0., 4., 0.],\n",
       "       [0., 2., 0., 1., 0., 2., 0., 4.]])"
      ]
     },
     "execution_count": 87,
     "metadata": {},
     "output_type": "execute_result"
    }
   ],
   "source": [
    "def N1(xi, eta):\n",
    "    return 0.25*(1-xi)*(1-eta)\n",
    "def N2(xi, eta):\n",
    "    return 0.25*(1+xi)*(1-eta)\n",
    "def N3(xi, eta):\n",
    "    return 0.25*(1+xi)*(1+eta)\n",
    "def N4(xi, eta):\n",
    "    return 0.25*(1-xi)*(1+eta)\n",
    "\n",
    "def N(xi, eta):\n",
    "    result = np.array([[N1(xi, eta), 0, N2(xi, eta), 0, N3(xi, eta), 0, N4(xi, eta), 0],\n",
    "                 [0, N1(xi, eta), 0, N2(xi, eta), 0, N3(xi, eta), 0, N4(xi, eta)]])\n",
    "    return result\n",
    "\n",
    "gauss_value = np.sqrt(3) / 3\n",
    "xis = np.array([-gauss_value, gauss_value, gauss_value, -gauss_value])\n",
    "etas = np.array([-gauss_value, -gauss_value, gauss_value, gauss_value])\n",
    "\n",
    "M = 0\n",
    "for xi, eta in zip(xis, etas):\n",
    "    M += N(xi, eta).transpose()@N(xi, eta)\n",
    "print(np.sum(M))\n",
    "np.around(M*10,0)"
   ]
  },
  {
   "cell_type": "code",
   "execution_count": 74,
   "id": "bridal-suggestion",
   "metadata": {},
   "outputs": [
    {
     "data": {
      "text/plain": [
       "array([[1., 0., 0., 0., 0., 0., 0., 0.],\n",
       "       [0., 1., 0., 0., 0., 0., 0., 0.]])"
      ]
     },
     "execution_count": 74,
     "metadata": {},
     "output_type": "execute_result"
    }
   ],
   "source": [
    "array([[4., 0., 2., 0., 1., 0., 2., 0.],\n",
    "       [0., 4., 0., 2., 0., 1., 0., 2.],\n",
    "       [2., 0., 4., 0., 2., 0., 1., 0.],\n",
    "       [0., 2., 0., 4., 0., 2., 0., 1.],\n",
    "       [1., 0., 2., 0., 4., 0., 2., 0.],\n",
    "       [0., 1., 0., 2., 0., 4., 0., 2.],\n",
    "       [2., 0., 1., 0., 2., 0., 4., 0.],\n",
    "       [0., 2., 0., 1., 0., 2., 0., 4.]])"
   ]
  },
  {
   "cell_type": "code",
   "execution_count": 70,
   "id": "affected-zambia",
   "metadata": {},
   "outputs": [
    {
     "data": {
      "text/plain": [
       "array([[1, 1],\n",
       "       [2, 2],\n",
       "       [3, 3]])"
      ]
     },
     "execution_count": 70,
     "metadata": {},
     "output_type": "execute_result"
    }
   ],
   "source": [
    "seq = [[1,1], [2,2], [3,3]]\n",
    "np.stack(seq)"
   ]
  },
  {
   "cell_type": "code",
   "execution_count": null,
   "id": "bridal-transcription",
   "metadata": {},
   "outputs": [],
   "source": [
    "def Integrand(x, y, C):\n",
    "    \"\"\"\n",
    "    Returns the function corresponding to the integrand of the element stiffness matrix formula\n",
    "    :param x: x vector of the node coordinates\n",
    "    :param y: y vector of the node coordinates\n",
    "    :param C: Stiffness tensor\n",
    "    :return: A two variable function to be integrated\n",
    "    \"\"\"\n",
    "\n",
    "    # A values for jacobian matrix determinant\n",
    "    A0 = (1 / 8) * (\n",
    "                x[0] * y[1] - x[0] * y[3] - x[1] * y[0] + x[1] * y[2] - x[2] * y[1] + x[2] * y[3] + x[3] * y[0] - x[3] *\n",
    "                y[2])\n",
    "    A1 = (1 / 8) * (\n",
    "                -x[0] * y[2] + x[0] * y[3] + x[1] * y[2] - x[1] * y[3] + x[2] * y[0] - x[2] * y[1] - x[3] * y[0] + x[\n",
    "            3] * y[1])\n",
    "    A2 = (1 / 8) * (\n",
    "                -x[0] * y[1] + x[0] * y[2] + x[1] * y[0] - x[1] * y[3] - x[2] * y[0] + x[2] * y[3] + x[3] * y[1] - x[\n",
    "            3] * y[2])\n",
    "\n",
    "    # Create a function representing the element stiffness matrix in the xi-eta domain\n",
    "    def fun(xi, eta):\n",
    "        det_J = A0 + A1 * xi + A2 * eta  # scalar\n",
    "        dN_xi = np.array([eta / 4 - 1 / 4, 1 / 4 - eta / 4, eta / 4 + 1 / 4, -eta / 4 - 1 / 4])  # vector\n",
    "        dN_eta = np.array([xi / 4 - 1 / 4, -xi / 4 - 1 / 4, xi / 4 + 1 / 4, 1 / 4 - xi / 4])  # vector\n",
    "\n",
    "        # scalars\n",
    "        a = 0.25 * (x[0] * (eta - 1) - x[1] * (eta - 1) + x[2] * (eta + 1) - x[3] * (eta + 1))  # scalars\n",
    "        b = 0.25 * (y[0] * (eta - 1) - y[1] * (eta - 1) + y[2] * (eta + 1) - y[3] * (eta + 1))\n",
    "        c = 0.25 * (x[0] * (xi - 1) - x[1] * (xi + 1) + x[2] * (xi + 1) - x[3] * (xi - 1))\n",
    "        d = 0.25 * (y[0] * (xi - 1) - y[1] * (xi + 1) + y[2] * (xi + 1) - y[3] * (xi - 1))\n",
    "\n",
    "        # Strain matrix\n",
    "        B = np.zeros((3, 8))\n",
    "        B[0, range(0, 7, 2)] = d * dN_xi - b * dN_eta\n",
    "        B[1, range(1, 8, 2)] = -c * dN_xi + a * dN_eta\n",
    "        B[2, range(0, 7, 2)] = -c * dN_xi + a * dN_eta\n",
    "        B[2, range(1, 8, 2)] = d * dN_xi - b * dN_eta\n",
    "        B = (1 / det_J) * B\n",
    "\n",
    "        return B.transpose() @ C @ B * det_J\n",
    "\n",
    "    return fun"
   ]
  }
 ],
 "metadata": {
  "kernelspec": {
   "display_name": "FEM",
   "language": "python",
   "name": "fem"
  },
  "language_info": {
   "codemirror_mode": {
    "name": "ipython",
    "version": 3
   },
   "file_extension": ".py",
   "mimetype": "text/x-python",
   "name": "python",
   "nbconvert_exporter": "python",
   "pygments_lexer": "ipython3",
   "version": "3.9.5"
  }
 },
 "nbformat": 4,
 "nbformat_minor": 5
}
