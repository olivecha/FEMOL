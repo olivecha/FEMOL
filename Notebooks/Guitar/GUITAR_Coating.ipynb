{
 "cells": [
  {
   "cell_type": "code",
   "execution_count": 3,
   "id": "absent-aquarium",
   "metadata": {},
   "outputs": [],
   "source": [
    "import sys\n",
    "%load_ext autoreload\n",
    "sys.path.append('..')"
   ]
  },
  {
   "cell_type": "code",
   "execution_count": 4,
   "id": "limited-interest",
   "metadata": {},
   "outputs": [
    {
     "ename": "ModuleNotFoundError",
     "evalue": "No module named 'FEMOL'",
     "output_type": "error",
     "traceback": [
      "\u001b[0;31m---------------------------------------------------------------------------\u001b[0m",
      "\u001b[0;31mModuleNotFoundError\u001b[0m                       Traceback (most recent call last)",
      "\u001b[0;32m<ipython-input-4-e8e60d54ab35>\u001b[0m in \u001b[0;36m<module>\u001b[0;34m\u001b[0m\n\u001b[1;32m      1\u001b[0m \u001b[0mget_ipython\u001b[0m\u001b[0;34m(\u001b[0m\u001b[0;34m)\u001b[0m\u001b[0;34m.\u001b[0m\u001b[0mrun_line_magic\u001b[0m\u001b[0;34m(\u001b[0m\u001b[0;34m'autoreload'\u001b[0m\u001b[0;34m,\u001b[0m \u001b[0;34m'2'\u001b[0m\u001b[0;34m)\u001b[0m\u001b[0;34m\u001b[0m\u001b[0;34m\u001b[0m\u001b[0m\n\u001b[0;32m----> 2\u001b[0;31m \u001b[0;32mfrom\u001b[0m \u001b[0mFEMOL\u001b[0m \u001b[0;32mimport\u001b[0m \u001b[0mRectangleQuadMesh\u001b[0m\u001b[0;34m,\u001b[0m \u001b[0mFEM_Problem\u001b[0m\u001b[0;34m,\u001b[0m \u001b[0mTOPOPT_Problem\u001b[0m\u001b[0;34m,\u001b[0m \u001b[0mTOPOPT_Results\u001b[0m\u001b[0;34m\u001b[0m\u001b[0;34m\u001b[0m\u001b[0m\n\u001b[0m\u001b[1;32m      3\u001b[0m \u001b[0;32mfrom\u001b[0m \u001b[0mFEMOL_utils\u001b[0m \u001b[0;32mimport\u001b[0m \u001b[0;34m*\u001b[0m\u001b[0;34m\u001b[0m\u001b[0;34m\u001b[0m\u001b[0m\n\u001b[1;32m      4\u001b[0m \u001b[0;32mimport\u001b[0m \u001b[0mtimeit\u001b[0m\u001b[0;34m\u001b[0m\u001b[0;34m\u001b[0m\u001b[0m\n\u001b[1;32m      5\u001b[0m \u001b[0;32mimport\u001b[0m \u001b[0mnumpy\u001b[0m \u001b[0;32mas\u001b[0m \u001b[0mnp\u001b[0m\u001b[0;34m\u001b[0m\u001b[0;34m\u001b[0m\u001b[0m\n",
      "\u001b[0;31mModuleNotFoundError\u001b[0m: No module named 'FEMOL'"
     ]
    }
   ],
   "source": [
    "%autoreload 2\n",
    "from FEMOL import RectangleQuadMesh, FEM_Problem, TOPOPT_Problem, TOPOPT_Results\n",
    "from FEMOL_utils import *\n",
    "import timeit\n",
    "import numpy as np\n",
    "import matplotlib.animation as animation\n",
    "from scipy.optimize import fsolve\n",
    "np.set_printoptions(linewidth=110)\n",
    "from IPython.display import display, clear_output"
   ]
  },
  {
   "cell_type": "markdown",
   "id": "million-bouquet",
   "metadata": {},
   "source": [
    "# Plane Stress Guitar Topology Optimization\n",
    "\n",
    "## Domain Functions"
   ]
  },
  {
   "cell_type": "code",
   "execution_count": 49,
   "id": "mighty-compromise",
   "metadata": {},
   "outputs": [],
   "source": [
    "# Domain functions\n",
    "\n",
    "def outside_circle(x_pos, y_pos, R):\n",
    "    \n",
    "    def circle(x, y):\n",
    "        \n",
    "        if (x-x_pos)**2 + (y-y_pos)**2 > R**2:\n",
    "            return True\n",
    "        else:\n",
    "            return False\n",
    "    \n",
    "    return circle\n",
    "\n",
    "def inside_circle(x_pos, y_pos, R):\n",
    "    \n",
    "    def circle(x, y):\n",
    "        \n",
    "        if (x-x_pos)**2 + (y-y_pos)**2 < R**2:\n",
    "            return True\n",
    "        else:\n",
    "            return False\n",
    "    \n",
    "    return circle\n",
    "\n",
    "def outside_box(x1, x2, y1, y2):\n",
    "    \"\"\"\n",
    "    x1 < x2 & y1 < y2\n",
    "    \"\"\"\n",
    "\n",
    "    def box(x, y):\n",
    "        \n",
    "        return ~((x > x1) & (x < x2) & (y > y1) & (y < y2))\n",
    "    \n",
    "    return box\n",
    "\n",
    "def guitar_sides(Lx, Ly):\n",
    "    angle = np.pi/6\n",
    "    p = angle/(np.pi/2)\n",
    "    x1 = 2*Ly/6 + 2*Ly/6 * np.sin(angle)\n",
    "    y1 = 2*Ly/6 - 2*Ly/6 * np.cos(angle)\n",
    "    x2 = Lx - Ly/4 - Ly/4 * np.sin(angle)\n",
    "    y2 = 2*Ly/6 - Ly/4 * np.cos(angle)\n",
    "    a, b, c, d = create_polynomial(x1, y1, x2, y2, p)\n",
    "    \n",
    "    def sides(x, y):\n",
    "        Y_val = a*x**3 + b*x**2 + c*x + d\n",
    "        return ~((x > x1) & (x < x2) & (y > Y_val) & (y < -Y_val+Ly))\n",
    "\n",
    "    return sides"
   ]
  },
  {
   "cell_type": "code",
   "execution_count": 51,
   "id": "under-crown",
   "metadata": {},
   "outputs": [
    {
     "data": {
      "image/png": "[encoded data removed]",
      "text/plain": [
       "<Figure size 432x288 with 1 Axes>"
      ]
     },
     "metadata": {
      "needs_background": "light"
     },
     "output_type": "display_data"
    }
   ],
   "source": [
    "# Initialise the problem\n",
    "FEM_Guitar = FEM_Problem(mesh)\n",
    "\n",
    "# Materials\n",
    "Base = general_flax()\n",
    "Brace = general_carbon()\n",
    "\n",
    "# Layups\n",
    "# Composite material layup\n",
    "Base_Layup = [0, 0, 0, 0]\n",
    "coating_layup = [0]\n",
    "\n",
    "# Element stiffness matrix for coating and base\n",
    "FEM_Guitar.base_material_Ke(Base, Base_Layup)\n",
    "FEM_Guitar.coating_material_Ke(Brace, coating_layup)\n",
    "\n",
    "\n",
    "# Outside domain\n",
    "circle1 = outside_circle((2*Ly/6), (2*Ly/6), (2*Ly/6))\n",
    "circle2 = outside_circle((2*Ly/6), (4*Ly/6), (2*Ly/6))\n",
    "circle3 = outside_circle((Lx-Ly/4) , 2*Ly/6, Ly/4)\n",
    "circle4 = outside_circle((Lx-Ly/4) , 4*Ly/6, Ly/4)\n",
    "box1 = outside_box(0, Lx, 2*Ly/6, 4*Ly/6)\n",
    "sides = guitar_sides(Lx, Ly)\n",
    "sound_hole = inside_circle(2*Lx/3, Ly/2, Ly/7)\n",
    "\n",
    "def fixed_guitar(x, y):\n",
    "    \"\"\"\n",
    "    Fixed boundary conditions surrounding the guitar\n",
    "    \"\"\"\n",
    "    if np.array([circle1(x,y), circle2(x,y), circle3(x,y), circle4(x,y), box1(x,y), sides(x, y)]).all():\n",
    "        return True\n",
    "    else:\n",
    "        return False\n",
    "    \n",
    "def voided_guitar(x, y):\n",
    "    \"\"\"\n",
    "    Parts where there is no material on the guitar\n",
    "    \"\"\"\n",
    "    if np.array([circle1(x,y), circle2(x,y), circle3(x,y), circle4(x,y), box1(x,y), sides(x, y)]).all():\n",
    "        return True\n",
    "    elif sound_hole(x,y):\n",
    "        return True\n",
    "    else:\n",
    "        return False \n",
    "\n",
    "x = [Lx/3]\n",
    "y = [[8*Ly/20, 12*Ly/20]]\n",
    "force_domain = create_domain(x, y)\n",
    "force = [[100000, 0]]\n",
    "\n",
    "FEM_Guitar.add_fixed_domain(fixed_guitar)\n",
    "FEM_Guitar.add_forces(force, [force_domain])\n",
    "FEM_Guitar.assemble_coated_material_topopt(np.ones(nelx*nely), 2)\n",
    "FEM_Guitar.fix_boundary()\n",
    "FEM_Guitar.plot()"
   ]
  },
  {
   "cell_type": "code",
   "execution_count": 1,
   "id": "executive-dryer",
   "metadata": {},
   "outputs": [
    {
     "ename": "NameError",
     "evalue": "name 'TOPOPT_Problem' is not defined",
     "output_type": "error",
     "traceback": [
      "\u001b[0;31m---------------------------------------------------------------------------\u001b[0m",
      "\u001b[0;31mNameError\u001b[0m                                 Traceback (most recent call last)",
      "\u001b[0;32m<ipython-input-1-44db98a47c66>\u001b[0m in \u001b[0;36m<module>\u001b[0;34m\u001b[0m\n\u001b[0;32m----> 1\u001b[0;31m \u001b[0mTOPOPT_Guitar\u001b[0m \u001b[0;34m=\u001b[0m \u001b[0mTOPOPT_Problem\u001b[0m\u001b[0;34m(\u001b[0m\u001b[0mFEM_Guitar\u001b[0m\u001b[0;34m,\u001b[0m \u001b[0mpenal\u001b[0m\u001b[0;34m=\u001b[0m\u001b[0;36m1\u001b[0m\u001b[0;34m,\u001b[0m \u001b[0mvolfrac\u001b[0m\u001b[0;34m=\u001b[0m\u001b[0;36m0.5\u001b[0m\u001b[0;34m)\u001b[0m\u001b[0;34m\u001b[0m\u001b[0;34m\u001b[0m\u001b[0m\n\u001b[0m\u001b[1;32m      2\u001b[0m \u001b[0mGuitar_0_0\u001b[0m \u001b[0;34m=\u001b[0m \u001b[0mTOPOPT_Guitar\u001b[0m\u001b[0;34m.\u001b[0m\u001b[0msolve_coating_height\u001b[0m\u001b[0;34m(\u001b[0m\u001b[0mconverge\u001b[0m\u001b[0;34m=\u001b[0m\u001b[0;36m0.05\u001b[0m\u001b[0;34m,\u001b[0m \u001b[0mvoid_domain\u001b[0m\u001b[0;34m=\u001b[0m\u001b[0mvoided_guitar\u001b[0m\u001b[0;34m)\u001b[0m\u001b[0;34m\u001b[0m\u001b[0;34m\u001b[0m\u001b[0m\n",
      "\u001b[0;31mNameError\u001b[0m: name 'TOPOPT_Problem' is not defined"
     ]
    }
   ],
   "source": [
    "TOPOPT_Guitar = TOPOPT_Problem(FEM_Guitar, volfrac=0.3)\n",
    "Guitar_0_0 = TOPOPT_Guitar.solve_coating(converge=0.05, void_domain=voided_guitar)"
   ]
  },
  {
   "cell_type": "code",
   "execution_count": 53,
   "id": "noble-license",
   "metadata": {},
   "outputs": [
    {
     "data": {
      "image/png": "[encoded data removed]",
      "text/plain": [
       "<Figure size 432x288 with 1 Axes>"
      ]
     },
     "metadata": {
      "needs_background": "light"
     },
     "output_type": "display_data"
    }
   ],
   "source": [
    "Guitar_0_0.plot()\n",
    "guitar_outline(Lx, Ly)\n"
   ]
  },
  {
   "cell_type": "code",
   "execution_count": 60,
   "id": "prerequisite-cover",
   "metadata": {},
   "outputs": [
    {
     "data": {
      "image/png": "[encoded data removed]",
      "text/plain": [
       "<Figure size 432x288 with 1 Axes>"
      ]
     },
     "metadata": {
      "needs_background": "light"
     },
     "output_type": "display_data"
    }
   ],
   "source": [
    "X = Guitar_0_0.X_solutions[-1]\n",
    "X_final = np.flip(X.reshape(Ly, Lx), axis=0)\n",
    "plt.imshow(X_final, cmap='Greys')\n",
    "plt.xlabel('x')\n",
    "plt.ylabel('y')\n",
    "plt.ylim(0, Ly)\n",
    "plt.xlim(0, Lx)\n",
    "plt.grid('on')\n",
    "guitar_outline(Lx, Ly)\n",
    "plt.show()"
   ]
  },
  {
   "cell_type": "code",
   "execution_count": null,
   "id": "mexican-modern",
   "metadata": {},
   "outputs": [],
   "source": [
    "Guitar_0_90.animate('guitar-0-90')"
   ]
  },
  {
   "cell_type": "code",
   "execution_count": null,
   "id": "polished-district",
   "metadata": {},
   "outputs": [],
   "source": [
    "Guitar_0_90.save('guitar')\n"
   ]
  },
  {
   "cell_type": "code",
   "execution_count": null,
   "id": "intensive-jaguar",
   "metadata": {},
   "outputs": [],
   "source": [
    "TOPOPT_Guitar = TOPOPT_Problem(FEM_Guitar, volfrac=0.1)\n",
    "Guitar_0_0 = TOPOPT_Guitar.solve_coating(converge=0.05, void_domain=voided_guitar)"
   ]
  },
  {
   "cell_type": "code",
   "execution_count": null,
   "id": "framed-concern",
   "metadata": {},
   "outputs": [],
   "source": [
    "Solutions = np.loadtxt('Plane_Stress_Guitar')"
   ]
  },
  {
   "cell_type": "code",
   "execution_count": null,
   "id": "simplified-dutch",
   "metadata": {},
   "outputs": [],
   "source": []
  }
 ],
 "metadata": {
  "kernelspec": {
   "display_name": "Python 3 (ipykernel)",
   "language": "python",
   "name": "python3"
  },
  "language_info": {
   "codemirror_mode": {
    "name": "ipython",
    "version": 3
   },
   "file_extension": ".py",
   "mimetype": "text/x-python",
   "name": "python",
   "nbconvert_exporter": "python",
   "pygments_lexer": "ipython3",
   "version": "3.8.12"
  }
 },
 "nbformat": 4,
 "nbformat_minor": 5
}
