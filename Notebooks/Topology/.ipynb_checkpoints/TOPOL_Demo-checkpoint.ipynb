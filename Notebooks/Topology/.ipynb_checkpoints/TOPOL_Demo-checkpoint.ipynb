{
 "cells": [
  {
   "cell_type": "code",
   "execution_count": 1,
   "id": "absent-aquarium",
   "metadata": {},
   "outputs": [],
   "source": [
    "import sys\n",
    "%load_ext autoreload\n",
    "sys.path.append('..')"
   ]
  },
  {
   "cell_type": "code",
   "execution_count": 3,
   "id": "limited-interest",
   "metadata": {},
   "outputs": [],
   "source": [
    "%autoreload 2\n",
    "from FEMOL import RectangleQuadMesh, FEM_Problem\n",
    "from FEMOL_utils import *\n",
    "import matplotlib.animation as animation\n",
    "from IPython.display import display, clear_output"
   ]
  },
  {
   "cell_type": "markdown",
   "id": "million-bouquet",
   "metadata": {},
   "source": [
    "# Cantilever BeamTopology Optimization With Real Time Plot\n",
    "\n",
    "### Topology optimization variables and mesh"
   ]
  },
  {
   "cell_type": "code",
   "execution_count": 4,
   "id": "miniature-clark",
   "metadata": {},
   "outputs": [
    {
     "data": {
      "image/png": "[encoded data removed]",
      "text/plain": [
       "<Figure size 432x288 with 1 Axes>"
      ]
     },
     "metadata": {
      "needs_background": "light"
     },
     "output_type": "display_data"
    }
   ],
   "source": [
    "nelx = 60 # elements in the x direction\n",
    "nely = 30 # elements in the y direction\n",
    "volfrac = 0.35 # Volume fraction of material\n",
    "penal = 3 # Penalization power\n",
    "\n",
    "# Creating the mesh\n",
    "Lx = nelx\n",
    "Ly = nely\n",
    "\n",
    "mesh = RectangleQuadMesh(Lx, Ly, nelx, nely)\n",
    "mesh.plot()"
   ]
  },
  {
   "cell_type": "markdown",
   "id": "prostate-integrity",
   "metadata": {},
   "source": [
    "## Defining the Cantilever Beam FEM problem"
   ]
  },
  {
   "cell_type": "code",
   "execution_count": 5,
   "id": "plastic-syria",
   "metadata": {},
   "outputs": [
    {
     "data": {
      "image/png": "[encoded data removed]",
      "text/plain": [
       "<Figure size 432x288 with 1 Axes>"
      ]
     },
     "metadata": {
      "needs_background": "light"
     },
     "output_type": "display_data"
    }
   ],
   "source": [
    "# distributing the material to the initial volume fraction\n",
    "X = np.ones(nelx*nely)*volfrac  \n",
    "\n",
    "# Material proprieties\n",
    "material = T300_N5208()\n",
    "\n",
    "# Composite material layup\n",
    "layup = [0, 45, -45, 90, 90, -45, 45, 0]\n",
    "\n",
    "# Creating the FEM Problem\n",
    "Problem = FEM_Problem(mesh, material=material) # initialize the problem\n",
    "Problem.orthotropic_plane_stress_tensor(layup) # Define the stiffness tensor\n",
    "Problem.get_plane_stress_Ke() # Get the element stiffness matrix (constant for every element)\n",
    "\n",
    "# Boundary condition domains :\n",
    "\n",
    "# Fixed nodes on the left side\n",
    "x = [0]\n",
    "y = [[0, Ly/6], [5*Ly/6, Ly]]\n",
    "fixed_domain = create_domain(x, y)\n",
    "\n",
    "# Domain where the down force is applied\n",
    "x = [Lx]\n",
    "y = [[5*Ly/12, 7*Ly/12]]\n",
    "force_domain = create_domain(x, y)\n",
    "\n",
    "# Defining the force\n",
    "force = [[0, -100000]] #  Force = [Fx, Fy]\n",
    "\n",
    "plot_Problem = Problem\n",
    "plot_Problem.assemble_1_material_topopt(X, penal)\n",
    "plot_Problem.fix_boundary(fixed_domain)\n",
    "plot_Problem.add_forces(force, [force_domain])\n",
    "plot_Problem.plot()"
   ]
  },
  {
   "cell_type": "markdown",
   "id": "earlier-gambling",
   "metadata": {},
   "source": [
    "## Solving the topology optimisation problem"
   ]
  },
  {
   "cell_type": "code",
   "execution_count": 6,
   "id": "spread-reservation",
   "metadata": {
    "scrolled": true
   },
   "outputs": [
    {
     "data": {
      "image/png": "[encoded data removed]",
      "text/plain": [
       "<Figure size 432x288 with 1 Axes>"
      ]
     },
     "metadata": {},
     "output_type": "display_data"
    }
   ],
   "source": [
    "loop = 0\n",
    "change = 1\n",
    "fig, ax = plt.subplots()\n",
    "X_solutions = np.array([])\n",
    "\n",
    "while change > 0.01:\n",
    "    loop +=1\n",
    "    Xold = X\n",
    "    Loop_Problem = Problem\n",
    "    Loop_Problem.assemble_1_material_topopt(Xold, penal)\n",
    "    Loop_Problem.fix_boundary(fixed_domain)\n",
    "    Loop_Problem.add_forces(force, [force_domain])\n",
    "    U = Loop_Problem.solve().U\n",
    "    \n",
    "    c, dc = objective_fun(Loop_Problem, mesh, Xold, U, penal)\n",
    "    new_dc = filter_sensibility(mesh, Xold, dc)\n",
    "    X = get_new_x(nelx, nely, Xold, volfrac, new_dc)\n",
    "    \n",
    "    change = np.max(np.abs(X-Xold))\n",
    "    X_solutions = np.append(X_solutions, X)\n",
    "    \n",
    "    X_plot = np.flip(X.reshape(nely, nelx), axis=0)\n",
    "    clear_output(wait=True)\n",
    "    ax.imshow(X_plot, cmap='Greys')\n",
    "    title = \"Iteration : \" + str(loop) + ', variation : ' + str(np.around(change*100, 1))\n",
    "    ax.set_title(title)\n",
    "    display(fig)\n",
    "    plt.pause(0.1)\n",
    "    "
   ]
  },
  {
   "cell_type": "markdown",
   "id": "accompanied-storm",
   "metadata": {},
   "source": [
    "## Animating the results"
   ]
  },
  {
   "cell_type": "code",
   "execution_count": 7,
   "id": "retained-consortium",
   "metadata": {},
   "outputs": [
    {
     "data": {
      "image/png": "[encoded data removed]",
      "text/plain": [
       "<Figure size 432x288 with 1 Axes>"
      ]
     },
     "metadata": {
      "needs_background": "light"
     },
     "output_type": "display_data"
    }
   ],
   "source": [
    "X_solutions_2 = X_solutions.reshape(-1, len(X))\n",
    "animation_from_solutions(X_solutions_2, mesh)"
   ]
  },
  {
   "cell_type": "code",
   "execution_count": null,
   "id": "composite-stamp",
   "metadata": {},
   "outputs": [],
   "source": []
  }
 ],
 "metadata": {
  "kernelspec": {
   "display_name": "FEM",
   "language": "python",
   "name": "fem"
  },
  "language_info": {
   "codemirror_mode": {
    "name": "ipython",
    "version": 3
   },
   "file_extension": ".py",
   "mimetype": "text/x-python",
   "name": "python",
   "nbconvert_exporter": "python",
   "pygments_lexer": "ipython3",
   "version": "3.9.5"
  }
 },
 "nbformat": 4,
 "nbformat_minor": 5
}
