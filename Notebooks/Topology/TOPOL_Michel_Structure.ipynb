{
 "cells": [
  {
   "cell_type": "code",
   "execution_count": 1,
   "id": "absent-aquarium",
   "metadata": {},
   "outputs": [],
   "source": [
    "import os\n",
    "os.chdir('/Users/Olivier/anaconda3/envs/FEM')\n",
    "%load_ext autoreload"
   ]
  },
  {
   "cell_type": "code",
   "execution_count": 2,
   "id": "limited-interest",
   "metadata": {},
   "outputs": [],
   "source": [
    "%autoreload 2\n",
    "from FEMOL import RectangleQuadMesh, FEM_Problem, TOPOPT_Problem\n",
    "from FEMOL_utils import *\n",
    "import matplotlib.animation as animation\n",
    "from IPython.display import display, clear_output"
   ]
  },
  {
   "cell_type": "markdown",
   "id": "million-bouquet",
   "metadata": {},
   "source": [
    "# Cantilever BeamTopology Optimization With Real Time Plot\n",
    "\n",
    "### Topology optimization variables and mesh"
   ]
  },
  {
   "cell_type": "code",
   "execution_count": 3,
   "id": "miniature-clark",
   "metadata": {},
   "outputs": [
    {
     "data": {
      "image/png": "[encoded data removed]",
      "text/plain": [
       "<Figure size 432x288 with 1 Axes>"
      ]
     },
     "metadata": {
      "needs_background": "light"
     },
     "output_type": "display_data"
    }
   ],
   "source": [
    "nelx = 60 # elements in the x direction\n",
    "nely = 40 # elements in the y direction\n",
    "volfrac = 0.35 # Volume fraction of material\n",
    "penal = 3 # Penalization power\n",
    "\n",
    "# Creating the mesh\n",
    "Lx = nelx\n",
    "Ly = nely\n",
    "\n",
    "mesh = RectangleQuadMesh(Lx, Ly, nelx, nely)\n",
    "mesh.plot()"
   ]
  },
  {
   "cell_type": "markdown",
   "id": "prostate-integrity",
   "metadata": {},
   "source": [
    "## Defining the Cantilever Beam FEM problem"
   ]
  },
  {
   "cell_type": "code",
   "execution_count": 5,
   "id": "plastic-syria",
   "metadata": {},
   "outputs": [
    {
     "data": {
      "image/png": "[encoded data removed]",
      "text/plain": [
       "<Figure size 432x288 with 1 Axes>"
      ]
     },
     "metadata": {
      "needs_background": "light"
     },
     "output_type": "display_data"
    }
   ],
   "source": [
    "# distributing the material to the initial volume fraction\n",
    "X = np.ones(nelx*nely)*volfrac  \n",
    "\n",
    "# Creating the FEM Problem\n",
    "Problem = FEM_Problem(mesh) # initialize the problem\n",
    "E = 1\n",
    "nu = 0.3\n",
    "t = 1\n",
    "Problem.isotropic_plane_stress_tensor(E, nu, t) # Define the stiffness tensor\n",
    "Problem.plane_stress_Ke() # Get the element stiffness matrix (constant for every element)\n",
    "\n",
    "# Fixed nodes on the left side\n",
    "\n",
    "def fixed_circle(x, y):\n",
    "    x_pos = Lx/8\n",
    "    y_pos = Ly/2\n",
    "    R = Ly/16\n",
    "    \n",
    "    if (x-x_pos)**2 + (y-y_pos)**2 <= R**2:\n",
    "        return True\n",
    "    else :\n",
    "        return False\n",
    "\n",
    "Problem.add_fixed_domain(fixed_circle)\n",
    "\n",
    "# Domain where the down force is applied\n",
    "x = [[6*Lx/8, 6*Lx/8+1]]\n",
    "y = [[0.48*Ly, 0.52*Ly]]\n",
    "force_domain = create_domain(x, y)\n",
    "\n",
    "# Defining the force\n",
    "force = [0, -1] #  Force = [Fx, Fy]\n",
    "\n",
    "Problem.add_forces(force, force_domain)\n",
    "\n",
    "Problem.assemble_1_material_topopt(X, penal)\n",
    "Problem.fix_boundary()\n",
    "Problem.plot()"
   ]
  },
  {
   "cell_type": "markdown",
   "id": "earlier-gambling",
   "metadata": {},
   "source": [
    "## Solving the topology optimisation problem"
   ]
  },
  {
   "cell_type": "code",
   "execution_count": 7,
   "id": "extensive-broadcast",
   "metadata": {},
   "outputs": [
    {
     "data": {
      "image/png": "[encoded data removed]",
      "text/plain": [
       "<Figure size 432x288 with 1 Axes>"
      ]
     },
     "metadata": {},
     "output_type": "display_data"
    }
   ],
   "source": [
    "TO_Problem = TOPOPT_Problem(Problem, volfrac=0.30)\n",
    "TO_Results = TO_Problem.solve(converge=0.01, solid_domain=fixed_circle)"
   ]
  },
  {
   "cell_type": "code",
   "execution_count": null,
   "id": "worldwide-certificate",
   "metadata": {},
   "outputs": [],
   "source": [
    "TO_Results.plot()"
   ]
  },
  {
   "cell_type": "markdown",
   "id": "accompanied-storm",
   "metadata": {},
   "source": [
    "## Animating the results"
   ]
  },
  {
   "cell_type": "code",
   "execution_count": null,
   "id": "retained-consortium",
   "metadata": {},
   "outputs": [],
   "source": [
    "TO_Results.animate('Michel')"
   ]
  }
 ],
 "metadata": {
  "kernelspec": {
   "display_name": "FEM",
   "language": "python",
   "name": "fem"
  },
  "language_info": {
   "codemirror_mode": {
    "name": "ipython",
    "version": 3
   },
   "file_extension": ".py",
   "mimetype": "text/x-python",
   "name": "python",
   "nbconvert_exporter": "python",
   "pygments_lexer": "ipython3",
   "version": "3.9.5"
  }
 },
 "nbformat": 4,
 "nbformat_minor": 5
}
