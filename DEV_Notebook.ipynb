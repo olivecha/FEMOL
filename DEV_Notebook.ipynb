{
 "cells": [
  {
   "cell_type": "code",
   "execution_count": 3,
   "metadata": {},
   "outputs": [],
   "source": [
    "%load_ext autoreload\n",
    "%config Completer.use_jedi = False"
   ]
  },
  {
   "cell_type": "code",
   "execution_count": 4,
   "metadata": {},
   "outputs": [],
   "source": [
    "%autoreload 2\n",
    "import FEMOL\n",
    "import numpy as np\n",
    "np.set_printoptions(linewidth=200)\n",
    "np.set_printoptions(suppress=True)\n",
    "import matplotlib.pyplot as plt\n"
   ]
  },
  {
   "cell_type": "markdown",
   "metadata": {},
   "source": [
    "# Topology optimization for the fundamental frequency of a vibrating structure\n",
    "\n",
    "## 1. Example problem definition"
   ]
  },
  {
   "cell_type": "code",
   "execution_count": 151,
   "metadata": {},
   "outputs": [
    {
     "name": "stdout",
     "output_type": "stream",
     "text": [
      "solving using scipy\n",
      "solved in :  1.481795072555542  s\n"
     ]
    }
   ],
   "source": [
    "mesh = FEMOL.mesh.rectangle_Q4(20, 20, 15, 15)\n",
    "\n",
    "problem = FEMOL.FEM_Problem(mesh=mesh, physics='modal', model='plate')\n",
    "material1 = FEMOL.materials.isotropic_bending_benchmark()\n",
    "problem.define_materials(material1)\n",
    "problem.define_tensors(1)  # thick=1\n",
    "\n",
    "problem.add_fixed_domain(FEMOL.domains.inside_box([0, 20], [[0, 20]]), ddls=[2, 4])\n",
    "problem.add_fixed_domain(FEMOL.domains.inside_box([[0, 20]], [0, 20]), ddls=[2, 3])\n",
    "\n",
    "problem.add_forces(force=[0, 0, -1, 0, 0, 0], domain=FEMOL.domains.inside_box([[9,11]], [[9,11]]))\n",
    "\n",
    "w, v = problem.solve(filtre=3)\n",
    "reference_vector = v[0]  # Save for MAC Analysis"
   ]
  },
  {
   "cell_type": "markdown",
   "metadata": {},
   "source": [
    "## 2. The optimization problem formulation\n",
    "\n",
    "maximize : $\\; min\\; (\\omega_j^2) \\;\\; j = 1,...,J $\n",
    "\n",
    "with : $\\; \\rho_1, ..., \\rho_{N_E}$ The individual element densities of the problem"
   ]
  },
  {
   "cell_type": "code",
   "execution_count": null,
   "metadata": {},
   "outputs": [],
   "source": []
  }
 ],
 "metadata": {
  "kernelspec": {
   "display_name": "FEMOL",
   "language": "python",
   "name": "femol"
  },
  "language_info": {
   "codemirror_mode": {
    "name": "ipython",
    "version": 3
   },
   "file_extension": ".py",
   "mimetype": "text/x-python",
   "name": "python",
   "nbconvert_exporter": "python",
   "pygments_lexer": "ipython3",
   "version": "3.9.7"
  }
 },
 "nbformat": 4,
 "nbformat_minor": 4
}
