{
 "cells": [
  {
   "cell_type": "code",
   "execution_count": 1,
   "metadata": {},
   "outputs": [],
   "source": [
    "%load_ext autoreload\n",
    "%config Completer.use_jedi = False"
   ]
  },
  {
   "cell_type": "code",
   "execution_count": 5,
   "metadata": {},
   "outputs": [],
   "source": [
    "%autoreload 2\n",
    "import FEMOL\n",
    "import numpy as np\n",
    "np.set_printoptions(linewidth=200)\n",
    "np.set_printoptions(suppress=True)\n",
    "from IPython.display import clear_output\n",
    "import matplotlib.pyplot as plt\n",
    "import matplotlib.tri as tri\n",
    "from scipy.interpolate import interp1d, griddata\n",
    "import matplotlib.cm as colormaps\n",
    "import matplotlib.colors\n",
    "from mpl_toolkits.axes_grid1 import Divider, Size\n",
    "import meshio\n",
    "import time\n",
    "import runpy"
   ]
  },
  {
   "cell_type": "markdown",
   "metadata": {},
   "source": [
    "# Development Notebook for the FEMOL Project"
   ]
  },
  {
   "cell_type": "code",
   "execution_count": 600,
   "metadata": {},
   "outputs": [],
   "source": [
    "# Mean stiffnesses\n",
    "h_vec = mesh.point_data['zc'].copy()\n",
    "h_vec[h_area > mesh.point_data['zc']] = h_vec.min()\n",
    "h_bar = h_vec.mean()\n",
    "\n",
    "# Optimized layup\n",
    "plies = [90, 90]\n",
    "carbon = FEMOL.materials.general_carbon()\n",
    "layup = FEMOL.laminate.Layup(material=carbon, plies=plies, symetric=False, h_core=0, z_core = h_bar + carbon.hi)\n",
    "D_mat_coat = layup.D_mat\n",
    "A_mat_coat = layup.A_mat*0.5\n",
    "flax = FEMOL.materials.general_flax()\n",
    "layup2 = FEMOL.laminate.Layup(material=flax, plies=[0,0,0], symetric=True, h_core=0, z_core=0)\n",
    "D_mat_base = layup2.D_mat\n",
    "A_mat_base = layup2.A_mat\n",
    "\n",
    "# reference layup\n",
    "plies_ref = [90]\n",
    "h_ref = 0.025\n",
    "layup_ref1 = FEMOL.laminate.Layup(material=carbon, plies=plies_ref, symetric=False, h_core=0, z_core = h_ref + carbon.hi/2)\n",
    "D_mat_ref_coat = layup_ref1.D_mat\n",
    "A_mat_ref_coat = layup_ref1.A_mat\n",
    "\n",
    "\n"
   ]
  },
  {
   "cell_type": "code",
   "execution_count": 178,
   "metadata": {},
   "outputs": [
    {
     "name": "stdout",
     "output_type": "stream",
     "text": [
      "solving using scipy\n",
      "solved in :  1.2561848163604736  s\n",
      "No core eigenfrequency :  499.9519787140608\n"
     ]
    }
   ],
   "source": [
    "# Modal Analysis of the reference plate for the case study\n",
    "# dimensions\n",
    "a = 0.201\n",
    "b = 0.201\n",
    "# flax base\n",
    "t_flax = 0.002\n",
    "hi_flax = t_flax/n_plies\n",
    "flax_plies = 6*[0]\n",
    "flax = FEMOL.materials.general_flax()\n",
    "flax.rho = 1130\n",
    "flax.hi = hi_flax\n",
    "flax_lam = FEMOL.laminate.Layup(material=flax, plies=flax_plies, symetric=False, z_core= -0.0036 + flax_lam.h/2)\n",
    "# PLA core\n",
    "infill=0.25\n",
    "PLA = FEMOL.materials.printed_PLA(infill=infill)\n",
    "t_PLA = 0.005\n",
    "# Carbon top layer\n",
    "t_carbon = 0.0002\n",
    "hi_carbon = t_carbon\n",
    "carbon_plies = [90]\n",
    "carbon = FEMOL.materials.general_carbon()\n",
    "carbon.hi = hi_carbon\n",
    "carbon.rho = 1550\n",
    "carbon_plies = [90]\n",
    "carbon_lam = FEMOL.laminate.Layup(material=carbon, plies=carbon_plies, symetric=False, z_core= 0.0036 - carbon.hi/2)\n",
    "\n",
    "# Analysis without consideration for PLA core\n",
    "mesh = FEMOL.mesh.rectangle_Q4(a, b, 15, 15)\n",
    "problem = FEMOL.FEM_Problem(mesh=mesh, physics='modal', model='plate')\n",
    "problem.define_materials(flax, carbon)\n",
    "problem.define_tensors(flax_lam, carbon_lam)\n",
    "w, v = problem.solve(filtre=0)\n",
    "\n",
    "ind = np.argmax([FEMOL.utils.MAC(ref_vector, vi) for vi in v])\n",
    "print('No core eigenfrequency : ', w[ind])"
   ]
  },
  {
   "cell_type": "code",
   "execution_count": null,
   "metadata": {},
   "outputs": [],
   "source": []
  }
 ],
 "metadata": {
  "kernelspec": {
   "display_name": "Python 3 (ipykernel)",
   "language": "python",
   "name": "python3"
  },
  "language_info": {
   "codemirror_mode": {
    "name": "ipython",
    "version": 3
   },
   "file_extension": ".py",
   "mimetype": "text/x-python",
   "name": "python",
   "nbconvert_exporter": "python",
   "pygments_lexer": "ipython3",
   "version": "3.9.7"
  }
 },
 "nbformat": 4,
 "nbformat_minor": 4
}
