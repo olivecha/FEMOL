{
 "cells": [
  {
   "cell_type": "code",
   "execution_count": 3,
   "metadata": {},
   "outputs": [],
   "source": [
    "%load_ext autoreload\n",
    "%config Completer.use_jedi = False"
   ]
  },
  {
   "cell_type": "code",
   "execution_count": 4,
   "metadata": {},
   "outputs": [],
   "source": [
    "%autoreload 2\n",
    "import FEMOL\n",
    "import numpy as np\n",
    "np.set_printoptions(linewidth=200)\n",
    "np.set_printoptions(suppress=True)\n",
    "from IPython.display import clear_output\n",
    "import matplotlib.pyplot as plt\n",
    "from scipy.interpolate import interp1d, griddata, interp2d, RectBivariateSpline\n",
    "import time\n",
    "import runpy\n",
    "import os\n",
    "import sys\n",
    "import pygmsh"
   ]
  },
  {
   "cell_type": "markdown",
   "metadata": {},
   "source": [
    "# Development Notebook for the FEMOL Project"
   ]
  },
  {
   "cell_type": "code",
   "execution_count": 317,
   "metadata": {},
   "outputs": [],
   "source": [
    "def highest_key(msh):\n",
    "    for i in range(1, 100):\n",
    "        if f'm{i}_Uz' in msh.point_data.keys():\n",
    "            pass\n",
    "        else:\n",
    "            return f'm{i-1}_Uz'\n",
    "        \n",
    "def TOM_improvement(mesh_files, eigvals_files):\n",
    "    fig, axs = plt.subplots(9, 3, figsize=(6, 18))\n",
    "\n",
    "    for i, msh_f in enumerate(mesh_files):\n",
    "        msh = FEMOL.mesh.load_vtk(msh_f)\n",
    "        eigs = np.load(eigvals_files[i])\n",
    "        plt.sca(axs[i][0])\n",
    "        msh.plot.point_data('m1_Uz')\n",
    "        mode = msh_f[33:36]\n",
    "        layup = '[' + '/'.join((msh_f[37:-4].split('_'))) + ']'\n",
    "        axs[i][0].set_title(f'eig: {int(np.round(eigs[0]))}')\n",
    "        plt.sca(axs[i][1])\n",
    "        msh.cell_to_point_data('X')\n",
    "        msh.plot.point_data('X', cmap='Greys')\n",
    "        FEMOL.utils.guitar_outline2(L=1)\n",
    "        axs[i][1].set_title(f'{layup}, mode {mode}')\n",
    "        plt.sca(axs[i][2])\n",
    "        key = highest_key(msh)\n",
    "        msh.plot.point_data(key)\n",
    "        axs[i][2].set_title(f'eig:{int(np.round(eigs[-1]))}' )\n",
    "    \n",
    "    "
   ]
  },
  {
   "cell_type": "code",
   "execution_count": null,
   "metadata": {},
   "outputs": [],
   "source": []
  }
 ],
 "metadata": {
  "kernelspec": {
   "display_name": "Python 3 (ipykernel)",
   "language": "python",
   "name": "python3"
  },
  "language_info": {
   "codemirror_mode": {
    "name": "ipython",
    "version": 3
   },
   "file_extension": ".py",
   "mimetype": "text/x-python",
   "name": "python",
   "nbconvert_exporter": "python",
   "pygments_lexer": "ipython3",
   "version": "3.9.7"
  }
 },
 "nbformat": 4,
 "nbformat_minor": 4
}
