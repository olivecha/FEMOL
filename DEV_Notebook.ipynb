{
 "cells": [
  {
   "cell_type": "code",
   "execution_count": 1,
   "metadata": {},
   "outputs": [],
   "source": [
    "%load_ext autoreload\n",
    "%config Completer.use_jedi = False"
   ]
  },
  {
   "cell_type": "code",
   "execution_count": 2,
   "metadata": {},
   "outputs": [],
   "source": [
    "%autoreload 2\n",
    "import FEMOL\n",
    "import numpy as np\n",
    "np.set_printoptions(linewidth=200)\n",
    "np.set_printoptions(suppress=True)\n",
    "import matplotlib.pyplot as plt\n"
   ]
  },
  {
   "cell_type": "markdown",
   "metadata": {},
   "source": [
    "# Topology optimization for the fundamental frequency of a vibrating structure\n",
    "\n",
    "## 1. Example problem definition"
   ]
  },
  {
   "cell_type": "code",
   "execution_count": 3,
   "metadata": {},
   "outputs": [
    {
     "name": "stdout",
     "output_type": "stream",
     "text": [
      "solving using scipy\n",
      "solved in :  1.8448398113250732  s\n"
     ]
    }
   ],
   "source": [
    "mesh = FEMOL.mesh.rectangle_Q4(20, 20, 15, 15)\n",
    "\n",
    "problem = FEMOL.FEM_Problem(mesh=mesh, physics='modal', model='plate')\n",
    "material1 = FEMOL.materials.isotropic_bending_benchmark()\n",
    "problem.define_materials(material1)\n",
    "problem.define_tensors(1)  # thick=1\n",
    "\n",
    "problem.add_fixed_domain(FEMOL.domains.inside_box([0, 20], [[0, 20]]), ddls=[2, 4])\n",
    "problem.add_fixed_domain(FEMOL.domains.inside_box([[0, 20]], [0, 20]), ddls=[2, 3])\n",
    "\n",
    "problem.add_forces(force=[0, 0, -1, 0, 0, 0], domain=FEMOL.domains.inside_box([[9,11]], [[9,11]]))\n",
    "\n",
    "problem.assemble('K')\n",
    "problem.assemble('M')\n",
    "\n",
    "w, v = problem.solve(filtre=1)\n",
    "reference_vector = v[0]  # Save for MAC Analysis"
   ]
  },
  {
   "cell_type": "code",
   "execution_count": 4,
   "metadata": {},
   "outputs": [
    {
     "data": {
      "image/png": "[encoded data removed]",
      "text/plain": [
       "<Figure size 432x288 with 1 Axes>"
      ]
     },
     "metadata": {
      "needs_background": "light"
     },
     "output_type": "display_data"
    }
   ],
   "source": [
    "mesh.add_mode('m', v[0], 6)\n",
    "mesh.plot.point_data('m_Uz')"
   ]
  },
  {
   "cell_type": "markdown",
   "metadata": {},
   "source": [
    "## 2. The optimization problem formulation\n",
    "\n",
    "### Optimization problem constraints\n",
    "\n",
    "maximize : $\\; min\\; (\\omega_j^2) \\;\\; j = 1,...,J $\n",
    "\n",
    "with : $\\; \\rho_1, ..., \\rho_{N_E}$ The individual element densities of the problem\n",
    "\n",
    "and : $j = 1,...,J$ The vibration modes of the structure\n",
    "\n",
    "Subject to :\n",
    "\n",
    "The eigenvalue theorem : \n",
    "\n",
    "$ K \\phi_j = \\omega_j^2 M \\phi_j \\; \\; j = 1, ..., J$\n",
    "\n",
    "The orthogonality criteria :\n",
    "\n",
    "$ \\phi_j^T M \\phi_k = \\delta_{jk}, \\; \\; j \\geq k, \\;\\; kj = 1,...,J$\n",
    "\n",
    "Where : $\\delta_{jk} = 1$ if $i=k$ and $0$ if $j \\neq k$\n",
    "\n",
    "The Volume constraint :\n",
    "\n",
    "$\\sum_{e=1}^{N_e} \\; \\rho_e V_e - V^* \\leq 0$ and $V^* = \\alpha V_0$\n",
    "\n",
    "Where : $\\alpha$ is the volume fraction constraint and $V_0$ is the domain volume\n",
    "\n",
    "And the admissible density values :\n",
    "\n",
    "$0 < \\rho_{min} \\leq \\rho_e \\leq 1$ for $e = 1, ..., N_e$\n",
    "\n",
    "Here, $\\rho_{min}$ represents the admissible lower bound to the element density (typically $10^{-3}$)"
   ]
  },
  {
   "cell_type": "markdown",
   "metadata": {},
   "source": [
    "### Sensitivity Analysis\n",
    "\n",
    "The sensibility of the eigenvalue is given by $\\frac{\\partial \\lambda_j}{\\partial \\rho_e}$ where $\\lambda_j = \\omega_j^2$ is obtained by differentiating the eigenvalue theorem with respect to $\\rho_e$ :\n",
    "\n"
   ]
  },
  {
   "cell_type": "code",
   "execution_count": null,
   "metadata": {},
   "outputs": [
    {
     "name": "stdout",
     "output_type": "stream",
     "text": [
      "Python 3.8.12 (default, Oct 12 2021, 06:23:56) \n",
      "[Clang 10.0.0 ] :: Anaconda, Inc. on darwin\n",
      "Type \"help\", \"copyright\", \"credits\" or \"license\" for more information.\n",
      ">>> "
     ]
    }
   ],
   "source": [
    "# Computing desing variable sensitivity\n",
    "!python "
   ]
  },
  {
   "cell_type": "code",
   "execution_count": 37,
   "metadata": {},
   "outputs": [
    {
     "data": {
      "text/plain": [
       "45"
      ]
     },
     "execution_count": 37,
     "metadata": {},
     "output_type": "execute_result"
    }
   ],
   "source": [
    "3*15"
   ]
  },
  {
   "cell_type": "code",
   "execution_count": 38,
   "metadata": {},
   "outputs": [
    {
     "name": "stdout",
     "output_type": "stream",
     "text": [
      "solving with scipy\n"
     ]
    },
    {
     "data": {
      "image/png": "[encoded data removed]",
      "text/plain": [
       "<Figure size 432x288 with 1 Axes>"
      ]
     },
     "metadata": {
      "needs_background": "light"
     },
     "output_type": "display_data"
    }
   ],
   "source": [
    "import FEMOL\n",
    "\n",
    "# Mesh\n",
    "nelx = 45 # elements in the x direction\n",
    "nely = 35 # elements in the y direction\n",
    "Lx = nelx\n",
    "Ly = nely\n",
    "mesh = FEMOL.mesh.rectangle_Q4(Lx, Ly, nelx, nely)\n",
    "\n",
    "# FEM Problem\n",
    "problem = FEMOL.FEM_Problem('displacement', 'plate', mesh)\n",
    "\n",
    "# Define the composite material layups and materials\n",
    "flax_base = FEMOL.materials.general_flax()\n",
    "layup_base = FEMOL.laminate.Layup(flax_base, plies=[0, 90, 0, 90])\n",
    "carbon_coating = FEMOL.materials.general_carbon()\n",
    "layup_coating = FEMOL.laminate.Layup(carbon_coating, plies=[0, -45, 90, 45], h_core=10)\n",
    "problem.define_materials(flax_base, carbon_coating)\n",
    "problem.define_tensors(layup_base, layup_coating)\n",
    "\n",
    "# Fix the guitar boundary\n",
    "problem.add_fixed_domain(FEMOL.domains.guitar_domain(Lx=Lx, Ly=Ly), ddls=[0, 1, 2])\n",
    "\n",
    "# define the string tension\n",
    "force_domain = FEMOL.domains.inside_box([Lx/3], [[8*Ly/20, 12*Ly/20]])\n",
    "force = [0, 0, 0, -1e4, 0, 0]\n",
    "problem.add_forces(force, force_domain)\n",
    "\n",
    "mesh = problem.solve()\n",
    "mesh.plot.point_data('Uz', wrapped=True)"
   ]
  },
  {
   "cell_type": "code",
   "execution_count": 39,
   "metadata": {},
   "outputs": [],
   "source": [
    "def guitar_sides(Lx, Ly):\n",
    "    angle = np.pi / 6\n",
    "    p = angle / (np.pi / 2)\n",
    "    x1 = 2 * Ly / 6 + 2 * Ly / 6 * np.sin(angle)\n",
    "    y1 = 2 * Ly / 6 - 2 * Ly / 6 * np.cos(angle)\n",
    "    x2 = Lx - Ly / 4 - Ly / 4 * np.sin(angle)\n",
    "    y2 = 2 * Ly / 6 - Ly / 4 * np.cos(angle)\n",
    "    a, b, c, d = FEMOL.domains.create_polynomial(x1, y1, x2, y2, p)\n",
    "\n",
    "    def sides(x, y):\n",
    "        Y_val = a * x ** 3 + b * x ** 2 + c * x + d\n",
    "        return ~((x > x1) & (x < x2) & (y > Y_val) & (y < -Y_val + Ly))\n",
    "\n",
    "    return sides"
   ]
  },
  {
   "cell_type": "code",
   "execution_count": 40,
   "metadata": {},
   "outputs": [],
   "source": [
    "# Part where no material can be added\n",
    "# Outside domain\n",
    "circle1 = FEMOL.domains.outside_circle((2*Ly/6), (2*Ly/6), (2*Ly/6))\n",
    "circle2 = FEMOL.domains.outside_circle((2*Ly/6), (4*Ly/6), (2*Ly/6))\n",
    "circle3 = FEMOL.domains.outside_circle((Lx-Ly/4) , 2*Ly/6, Ly/4)\n",
    "circle4 = FEMOL.domains.outside_circle((Lx-Ly/4) , 4*Ly/6, Ly/4)\n",
    "box1 = FEMOL.domains.outside_box(0, Lx, 2*Ly/6, 4*Ly/6)\n",
    "sides = guitar_sides(Lx, Ly)\n",
    "sound_hole = FEMOL.domains.inside_circle(2*Lx/3, Ly/2, Ly/7)\n",
    "\n",
    "def voided_guitar(x, y):\n",
    "    \"\"\"\n",
    "    Parts where there is no material on the guitar\n",
    "    \"\"\"\n",
    "    if np.array([circle1(x,y), circle2(x,y), circle3(x,y), circle4(x,y), box1(x,y), sides(x, y)]).all():\n",
    "        return True\n",
    "    elif sound_hole(x,y):\n",
    "        return True\n",
    "    else:\n",
    "        return False \n"
   ]
  },
  {
   "cell_type": "code",
   "execution_count": null,
   "metadata": {},
   "outputs": [
    {
     "data": {
      "image/png": "[encoded data removed]",
      "text/plain": [
       "<Figure size 432x288 with 1 Axes>"
      ]
     },
     "metadata": {
      "needs_background": "light"
     },
     "output_type": "display_data"
    }
   ],
   "source": [
    "topo_problem = FEMOL.TOPOPT_Problem(problem, volfrac=0.2, penal=3)\n",
    "topo_problem.void_domain = voided_guitar\n",
    "mesh = topo_problem.solve(plot=True)"
   ]
  },
  {
   "cell_type": "code",
   "execution_count": 32,
   "metadata": {},
   "outputs": [
    {
     "data": {
      "image/png": "[encoded data removed]",
      "text/plain": [
       "<Figure size 432x288 with 1 Axes>"
      ]
     },
     "metadata": {
      "needs_background": "light"
     },
     "output_type": "display_data"
    }
   ],
   "source": [
    "FEMOL.utils.guitar_outline(Lx+1, Ly+2)\n",
    "mesh.plot.cell_data('X', )"
   ]
  },
  {
   "cell_type": "code",
   "execution_count": null,
   "metadata": {},
   "outputs": [],
   "source": []
  }
 ],
 "metadata": {
  "kernelspec": {
   "display_name": "Python 3 (ipykernel)",
   "language": "python",
   "name": "python3"
  },
  "language_info": {
   "codemirror_mode": {
    "name": "ipython",
    "version": 3
   },
   "file_extension": ".py",
   "mimetype": "text/x-python",
   "name": "python",
   "nbconvert_exporter": "python",
   "pygments_lexer": "ipython3",
   "version": "3.8.12"
  }
 },
 "nbformat": 4,
 "nbformat_minor": 4
}
