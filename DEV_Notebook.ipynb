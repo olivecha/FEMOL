{
 "cells": [
  {
   "cell_type": "code",
   "execution_count": 2,
   "metadata": {},
   "outputs": [],
   "source": [
    "%load_ext autoreload\n",
    "%config Completer.use_jedi = False"
   ]
  },
  {
   "cell_type": "code",
   "execution_count": 945,
   "metadata": {},
   "outputs": [],
   "source": [
    "%autoreload 2\n",
    "import FEMOL\n",
    "import numpy as np\n",
    "np.set_printoptions(linewidth=200)\n",
    "np.set_printoptions(suppress=True)\n",
    "import matplotlib.pyplot as plt\n",
    "from scipy.interpolate import interp1d, griddata\n",
    "import meshio"
   ]
  },
  {
   "cell_type": "markdown",
   "metadata": {},
   "source": [
    "# Development Notebook for the FEMOL Project"
   ]
  },
  {
   "cell_type": "code",
   "execution_count": 902,
   "metadata": {},
   "outputs": [
    {
     "name": "stdout",
     "output_type": "stream",
     "text": [
      "solving using scipy\n",
      "solved in :  14.486409187316895  s\n"
     ]
    }
   ],
   "source": [
    "# Square mesh\n",
    "mesh = FEMOL.mesh.rectangle_Q4(1, 1, 25, 25)\n",
    "# laminates and materials\n",
    "plies1 = [0, 0, 0, 0]\n",
    "plies2 = [90, 90]\n",
    "flax = FEMOL.materials.general_flax()\n",
    "carbon = FEMOL.materials.general_carbon()\n",
    "layup1 = FEMOL.laminate.Layup(material=flax, plies=plies1, symetric=True)\n",
    "layup2 = FEMOL.laminate.Layup(material=carbon, plies=plies2, symetric=False, h_core=0, z_core= 0.05 + carbon.hi)\n",
    "# FEM problem definition\n",
    "problem = FEMOL.FEM_Problem(mesh=mesh, physics='modal', model='plate')\n",
    "problem.define_materials(flax, carbon)\n",
    "problem.define_tensors(layup1, layup2)  # thick=1\n",
    "# First modal solve\n",
    "w, v = problem.solve(filtre=0)\n"
   ]
  },
  {
   "cell_type": "code",
   "execution_count": 905,
   "metadata": {},
   "outputs": [
    {
     "data": {
      "image/png": "[encoded data removed]",
      "text/plain": [
       "<Figure size 432x288 with 1 Axes>"
      ]
     },
     "metadata": {
      "needs_background": "light"
     },
     "output_type": "display_data"
    }
   ],
   "source": [
    "mesh.add_mode('m', v[3], 6)\n",
    "mesh.wrap('m')\n",
    "mesh.plot.point_data('m_Uz')\n",
    "ref_vector = v[3]"
   ]
  },
  {
   "cell_type": "code",
   "execution_count": 907,
   "metadata": {},
   "outputs": [
    {
     "data": {
      "image/png": "[encoded data removed]",
      "text/plain": [
       "<Figure size 432x288 with 1 Axes>"
      ]
     },
     "metadata": {
      "needs_background": "light"
     },
     "output_type": "display_data"
    }
   ],
   "source": [
    "# solve the SIMP problem\n",
    "SIMP = FEMOL.SIMP_VIBE(Problem=problem, objective='max eig')\n",
    "mesh = SIMP.solve(ref_vector, save=False, plot=True, converge=0.03)\n",
    "\n"
   ]
  },
  {
   "cell_type": "code",
   "execution_count": 908,
   "metadata": {},
   "outputs": [],
   "source": [
    "mesh.save('TOM_modal_90_90_mode0')"
   ]
  },
  {
   "cell_type": "code",
   "execution_count": 932,
   "metadata": {},
   "outputs": [],
   "source": [
    "values = np.hstack([val for val in mesh.cell_data['zc'].values()])\n",
    "points = np.hstack([pts for pts in mesh.cell_centers.values()])\n",
    "X = griddata(points, values, mesh.points[:, :2], method='linear')\n",
    "X[np.isnan(X)] = 0"
   ]
  },
  {
   "cell_type": "code",
   "execution_count": 933,
   "metadata": {},
   "outputs": [
    {
     "data": {
      "image/png": "[encoded data removed]",
      "text/plain": [
       "<Figure size 432x288 with 1 Axes>"
      ]
     },
     "metadata": {
      "needs_background": "light"
     },
     "output_type": "display_data"
    }
   ],
   "source": [
    "mesh.point_data['zc'] = X\n",
    "mesh.plot.point_data('zc')"
   ]
  },
  {
   "cell_type": "code",
   "execution_count": 964,
   "metadata": {},
   "outputs": [],
   "source": [
    "mesh.points[:,2] = mesh.point_data['zc']"
   ]
  },
  {
   "cell_type": "code",
   "execution_count": 966,
   "metadata": {},
   "outputs": [
    {
     "data": {
      "text/plain": [
       "(1352, 3)"
      ]
     },
     "execution_count": 966,
     "metadata": {},
     "output_type": "execute_result"
    }
   ],
   "source": [
    "points2 = mesh.points.copy()\n",
    "points2[:, 2] = 0.\n",
    "points = np.vstack([mesh.points, points2])\n",
    "points.shape"
   ]
  },
  {
   "cell_type": "code",
   "execution_count": 1001,
   "metadata": {},
   "outputs": [],
   "source": [
    "tris2 = mesh.plot.all_tris.copy()\n",
    "tris2[:, 1:] = np.flip(mesh.plot.all_tris[:, 1:], axis=1)\n",
    "tris2 += tris2.max() + 1\n",
    "all_tris = np.vstack([mesh.plot.all_tris, tris2])\n",
    "cells_list = [('triangle', all_tris)]\n",
    "meshio_mesh = meshio.Mesh(points/5, cells_list)"
   ]
  },
  {
   "cell_type": "code",
   "execution_count": 1002,
   "metadata": {},
   "outputs": [],
   "source": [
    "meshio_mesh.write('Case_study_core.stl')"
   ]
  },
  {
   "cell_type": "code",
   "execution_count": 1036,
   "metadata": {},
   "outputs": [],
   "source": [
    "mesh_ref = FEMOL.mesh.rectangle_T3(1, 1, 1, 1)\n",
    "points3 = mesh_ref.points.copy()\n",
    "mesh_ref.points[:, 2] = 0.025\n",
    "all_points = np.vstack([mesh_ref.points, points3])\n",
    "cells = mesh_ref.all_cells.copy()\n",
    "cells[:, 1:] = np.flip(mesh_ref.all_cells[:, 1:], axis=1)\n",
    "cells += cells.max() + 1\n",
    "wall_cells = np.array([[4, 5, 0], \n",
    "                       [5, 1, 0],\n",
    "                       [5, 7, 1],\n",
    "                       [7, 3, 1], \n",
    "                       [6, 3, 7],\n",
    "                       [6, 2, 3],\n",
    "                       [4, 2, 6],\n",
    "                       [4, 0 ,2]])\n",
    "\n",
    "all_cells = np.vstack([mesh_ref.all_cells, cells, wall_cells])\n",
    "meshio_mesh = meshio.Mesh(all_points/5, [('triangle', all_cells.astype(int))])\n",
    "meshio_mesh.write('reference_study_core.stl')"
   ]
  },
  {
   "cell_type": "code",
   "execution_count": 1034,
   "metadata": {},
   "outputs": [
    {
     "data": {
      "image/png": "[encoded data removed]",
      "text/plain": [
       "<Figure size 432x288 with 1 Axes>"
      ]
     },
     "metadata": {
      "needs_background": "light"
     },
     "output_type": "display_data"
    }
   ],
   "source": [
    "mesh_ref.display(plot_nodes=True)"
   ]
  },
  {
   "cell_type": "code",
   "execution_count": 1027,
   "metadata": {},
   "outputs": [
    {
     "data": {
      "text/plain": [
       "array([[0.   , 0.   , 0.025],\n",
       "       [1.   , 0.   , 0.025],\n",
       "       [0.   , 1.   , 0.025],\n",
       "       [1.   , 1.   , 0.025],\n",
       "       [0.   , 0.   , 0.   ],\n",
       "       [1.   , 0.   , 0.   ],\n",
       "       [0.   , 1.   , 0.   ],\n",
       "       [1.   , 1.   , 0.   ]])"
      ]
     },
     "execution_count": 1027,
     "metadata": {},
     "output_type": "execute_result"
    }
   ],
   "source": [
    "cell = [4, 2, 6]\n",
    "cell = [4, 0 ,2]\n",
    "cell = \n",
    "cell = \n",
    "all_points"
   ]
  },
  {
   "cell_type": "code",
   "execution_count": null,
   "metadata": {},
   "outputs": [],
   "source": []
  }
 ],
 "metadata": {
  "kernelspec": {
   "display_name": "Python 3 (ipykernel)",
   "language": "python",
   "name": "python3"
  },
  "language_info": {
   "codemirror_mode": {
    "name": "ipython",
    "version": 3
   },
   "file_extension": ".py",
   "mimetype": "text/x-python",
   "name": "python",
   "nbconvert_exporter": "python",
   "pygments_lexer": "ipython3",
   "version": "3.9.7"
  }
 },
 "nbformat": 4,
 "nbformat_minor": 4
}
