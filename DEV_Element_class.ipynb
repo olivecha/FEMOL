{
 "cells": [
  {
   "cell_type": "code",
   "execution_count": 2,
   "metadata": {},
   "outputs": [],
   "source": [
    "%load_ext autoreload\n",
    "%config Completer.use_jedi = False"
   ]
  },
  {
   "cell_type": "code",
   "execution_count": 3,
   "metadata": {},
   "outputs": [],
   "source": [
    "%autoreload 2\n",
    "import FEMOL\n",
    "import numpy as np\n",
    "np.set_printoptions(linewidth=200)\n",
    "np.set_printoptions(suppress=True)\n",
    "import matplotlib.pyplot as plt\n"
   ]
  },
  {
   "cell_type": "markdown",
   "metadata": {},
   "source": [
    "# Development Notebook for the FEMOL Project"
   ]
  },
  {
   "cell_type": "code",
   "execution_count": 59,
   "metadata": {},
   "outputs": [],
   "source": [
    "class Element(object):\n",
    "    \n",
    "    N_nodes = 0\n",
    "    \n",
    "    @staticmethod\n",
    "    def shape(xi, eta):\n",
    "        return xi -eta\n",
    "    \n",
    "    def __init__(self, points, Ndof):\n",
    "        self.x, self.y = points.transpose()[:2]\n",
    "        self.N_dof = Ndof\n",
    "        self.size = Ndof*self.N_nodes\n",
    "        \n",
    "    def shape(self, x, y):\n",
    "        return x - self.x[0] + y - self.y[0]\n",
    "    \n",
    "    def Ke(self):\n",
    "        return np.array([[self.x[0], 0],[0, self.y[0]]])\n",
    "        "
   ]
  },
  {
   "cell_type": "code",
   "execution_count": 60,
   "metadata": {},
   "outputs": [],
   "source": [
    "class T2(Element):\n",
    "    \n",
    "    N_nodes = 2\n",
    "    \n",
    "    @staticmethod\n",
    "    def shape(xi, eta):\n",
    "        return xi + eta\n",
    "    \n",
    "    def __init__(self, points, Ndof):\n",
    "        super().__init__(points, Ndof)\n",
    "        \n",
    "    def shapexy(self, x, y):\n",
    "        return (self.x[0] + x) * (self.y[0] + y)"
   ]
  },
  {
   "cell_type": "code",
   "execution_count": 19,
   "metadata": {},
   "outputs": [
    {
     "name": "stdout",
     "output_type": "stream",
     "text": [
      "solving using scipy\n",
      "solved in :  0.21208500862121582  s\n",
      "solving using scipy\n",
      "solved in :  0.1258230209350586  s\n",
      "True\n",
      "True\n"
     ]
    }
   ],
   "source": [
    "# Circle mesh with R = 0.5 and ~25 ** 2 elements\n",
    "R = 0.5  # m\n",
    "N_ele = 10\n",
    "mesh = FEMOL.mesh.circle_Q4(R, N_ele)\n",
    "\n",
    "# Problem definition\n",
    "thickness = 0.005\n",
    "aluminium = FEMOL.materials.IsotropicMaterial(71e9, 0.33, 2700)\n",
    "\n",
    "# Create a FEM Problem from the mesh (compute displacement with a plate bending model)\n",
    "problem1 = FEMOL.FEM_Problem(mesh=mesh, physics='modal', model='plane')\n",
    "problem2 = FEMOL.FEM_Problem(mesh=mesh, physics='modal', model='plane')\n",
    "\n",
    "problem1.define_materials(aluminium, aluminium)\n",
    "problem1.define_tensors(thickness/2, thickness/2)\n",
    "\n",
    "problem2.define_materials(aluminium)\n",
    "problem2.define_tensors(thickness)\n",
    "\n",
    "circle_domain = FEMOL.domains.outside_circle(0, 0, R - 0.005)\n",
    "\n",
    "# Fix all the degrees of freedom\n",
    "problem1.add_fixed_domain(circle_domain)\n",
    "problem2.add_fixed_domain(circle_domain)\n",
    "\n",
    "# Solve the eigenvalue problem and store the frequencies\n",
    "w1, _ = problem1.solve(filtre=2)\n",
    "w2, _ = problem2.solve(filtre=2)\n",
    "\n",
    "print(np.allclose(w1[:10], w2[:10]))\n",
    "print(np.allclose(problem1.M.toarray(), problem2.M.toarray()))"
   ]
  },
  {
   "cell_type": "code",
   "execution_count": null,
   "metadata": {},
   "outputs": [],
   "source": []
  }
 ],
 "metadata": {
  "kernelspec": {
   "display_name": "Python 3 (ipykernel)",
   "language": "python",
   "name": "python3"
  },
  "language_info": {
   "codemirror_mode": {
    "name": "ipython",
    "version": 3
   },
   "file_extension": ".py",
   "mimetype": "text/x-python",
   "name": "python",
   "nbconvert_exporter": "python",
   "pygments_lexer": "ipython3",
   "version": "3.9.7"
  }
 },
 "nbformat": 4,
 "nbformat_minor": 4
}
