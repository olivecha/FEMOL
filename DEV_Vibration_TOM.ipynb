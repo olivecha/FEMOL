{
 "cells": [
  {
   "cell_type": "code",
   "execution_count": 1,
   "metadata": {},
   "outputs": [],
   "source": [
    "%load_ext autoreload\n",
    "%config Completer.use_jedi = False"
   ]
  },
  {
   "cell_type": "code",
   "execution_count": 2,
   "metadata": {},
   "outputs": [],
   "source": [
    "%autoreload 2\n",
    "import FEMOL\n",
    "import numpy as np\n",
    "np.set_printoptions(linewidth=200)\n",
    "np.set_printoptions(suppress=True)\n",
    "import matplotlib.pyplot as plt\n"
   ]
  },
  {
   "cell_type": "markdown",
   "metadata": {},
   "source": [
    "# Topology optimization for the fundamental frequency of a vibrating structure\n",
    "\n",
    "## 1. Example problem definition"
   ]
  },
  {
   "cell_type": "code",
   "execution_count": 3,
   "metadata": {},
   "outputs": [
    {
     "name": "stdout",
     "output_type": "stream",
     "text": [
      "solving using scipy\n",
      "solved in :  23.27745795249939  s\n"
     ]
    }
   ],
   "source": [
    "mesh = FEMOL.mesh.rectangle_Q4(20, 20, 25, 25)\n",
    "\n",
    "problem = FEMOL.FEM_Problem(mesh=mesh, physics='modal', model='plate')\n",
    "material1 = FEMOL.materials.isotropic_bending_benchmark()\n",
    "problem.define_materials(material1)\n",
    "problem.define_tensors(1)  # thick=1\n",
    "\n",
    "problem.add_fixed_domain(FEMOL.domains.inside_box([0, 20], [[0, 20]]), ddls=[2, 4])\n",
    "problem.add_fixed_domain(FEMOL.domains.inside_box([[0, 20]], [0, 20]), ddls=[2, 3])\n",
    "\n",
    "problem.add_forces(force=[0, 0, -1, 0, 0, 0], domain=FEMOL.domains.inside_box([[9,11]], [[9,11]]))\n",
    "\n",
    "problem.assemble('K')\n",
    "problem.assemble('M')\n",
    "\n",
    "w, v = problem.solve(filtre=1)\n",
    "reference_vector = v[0]  # Save for MAC Analysis"
   ]
  },
  {
   "cell_type": "code",
   "execution_count": 4,
   "metadata": {},
   "outputs": [
    {
     "data": {
      "image/png": "[encoded data removed]",
      "text/plain": [
       "<Figure size 432x288 with 1 Axes>"
      ]
     },
     "metadata": {
      "needs_background": "light"
     },
     "output_type": "display_data"
    }
   ],
   "source": [
    "mesh.add_mode('m', v[0], 6)\n",
    "mesh.plot.point_data('m_Uz')"
   ]
  },
  {
   "cell_type": "markdown",
   "metadata": {},
   "source": [
    "## 2. The optimization problem formulation\n",
    "\n",
    "### Optimization problem constraints\n",
    "\n",
    "maximize : $\\; min\\; (\\omega_j^2) \\;\\; j = 1,...,J $\n",
    "\n",
    "with : $\\; \\rho_1, ..., \\rho_{N_E}$ The individual element densities of the problem\n",
    "\n",
    "and : $j = 1,...,J$ The vibration modes of the structure\n",
    "\n",
    "Subject to :\n",
    "\n",
    "The eigenvalue theorem : \n",
    "\n",
    "$ K \\phi_j = \\omega_j^2 M \\phi_j \\; \\; j = 1, ..., J$\n",
    "\n",
    "The orthogonality criteria :\n",
    "\n",
    "$ \\phi_j^T M \\phi_k = \\delta_{jk}, \\; \\; j \\geq k, \\;\\; kj = 1,...,J$\n",
    "\n",
    "Where : $\\delta_{jk} = 1$ if $i=k$ and $0$ if $j \\neq k$\n",
    "\n",
    "The Volume constraint :\n",
    "\n",
    "$\\sum_{e=1}^{N_e} \\; \\rho_e V_e - V^* \\leq 0$ and $V^* = \\alpha V_0$\n",
    "\n",
    "Where : $\\alpha$ is the volume fraction constraint and $V_0$ is the domain volume\n",
    "\n",
    "And the admissible density values :\n",
    "\n",
    "$0 < \\rho_{min} \\leq \\rho_e \\leq 1$ for $e = 1, ..., N_e$\n",
    "\n",
    "Here, $\\rho_{min}$ represents the admissible lower bound to the element density (typically $10^{-3}$)"
   ]
  },
  {
   "cell_type": "markdown",
   "metadata": {},
   "source": [
    "### Sensitivity Analysis\n",
    "\n",
    "The sensibility of the eigenvalue is given by $\\frac{\\partial \\lambda_j}{\\partial \\rho_e}$ where $\\lambda_j = \\omega_j^2$ is obtained by differentiating the eigenvalue theorem with respect to $\\rho_e$ :\n",
    "\n"
   ]
  },
  {
   "cell_type": "code",
   "execution_count": null,
   "metadata": {},
   "outputs": [
    {
     "data": {
      "image/png": "[encoded data removed]",
      "text/plain": [
       "<Figure size 432x288 with 1 Axes>"
      ]
     },
     "metadata": {
      "needs_background": "light"
     },
     "output_type": "display_data"
    }
   ],
   "source": [
    "SIMP = FEMOL.SIMP_VIBE(problem)\n",
    "mesh = SIMP.solve(v[0])"
   ]
  },
  {
   "cell_type": "code",
   "execution_count": null,
   "metadata": {},
   "outputs": [],
   "source": []
  }
 ],
 "metadata": {
  "kernelspec": {
   "display_name": "Python 3 (ipykernel)",
   "language": "python",
   "name": "python3"
  },
  "language_info": {
   "codemirror_mode": {
    "name": "ipython",
    "version": 3
   },
   "file_extension": ".py",
   "mimetype": "text/x-python",
   "name": "python",
   "nbconvert_exporter": "python",
   "pygments_lexer": "ipython3",
   "version": "3.8.12"
  }
 },
 "nbformat": 4,
 "nbformat_minor": 4
}
